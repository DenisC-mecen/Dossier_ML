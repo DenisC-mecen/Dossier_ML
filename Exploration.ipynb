{
 "cells": [
  {
   "cell_type": "code",
   "execution_count": 1,
   "metadata": {},
   "outputs": [],
   "source": [
    "from requests import get\n",
    "import re\n",
    "import bs4"
   ]
  },
  {
   "cell_type": "code",
   "execution_count": 2,
   "metadata": {},
   "outputs": [],
   "source": [
    "chemin = \"https://www.programme-television.org/audiences/02-09-2014\""
   ]
  },
  {
   "cell_type": "code",
   "execution_count": 3,
   "metadata": {},
   "outputs": [],
   "source": [
    "page = get(chemin)"
   ]
  },
  {
   "cell_type": "code",
   "execution_count": 4,
   "metadata": {},
   "outputs": [
    {
     "data": {
      "text/plain": [
       "200"
      ]
     },
     "execution_count": 4,
     "metadata": {},
     "output_type": "execute_result"
    }
   ],
   "source": [
    "page.status_code"
   ]
  },
  {
   "cell_type": "code",
   "execution_count": 5,
   "metadata": {},
   "outputs": [],
   "source": [
    "texte = page.text"
   ]
  },
  {
   "cell_type": "code",
   "execution_count": 6,
   "metadata": {},
   "outputs": [],
   "source": [
    "arbre = bs4.BeautifulSoup(texte, \"lxml\")"
   ]
  },
  {
   "cell_type": "code",
   "execution_count": 7,
   "metadata": {},
   "outputs": [],
   "source": [
    "arbre.findAll?"
   ]
  },
  {
   "cell_type": "markdown",
   "metadata": {},
   "source": [
    "## On commence par le numéro du logo\n",
    "Chaque logo correspond à une chaîne"
   ]
  },
  {
   "cell_type": "code",
   "execution_count": 8,
   "metadata": {},
   "outputs": [],
   "source": [
    "logo = arbre.find(\"span\", {\"class\" : \"logo\"})"
   ]
  },
  {
   "cell_type": "code",
   "execution_count": 9,
   "metadata": {},
   "outputs": [
    {
     "name": "stdout",
     "output_type": "stream",
     "text": [
      "<span class=\"logo\"><a class=\"logochaine logo35 c_35_192\" href=\"#\"></a></span>\n"
     ]
    }
   ],
   "source": [
    "print(logo)"
   ]
  },
  {
   "cell_type": "code",
   "execution_count": 34,
   "metadata": {},
   "outputs": [],
   "source": [
    "logo = str(logo) #converti en chaîne de caractère"
   ]
  },
  {
   "cell_type": "code",
   "execution_count": 35,
   "metadata": {},
   "outputs": [
    {
     "name": "stdout",
     "output_type": "stream",
     "text": [
      "35_192\n"
     ]
    }
   ],
   "source": [
    "print(logo[49:55]) #logo de TF1"
   ]
  },
  {
   "cell_type": "markdown",
   "metadata": {},
   "source": [
    "Avec un if, on pourra convertir nom du logo en nom de chaîne."
   ]
  },
  {
   "cell_type": "markdown",
   "metadata": {},
   "source": [
    "## Part de marché"
   ]
  },
  {
   "cell_type": "code",
   "execution_count": 74,
   "metadata": {},
   "outputs": [],
   "source": [
    "pdm = arbre.findAll(\"em\", {\"style\" : \"display: none;\"})"
   ]
  },
  {
   "cell_type": "code",
   "execution_count": 75,
   "metadata": {},
   "outputs": [
    {
     "name": "stdout",
     "output_type": "stream",
     "text": [
      "[<em style=\"display: none;\">31.7%</em>, <em style=\"display: none;\">13.7%</em>, <em style=\"display: none;\">12.4%</em>, <em style=\"display: none;\">11.6%</em>, <em style=\"display: none;\">4.9%</em>, <em style=\"display: none;\">3.4%</em>, <em style=\"display: none;\">3.1%</em>, <em style=\"display: none;\">2.2%</em>, <em style=\"display: none;\">1.5%</em>, <em style=\"display: none;\">1.3%</em>, <em style=\"display: none;\">1.2%</em>, <em style=\"display: none;\">1.0%</em>, <em style=\"display: none;\">0.8%</em>, <em style=\"display: none;\">0.8%</em>, <em style=\"display: none;\">0.7%</em>, <em style=\"display: none;\">0.5%</em>, <em style=\"display: none;\">0.4%</em>, <em style=\"display: none;\">0.3%</em>, <em style=\"display: none;\">0.2%</em>]\n"
     ]
    }
   ],
   "source": [
    "print(pdm)"
   ]
  },
  {
   "cell_type": "code",
   "execution_count": 76,
   "metadata": {},
   "outputs": [
    {
     "data": {
      "text/plain": [
       "19"
      ]
     },
     "execution_count": 76,
     "metadata": {},
     "output_type": "execute_result"
    }
   ],
   "source": [
    "len(pdm)"
   ]
  },
  {
   "cell_type": "markdown",
   "metadata": {},
   "source": [
    "On a bien 19 chaînes."
   ]
  },
  {
   "cell_type": "code",
   "execution_count": 77,
   "metadata": {},
   "outputs": [
    {
     "name": "stdout",
     "output_type": "stream",
     "text": [
      "<em style=\"display: none;\">31.7%</em>\n"
     ]
    }
   ],
   "source": [
    "pdm0 = pdm[0]\n",
    "print(pdm0)"
   ]
  },
  {
   "cell_type": "code",
   "execution_count": 84,
   "metadata": {},
   "outputs": [
    {
     "name": "stdout",
     "output_type": "stream",
     "text": [
      "31.7\n"
     ]
    }
   ],
   "source": [
    "pdm0 = str(pdm0)\n",
    "print(pdm0[27:31])"
   ]
  },
  {
   "cell_type": "code",
   "execution_count": 85,
   "metadata": {},
   "outputs": [
    {
     "name": "stdout",
     "output_type": "stream",
     "text": [
      "<em style=\"display: none;\">0.2%</em>\n"
     ]
    }
   ],
   "source": [
    "pdm18 = pdm[18]\n",
    "print(pdm18)"
   ]
  },
  {
   "cell_type": "code",
   "execution_count": 86,
   "metadata": {},
   "outputs": [
    {
     "name": "stdout",
     "output_type": "stream",
     "text": [
      "0.2%\n"
     ]
    }
   ],
   "source": [
    "pdm18 = str(pdm18)\n",
    "print(pdm18[27:31])"
   ]
  },
  {
   "cell_type": "markdown",
   "metadata": {},
   "source": [
    "## Logos de toute la page"
   ]
  },
  {
   "cell_type": "code",
   "execution_count": 146,
   "metadata": {},
   "outputs": [],
   "source": [
    "logo = []\n",
    "logos = arbre.findAll(\"span\", {\"class\" : \"logo\"})\n",
    "logos = logos[0:19]\n",
    "for i in range(len(logos)):\n",
    "    a = str(logos[i])\n",
    "    logo.append(a[49:56])"
   ]
  },
  {
   "cell_type": "code",
   "execution_count": 147,
   "metadata": {},
   "outputs": [
    {
     "name": "stdout",
     "output_type": "stream",
     "text": [
      "['35_192\"', '35_80\" ', '35_118\"', '35_4\" h', '35_195\"', '35_47\" ', '35_445\"', '35_119\"', '35_446\"', '35_111\"', '35_78\" ', '35_444\"', '35_458\"', '35_160\"', '35_482\"', '35_1402', '35_1404', '35_1400', '35_1403']\n"
     ]
    }
   ],
   "source": [
    "print(logo)"
   ]
  },
  {
   "cell_type": "markdown",
   "metadata": {},
   "source": [
    "## Pdm de toute la page"
   ]
  },
  {
   "cell_type": "code",
   "execution_count": 149,
   "metadata": {},
   "outputs": [],
   "source": [
    "pdm = []\n",
    "pdms = arbre.findAll(\"em\", {\"style\" : \"display: none;\"})\n",
    "for i in range(len(pdms)):\n",
    "    a = str(pdms[i])\n",
    "    pdm.append(a[27:31])"
   ]
  },
  {
   "cell_type": "code",
   "execution_count": 150,
   "metadata": {},
   "outputs": [
    {
     "name": "stdout",
     "output_type": "stream",
     "text": [
      "['31.7', '13.7', '12.4', '11.6', '4.9%', '3.4%', '3.1%', '2.2%', '1.5%', '1.3%', '1.2%', '1.0%', '0.8%', '0.8%', '0.7%', '0.5%', '0.4%', '0.3%', '0.2%']\n"
     ]
    }
   ],
   "source": [
    "print(pdm)"
   ]
  },
  {
   "cell_type": "code",
   "execution_count": null,
   "metadata": {},
   "outputs": [],
   "source": []
  }
 ],
 "metadata": {
  "kernelspec": {
   "display_name": "Python 3",
   "language": "python",
   "name": "python3"
  },
  "language_info": {
   "codemirror_mode": {
    "name": "ipython",
    "version": 3
   },
   "file_extension": ".py",
   "mimetype": "text/x-python",
   "name": "python",
   "nbconvert_exporter": "python",
   "pygments_lexer": "ipython3",
   "version": "3.6.5"
  }
 },
 "nbformat": 4,
 "nbformat_minor": 2
}
