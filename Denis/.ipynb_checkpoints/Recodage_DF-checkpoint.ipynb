{
 "cells": [
  {
   "cell_type": "code",
   "execution_count": 1,
   "metadata": {},
   "outputs": [],
   "source": [
    "import pandas as pd"
   ]
  },
  {
   "cell_type": "code",
   "execution_count": 2,
   "metadata": {},
   "outputs": [],
   "source": [
    "resultat = pd.read_csv(\"TV7Jours.csv\")\n",
    "#Data frame par chaîne\n",
    "D01 = resultat.loc[resultat['Chaine']==\"TF1\",:]\n",
    "D02 = resultat.loc[resultat['Chaine']==\"France 3\",:]\n",
    "D03 = resultat.loc[resultat['Chaine']==\"M6\",:]\n",
    "D04 = resultat.loc[resultat['Chaine']==\"France 2\",:]\n",
    "D05 = resultat.loc[resultat['Chaine']==\"TMC\",:]\n",
    "D06 = resultat.loc[resultat['Chaine']==\"France 5\",:]\n",
    "D07 = resultat.loc[resultat['Chaine']==\"C8\",:]\n",
    "D08 = resultat.loc[resultat['Chaine']==\"W9\",:]\n",
    "D09 = resultat.loc[resultat['Chaine']==\"TFX\",:]\n",
    "D10 = resultat.loc[resultat['Chaine']==\"Arte\",:]\n",
    "D11 = resultat.loc[resultat['Chaine']==\"France 4\",:]\n",
    "D12 = resultat.loc[resultat['Chaine']==\"NRJ 12\",:]\n",
    "D13 = resultat.loc[resultat['Chaine']==\"C Star\",:]\n",
    "D14 = resultat.loc[resultat['Chaine']==\"France O\",:]\n",
    "D15 = resultat.loc[resultat['Chaine']==\"Gulli\",:]\n",
    "D16 = resultat.loc[resultat['Chaine']==\"RMC Story\",:]\n",
    "D17 = resultat.loc[resultat['Chaine']==\"TF1 Series\",:]\n",
    "D18 = resultat.loc[resultat['Chaine']==\"RMC Decouverte\",:]\n",
    "D19 = resultat.loc[resultat['Chaine']==\"6ter\",:]"
   ]
  },
  {
   "cell_type": "code",
   "execution_count": 56,
   "metadata": {},
   "outputs": [],
   "source": [
    "fusion = pd.merge(D01,D04,on=\"Date\")\n",
    "fusion = pd.merge(fusion,D03,on=\"Date\")"
   ]
  },
  {
   "cell_type": "code",
   "execution_count": 57,
   "metadata": {},
   "outputs": [],
   "source": [
    "fusion.rename(columns={'Part_de_marche_x': 'Pdm_TF1',\n",
    "                       'Part_de_marche_y': 'Pdm_Fr2',\n",
    "                       'Part_de_marche': 'Pdm_M6'},\n",
    "              inplace=True)"
   ]
  },
  {
   "cell_type": "code",
   "execution_count": 58,
   "metadata": {},
   "outputs": [
    {
     "data": {
      "text/html": [
       "<div>\n",
       "<style scoped>\n",
       "    .dataframe tbody tr th:only-of-type {\n",
       "        vertical-align: middle;\n",
       "    }\n",
       "\n",
       "    .dataframe tbody tr th {\n",
       "        vertical-align: top;\n",
       "    }\n",
       "\n",
       "    .dataframe thead th {\n",
       "        text-align: right;\n",
       "    }\n",
       "</style>\n",
       "<table border=\"1\" class=\"dataframe\">\n",
       "  <thead>\n",
       "    <tr style=\"text-align: right;\">\n",
       "      <th></th>\n",
       "      <th>Date</th>\n",
       "      <th>Pdm_TF1</th>\n",
       "      <th>Pdm_Fr2</th>\n",
       "      <th>Pdm_M6</th>\n",
       "    </tr>\n",
       "  </thead>\n",
       "  <tbody>\n",
       "    <tr>\n",
       "      <th>0</th>\n",
       "      <td>02 septembre 2014</td>\n",
       "      <td>31.7</td>\n",
       "      <td>11.6</td>\n",
       "      <td>12.4</td>\n",
       "    </tr>\n",
       "    <tr>\n",
       "      <th>1</th>\n",
       "      <td>03 septembre 2014</td>\n",
       "      <td>27.8</td>\n",
       "      <td>12.0</td>\n",
       "      <td>11.8</td>\n",
       "    </tr>\n",
       "    <tr>\n",
       "      <th>2</th>\n",
       "      <td>04 septembre 2014</td>\n",
       "      <td>28.2</td>\n",
       "      <td>10.2</td>\n",
       "      <td>10.9</td>\n",
       "    </tr>\n",
       "    <tr>\n",
       "      <th>3</th>\n",
       "      <td>07 septembre 2014</td>\n",
       "      <td>23.2</td>\n",
       "      <td>11.6</td>\n",
       "      <td>15.5</td>\n",
       "    </tr>\n",
       "    <tr>\n",
       "      <th>4</th>\n",
       "      <td>08 septembre 2014</td>\n",
       "      <td>20.6</td>\n",
       "      <td>18.7</td>\n",
       "      <td>26.8</td>\n",
       "    </tr>\n",
       "  </tbody>\n",
       "</table>\n",
       "</div>"
      ],
      "text/plain": [
       "                Date Pdm_TF1 Pdm_Fr2 Pdm_M6\n",
       "0  02 septembre 2014    31.7    11.6   12.4\n",
       "1  03 septembre 2014    27.8    12.0   11.8\n",
       "2  04 septembre 2014    28.2    10.2   10.9\n",
       "3  07 septembre 2014    23.2    11.6   15.5\n",
       "4  08 septembre 2014    20.6    18.7   26.8"
      ]
     },
     "execution_count": 58,
     "metadata": {},
     "output_type": "execute_result"
    }
   ],
   "source": [
    "data = fusion.drop(fusion.columns[[0,2,4,5,7,8]], axis='columns')\n",
    "data.head()"
   ]
  },
  {
   "cell_type": "code",
   "execution_count": 59,
   "metadata": {},
   "outputs": [
    {
     "data": {
      "text/html": [
       "<div>\n",
       "<style scoped>\n",
       "    .dataframe tbody tr th:only-of-type {\n",
       "        vertical-align: middle;\n",
       "    }\n",
       "\n",
       "    .dataframe tbody tr th {\n",
       "        vertical-align: top;\n",
       "    }\n",
       "\n",
       "    .dataframe thead th {\n",
       "        text-align: right;\n",
       "    }\n",
       "</style>\n",
       "<table border=\"1\" class=\"dataframe\">\n",
       "  <thead>\n",
       "    <tr style=\"text-align: right;\">\n",
       "      <th></th>\n",
       "      <th>Date</th>\n",
       "      <th>Pdm_TF1</th>\n",
       "      <th>Pdm_Fr2</th>\n",
       "      <th>Pdm_M6</th>\n",
       "    </tr>\n",
       "  </thead>\n",
       "  <tbody>\n",
       "    <tr>\n",
       "      <th>1885</th>\n",
       "      <td>21 novembre 2019</td>\n",
       "      <td>29.2</td>\n",
       "      <td>12.1</td>\n",
       "      <td>7.8</td>\n",
       "    </tr>\n",
       "    <tr>\n",
       "      <th>1886</th>\n",
       "      <td>22 novembre 2019</td>\n",
       "      <td>24.1</td>\n",
       "      <td>19.6</td>\n",
       "      <td>9.5</td>\n",
       "    </tr>\n",
       "    <tr>\n",
       "      <th>1887</th>\n",
       "      <td>23 novembre 2019</td>\n",
       "      <td>16.1</td>\n",
       "      <td>12.6</td>\n",
       "      <td>10.7</td>\n",
       "    </tr>\n",
       "    <tr>\n",
       "      <th>1888</th>\n",
       "      <td>24 novembre 2019</td>\n",
       "      <td>24.2</td>\n",
       "      <td>10.1</td>\n",
       "      <td>8.9</td>\n",
       "    </tr>\n",
       "    <tr>\n",
       "      <th>1889</th>\n",
       "      <td>25 novembre 2019</td>\n",
       "      <td>27.0</td>\n",
       "      <td>9.6</td>\n",
       "      <td>14.8</td>\n",
       "    </tr>\n",
       "  </tbody>\n",
       "</table>\n",
       "</div>"
      ],
      "text/plain": [
       "                  Date Pdm_TF1 Pdm_Fr2 Pdm_M6\n",
       "1885  21 novembre 2019    29.2    12.1    7.8\n",
       "1886  22 novembre 2019    24.1    19.6    9.5\n",
       "1887  23 novembre 2019    16.1    12.6   10.7\n",
       "1888  24 novembre 2019    24.2    10.1    8.9\n",
       "1889  25 novembre 2019    27.0     9.6   14.8"
      ]
     },
     "execution_count": 59,
     "metadata": {},
     "output_type": "execute_result"
    }
   ],
   "source": [
    "data.tail()"
   ]
  },
  {
   "cell_type": "code",
   "execution_count": null,
   "metadata": {},
   "outputs": [],
   "source": []
  },
  {
   "cell_type": "code",
   "execution_count": null,
   "metadata": {},
   "outputs": [],
   "source": []
  }
 ],
 "metadata": {
  "kernelspec": {
   "display_name": "Python 3",
   "language": "python",
   "name": "python3"
  },
  "language_info": {
   "codemirror_mode": {
    "name": "ipython",
    "version": 3
   },
   "file_extension": ".py",
   "mimetype": "text/x-python",
   "name": "python",
   "nbconvert_exporter": "python",
   "pygments_lexer": "ipython3",
   "version": "3.6.5"
  }
 },
 "nbformat": 4,
 "nbformat_minor": 2
}
