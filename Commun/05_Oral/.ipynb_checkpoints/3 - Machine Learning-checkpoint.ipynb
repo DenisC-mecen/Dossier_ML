{
 "cells": [
  {
   "cell_type": "markdown",
   "metadata": {},
   "source": [
    "# Partie Machine Learning"
   ]
  },
  {
   "cell_type": "markdown",
   "metadata": {},
   "source": [
    "Dans cette partie, nous cherchons à construire un modèle prédisant le type de programme que les chaînes vont diffuser.\n",
    "\n",
    "Nous commençons par supprimer les données manquantes.\n",
    "\n",
    "Ensuite, nous réalisons quelques statistiques descriptives pour appréhendez nos données.\n",
    "\n",
    "Enfin, nous construisons différents modèles afin de trouver le meilleur."
   ]
  },
  {
   "cell_type": "markdown",
   "metadata": {},
   "source": [
    "## Gestion des données manquantes"
   ]
  },
  {
   "cell_type": "markdown",
   "metadata": {},
   "source": [
    "Nous supprimons les données manquantes concernant les variables du type du premier et du deuxième programme, le type étant la variable que nous cherchons à expliquer. \n",
    "\n",
    "Puis nous supprimons les données manquantes de la variable `Part de marché` puisque ces données manquantes correspondent en réalité à une part de marché inférieure à 1%.\n",
    "Nous pouvons nous permettre de supprimer ces données puisqu'après suppression, nous disposons encore de **30980 observations**."
   ]
  },
  {
   "cell_type": "code",
   "execution_count": 1,
   "metadata": {},
   "outputs": [],
   "source": [
    "import pandas as pd\n",
    "import numpy as np\n",
    "import matplotlib.pyplot as plt\n",
    "import Stats"
   ]
  },
  {
   "cell_type": "code",
   "execution_count": 2,
   "metadata": {},
   "outputs": [
    {
     "data": {
      "text/html": [
       "<div>\n",
       "<style scoped>\n",
       "    .dataframe tbody tr th:only-of-type {\n",
       "        vertical-align: middle;\n",
       "    }\n",
       "\n",
       "    .dataframe tbody tr th {\n",
       "        vertical-align: top;\n",
       "    }\n",
       "\n",
       "    .dataframe thead th {\n",
       "        text-align: right;\n",
       "    }\n",
       "</style>\n",
       "<table border=\"1\" class=\"dataframe\">\n",
       "  <thead>\n",
       "    <tr style=\"text-align: right;\">\n",
       "      <th></th>\n",
       "      <th>Date</th>\n",
       "      <th>Jour</th>\n",
       "      <th>Chaine</th>\n",
       "      <th>Heure_prgm1</th>\n",
       "      <th>Titre_prgm1</th>\n",
       "      <th>Type_prgm1</th>\n",
       "      <th>Duree_prgm1</th>\n",
       "      <th>Nbre_episodes_prgm1</th>\n",
       "      <th>Age_conseille_prgm1</th>\n",
       "      <th>Heure_prgm2</th>\n",
       "      <th>Titre_prgm2</th>\n",
       "      <th>Type_prgm2</th>\n",
       "      <th>Duree_prgm2</th>\n",
       "      <th>Nbre_episodes_prgm2</th>\n",
       "      <th>Age_conseille_prgm2</th>\n",
       "      <th>Part_de_marche</th>\n",
       "      <th>Annee</th>\n",
       "      <th>Mois</th>\n",
       "      <th>Week end</th>\n",
       "    </tr>\n",
       "  </thead>\n",
       "  <tbody>\n",
       "    <tr>\n",
       "      <th>0</th>\n",
       "      <td>08 octobre 2014</td>\n",
       "      <td>mercredi</td>\n",
       "      <td>TF1</td>\n",
       "      <td>20.55</td>\n",
       "      <td>Blacklist</td>\n",
       "      <td>Serie TV</td>\n",
       "      <td>110.0</td>\n",
       "      <td>2.0</td>\n",
       "      <td>-10 ans</td>\n",
       "      <td>22.40</td>\n",
       "      <td>Arrow</td>\n",
       "      <td>Serie TV</td>\n",
       "      <td>100.0</td>\n",
       "      <td>3.0</td>\n",
       "      <td>-10 ans</td>\n",
       "      <td>24.0</td>\n",
       "      <td>2014</td>\n",
       "      <td>octobre</td>\n",
       "      <td>0</td>\n",
       "    </tr>\n",
       "    <tr>\n",
       "      <th>1</th>\n",
       "      <td>08 octobre 2014</td>\n",
       "      <td>mercredi</td>\n",
       "      <td>France 2</td>\n",
       "      <td>20.50</td>\n",
       "      <td>Les hommes de l'ombre</td>\n",
       "      <td>Serie TV</td>\n",
       "      <td>120.0</td>\n",
       "      <td>2.0</td>\n",
       "      <td>Tout public</td>\n",
       "      <td>22.40</td>\n",
       "      <td>Un soir à la tour Eiffel</td>\n",
       "      <td>Magazine</td>\n",
       "      <td>100.0</td>\n",
       "      <td>0.0</td>\n",
       "      <td>Tout public</td>\n",
       "      <td>13.0</td>\n",
       "      <td>2014</td>\n",
       "      <td>octobre</td>\n",
       "      <td>0</td>\n",
       "    </tr>\n",
       "    <tr>\n",
       "      <th>2</th>\n",
       "      <td>08 octobre 2014</td>\n",
       "      <td>mercredi</td>\n",
       "      <td>France 3</td>\n",
       "      <td>20.45</td>\n",
       "      <td>Des racines et des ailes</td>\n",
       "      <td>Magazine</td>\n",
       "      <td>115.0</td>\n",
       "      <td>0.0</td>\n",
       "      <td>Tout public</td>\n",
       "      <td>23.36</td>\n",
       "      <td>Le comte Ory</td>\n",
       "      <td>Divertissement</td>\n",
       "      <td>144.0</td>\n",
       "      <td>0.0</td>\n",
       "      <td>Tout public</td>\n",
       "      <td>12.0</td>\n",
       "      <td>2014</td>\n",
       "      <td>octobre</td>\n",
       "      <td>0</td>\n",
       "    </tr>\n",
       "    <tr>\n",
       "      <th>3</th>\n",
       "      <td>08 octobre 2014</td>\n",
       "      <td>mercredi</td>\n",
       "      <td>Canal +</td>\n",
       "      <td>20.55</td>\n",
       "      <td>Diana</td>\n",
       "      <td>Film</td>\n",
       "      <td>110.0</td>\n",
       "      <td>0.0</td>\n",
       "      <td>Tout public</td>\n",
       "      <td>22.45</td>\n",
       "      <td>9 mois ferme</td>\n",
       "      <td>Film</td>\n",
       "      <td>80.0</td>\n",
       "      <td>0.0</td>\n",
       "      <td>Tout public</td>\n",
       "      <td>NaN</td>\n",
       "      <td>2014</td>\n",
       "      <td>octobre</td>\n",
       "      <td>0</td>\n",
       "    </tr>\n",
       "    <tr>\n",
       "      <th>4</th>\n",
       "      <td>08 octobre 2014</td>\n",
       "      <td>mercredi</td>\n",
       "      <td>France 5</td>\n",
       "      <td>20.40</td>\n",
       "      <td>La maison France 5</td>\n",
       "      <td>Magazine</td>\n",
       "      <td>60.0</td>\n",
       "      <td>0.0</td>\n",
       "      <td>Tout public</td>\n",
       "      <td>21.40</td>\n",
       "      <td>Silence, ça pousse !</td>\n",
       "      <td>Magazine</td>\n",
       "      <td>49.0</td>\n",
       "      <td>0.0</td>\n",
       "      <td>Tout public</td>\n",
       "      <td>2.0</td>\n",
       "      <td>2014</td>\n",
       "      <td>octobre</td>\n",
       "      <td>0</td>\n",
       "    </tr>\n",
       "    <tr>\n",
       "      <th>...</th>\n",
       "      <td>...</td>\n",
       "      <td>...</td>\n",
       "      <td>...</td>\n",
       "      <td>...</td>\n",
       "      <td>...</td>\n",
       "      <td>...</td>\n",
       "      <td>...</td>\n",
       "      <td>...</td>\n",
       "      <td>...</td>\n",
       "      <td>...</td>\n",
       "      <td>...</td>\n",
       "      <td>...</td>\n",
       "      <td>...</td>\n",
       "      <td>...</td>\n",
       "      <td>...</td>\n",
       "      <td>...</td>\n",
       "      <td>...</td>\n",
       "      <td>...</td>\n",
       "      <td>...</td>\n",
       "    </tr>\n",
       "    <tr>\n",
       "      <th>48341</th>\n",
       "      <td>31 décembre 2019</td>\n",
       "      <td>NaN</td>\n",
       "      <td>Gulli</td>\n",
       "      <td>NaN</td>\n",
       "      <td>NaN</td>\n",
       "      <td>NaN</td>\n",
       "      <td>NaN</td>\n",
       "      <td>NaN</td>\n",
       "      <td>NaN</td>\n",
       "      <td>NaN</td>\n",
       "      <td>NaN</td>\n",
       "      <td>NaN</td>\n",
       "      <td>NaN</td>\n",
       "      <td>NaN</td>\n",
       "      <td>NaN</td>\n",
       "      <td>0.0</td>\n",
       "      <td>2019</td>\n",
       "      <td>décembre</td>\n",
       "      <td>0</td>\n",
       "    </tr>\n",
       "    <tr>\n",
       "      <th>48342</th>\n",
       "      <td>31 décembre 2019</td>\n",
       "      <td>NaN</td>\n",
       "      <td>C Star</td>\n",
       "      <td>NaN</td>\n",
       "      <td>NaN</td>\n",
       "      <td>NaN</td>\n",
       "      <td>NaN</td>\n",
       "      <td>NaN</td>\n",
       "      <td>NaN</td>\n",
       "      <td>NaN</td>\n",
       "      <td>NaN</td>\n",
       "      <td>NaN</td>\n",
       "      <td>NaN</td>\n",
       "      <td>NaN</td>\n",
       "      <td>NaN</td>\n",
       "      <td>0.0</td>\n",
       "      <td>2019</td>\n",
       "      <td>décembre</td>\n",
       "      <td>0</td>\n",
       "    </tr>\n",
       "    <tr>\n",
       "      <th>48343</th>\n",
       "      <td>31 décembre 2019</td>\n",
       "      <td>NaN</td>\n",
       "      <td>Cherie 25</td>\n",
       "      <td>NaN</td>\n",
       "      <td>NaN</td>\n",
       "      <td>NaN</td>\n",
       "      <td>NaN</td>\n",
       "      <td>NaN</td>\n",
       "      <td>NaN</td>\n",
       "      <td>NaN</td>\n",
       "      <td>NaN</td>\n",
       "      <td>NaN</td>\n",
       "      <td>NaN</td>\n",
       "      <td>NaN</td>\n",
       "      <td>NaN</td>\n",
       "      <td>0.0</td>\n",
       "      <td>2019</td>\n",
       "      <td>décembre</td>\n",
       "      <td>0</td>\n",
       "    </tr>\n",
       "    <tr>\n",
       "      <th>48344</th>\n",
       "      <td>31 décembre 2019</td>\n",
       "      <td>NaN</td>\n",
       "      <td>RMC Story</td>\n",
       "      <td>NaN</td>\n",
       "      <td>NaN</td>\n",
       "      <td>NaN</td>\n",
       "      <td>NaN</td>\n",
       "      <td>NaN</td>\n",
       "      <td>NaN</td>\n",
       "      <td>NaN</td>\n",
       "      <td>NaN</td>\n",
       "      <td>NaN</td>\n",
       "      <td>NaN</td>\n",
       "      <td>NaN</td>\n",
       "      <td>NaN</td>\n",
       "      <td>0.0</td>\n",
       "      <td>2019</td>\n",
       "      <td>décembre</td>\n",
       "      <td>0</td>\n",
       "    </tr>\n",
       "    <tr>\n",
       "      <th>48345</th>\n",
       "      <td>28 juillet 2019</td>\n",
       "      <td>NaN</td>\n",
       "      <td>Gulli</td>\n",
       "      <td>NaN</td>\n",
       "      <td>NaN</td>\n",
       "      <td>NaN</td>\n",
       "      <td>NaN</td>\n",
       "      <td>NaN</td>\n",
       "      <td>NaN</td>\n",
       "      <td>NaN</td>\n",
       "      <td>NaN</td>\n",
       "      <td>NaN</td>\n",
       "      <td>NaN</td>\n",
       "      <td>NaN</td>\n",
       "      <td>NaN</td>\n",
       "      <td>0.0</td>\n",
       "      <td>2019</td>\n",
       "      <td>juillet</td>\n",
       "      <td>0</td>\n",
       "    </tr>\n",
       "  </tbody>\n",
       "</table>\n",
       "<p>48346 rows × 19 columns</p>\n",
       "</div>"
      ],
      "text/plain": [
       "                   Date      Jour     Chaine  Heure_prgm1  \\\n",
       "0       08 octobre 2014  mercredi        TF1        20.55   \n",
       "1       08 octobre 2014  mercredi   France 2        20.50   \n",
       "2       08 octobre 2014  mercredi   France 3        20.45   \n",
       "3       08 octobre 2014  mercredi    Canal +        20.55   \n",
       "4       08 octobre 2014  mercredi   France 5        20.40   \n",
       "...                 ...       ...        ...          ...   \n",
       "48341  31 décembre 2019       NaN      Gulli          NaN   \n",
       "48342  31 décembre 2019       NaN     C Star          NaN   \n",
       "48343  31 décembre 2019       NaN  Cherie 25          NaN   \n",
       "48344  31 décembre 2019       NaN  RMC Story          NaN   \n",
       "48345   28 juillet 2019       NaN      Gulli          NaN   \n",
       "\n",
       "                    Titre_prgm1 Type_prgm1  Duree_prgm1  Nbre_episodes_prgm1  \\\n",
       "0                     Blacklist   Serie TV        110.0                  2.0   \n",
       "1         Les hommes de l'ombre   Serie TV        120.0                  2.0   \n",
       "2      Des racines et des ailes   Magazine        115.0                  0.0   \n",
       "3                         Diana       Film        110.0                  0.0   \n",
       "4            La maison France 5   Magazine         60.0                  0.0   \n",
       "...                         ...        ...          ...                  ...   \n",
       "48341                       NaN        NaN          NaN                  NaN   \n",
       "48342                       NaN        NaN          NaN                  NaN   \n",
       "48343                       NaN        NaN          NaN                  NaN   \n",
       "48344                       NaN        NaN          NaN                  NaN   \n",
       "48345                       NaN        NaN          NaN                  NaN   \n",
       "\n",
       "      Age_conseille_prgm1 Heure_prgm2               Titre_prgm2  \\\n",
       "0                 -10 ans       22.40                     Arrow   \n",
       "1             Tout public       22.40  Un soir à la tour Eiffel   \n",
       "2             Tout public       23.36              Le comte Ory   \n",
       "3             Tout public       22.45              9 mois ferme   \n",
       "4             Tout public       21.40      Silence, ça pousse !   \n",
       "...                   ...         ...                       ...   \n",
       "48341                 NaN         NaN                       NaN   \n",
       "48342                 NaN         NaN                       NaN   \n",
       "48343                 NaN         NaN                       NaN   \n",
       "48344                 NaN         NaN                       NaN   \n",
       "48345                 NaN         NaN                       NaN   \n",
       "\n",
       "           Type_prgm2  Duree_prgm2  Nbre_episodes_prgm2 Age_conseille_prgm2  \\\n",
       "0            Serie TV        100.0                  3.0             -10 ans   \n",
       "1            Magazine        100.0                  0.0         Tout public   \n",
       "2      Divertissement        144.0                  0.0         Tout public   \n",
       "3                Film         80.0                  0.0         Tout public   \n",
       "4            Magazine         49.0                  0.0         Tout public   \n",
       "...               ...          ...                  ...                 ...   \n",
       "48341             NaN          NaN                  NaN                 NaN   \n",
       "48342             NaN          NaN                  NaN                 NaN   \n",
       "48343             NaN          NaN                  NaN                 NaN   \n",
       "48344             NaN          NaN                  NaN                 NaN   \n",
       "48345             NaN          NaN                  NaN                 NaN   \n",
       "\n",
       "       Part_de_marche  Annee      Mois  Week end  \n",
       "0                24.0   2014   octobre         0  \n",
       "1                13.0   2014   octobre         0  \n",
       "2                12.0   2014   octobre         0  \n",
       "3                 NaN   2014   octobre         0  \n",
       "4                 2.0   2014   octobre         0  \n",
       "...               ...    ...       ...       ...  \n",
       "48341             0.0   2019  décembre         0  \n",
       "48342             0.0   2019  décembre         0  \n",
       "48343             0.0   2019  décembre         0  \n",
       "48344             0.0   2019  décembre         0  \n",
       "48345             0.0   2019   juillet         0  \n",
       "\n",
       "[48346 rows x 19 columns]"
      ]
     },
     "execution_count": 2,
     "metadata": {},
     "output_type": "execute_result"
    }
   ],
   "source": [
    "data = pd.read_csv(\"base propre.csv\")\n",
    "data"
   ]
  },
  {
   "cell_type": "code",
   "execution_count": 3,
   "metadata": {},
   "outputs": [
    {
     "data": {
      "text/plain": [
       "Jour                     575\n",
       "Chaine                     6\n",
       "Heure_prgm1              575\n",
       "Titre_prgm1             1264\n",
       "Type_prgm1              1266\n",
       "Duree_prgm1              575\n",
       "Nbre_episodes_prgm1      575\n",
       "Age_conseille_prgm1      575\n",
       "Heure_prgm2              575\n",
       "Titre_prgm2              969\n",
       "Type_prgm2               974\n",
       "Duree_prgm2              575\n",
       "Nbre_episodes_prgm2      575\n",
       "Age_conseille_prgm2      575\n",
       "Part_de_marche         16227\n",
       "Annee                      0\n",
       "Mois                       0\n",
       "Week end                   0\n",
       "dtype: int64"
      ]
     },
     "execution_count": 3,
     "metadata": {},
     "output_type": "execute_result"
    }
   ],
   "source": [
    "data.drop(columns=\"Date\", inplace=True)\n",
    "data.isnull().sum()"
   ]
  },
  {
   "cell_type": "code",
   "execution_count": 4,
   "metadata": {},
   "outputs": [
    {
     "data": {
      "text/plain": [
       "Jour                   0\n",
       "Chaine                 0\n",
       "Heure_prgm1            0\n",
       "Titre_prgm1            0\n",
       "Type_prgm1             0\n",
       "Duree_prgm1            0\n",
       "Nbre_episodes_prgm1    0\n",
       "Age_conseille_prgm1    0\n",
       "Heure_prgm2            0\n",
       "Titre_prgm2            0\n",
       "Type_prgm2             0\n",
       "Duree_prgm2            0\n",
       "Nbre_episodes_prgm2    0\n",
       "Age_conseille_prgm2    0\n",
       "Part_de_marche         0\n",
       "Annee                  0\n",
       "Mois                   0\n",
       "Week end               0\n",
       "dtype: int64"
      ]
     },
     "execution_count": 4,
     "metadata": {},
     "output_type": "execute_result"
    }
   ],
   "source": [
    "data.dropna(subset=(\"Part_de_marche\",\"Type_prgm1\",\"Type_prgm2\"),inplace=True)\n",
    "data.isnull().sum()"
   ]
  },
  {
   "cell_type": "code",
   "execution_count": 5,
   "metadata": {},
   "outputs": [
    {
     "data": {
      "text/html": [
       "<div>\n",
       "<style scoped>\n",
       "    .dataframe tbody tr th:only-of-type {\n",
       "        vertical-align: middle;\n",
       "    }\n",
       "\n",
       "    .dataframe tbody tr th {\n",
       "        vertical-align: top;\n",
       "    }\n",
       "\n",
       "    .dataframe thead th {\n",
       "        text-align: right;\n",
       "    }\n",
       "</style>\n",
       "<table border=\"1\" class=\"dataframe\">\n",
       "  <thead>\n",
       "    <tr style=\"text-align: right;\">\n",
       "      <th></th>\n",
       "      <th>Jour</th>\n",
       "      <th>Chaine</th>\n",
       "      <th>Heure_prgm1</th>\n",
       "      <th>Titre_prgm1</th>\n",
       "      <th>Type_prgm1</th>\n",
       "      <th>Duree_prgm1</th>\n",
       "      <th>Nbre_episodes_prgm1</th>\n",
       "      <th>Age_conseille_prgm1</th>\n",
       "      <th>Heure_prgm2</th>\n",
       "      <th>Titre_prgm2</th>\n",
       "      <th>Type_prgm2</th>\n",
       "      <th>Duree_prgm2</th>\n",
       "      <th>Nbre_episodes_prgm2</th>\n",
       "      <th>Age_conseille_prgm2</th>\n",
       "      <th>Part_de_marche</th>\n",
       "      <th>Annee</th>\n",
       "      <th>Mois</th>\n",
       "      <th>Week end</th>\n",
       "    </tr>\n",
       "  </thead>\n",
       "  <tbody>\n",
       "    <tr>\n",
       "      <th>0</th>\n",
       "      <td>mercredi</td>\n",
       "      <td>TF1</td>\n",
       "      <td>20.55</td>\n",
       "      <td>Blacklist</td>\n",
       "      <td>Serie TV</td>\n",
       "      <td>110.0</td>\n",
       "      <td>2.0</td>\n",
       "      <td>-10 ans</td>\n",
       "      <td>22.40</td>\n",
       "      <td>Arrow</td>\n",
       "      <td>Serie TV</td>\n",
       "      <td>100.0</td>\n",
       "      <td>3.0</td>\n",
       "      <td>-10 ans</td>\n",
       "      <td>24.0</td>\n",
       "      <td>2014</td>\n",
       "      <td>octobre</td>\n",
       "      <td>0</td>\n",
       "    </tr>\n",
       "    <tr>\n",
       "      <th>1</th>\n",
       "      <td>mercredi</td>\n",
       "      <td>France 2</td>\n",
       "      <td>20.50</td>\n",
       "      <td>Les hommes de l'ombre</td>\n",
       "      <td>Serie TV</td>\n",
       "      <td>120.0</td>\n",
       "      <td>2.0</td>\n",
       "      <td>Tout public</td>\n",
       "      <td>22.40</td>\n",
       "      <td>Un soir à la tour Eiffel</td>\n",
       "      <td>Magazine</td>\n",
       "      <td>100.0</td>\n",
       "      <td>0.0</td>\n",
       "      <td>Tout public</td>\n",
       "      <td>13.0</td>\n",
       "      <td>2014</td>\n",
       "      <td>octobre</td>\n",
       "      <td>0</td>\n",
       "    </tr>\n",
       "    <tr>\n",
       "      <th>2</th>\n",
       "      <td>mercredi</td>\n",
       "      <td>France 3</td>\n",
       "      <td>20.45</td>\n",
       "      <td>Des racines et des ailes</td>\n",
       "      <td>Magazine</td>\n",
       "      <td>115.0</td>\n",
       "      <td>0.0</td>\n",
       "      <td>Tout public</td>\n",
       "      <td>23.36</td>\n",
       "      <td>Le comte Ory</td>\n",
       "      <td>Divertissement</td>\n",
       "      <td>144.0</td>\n",
       "      <td>0.0</td>\n",
       "      <td>Tout public</td>\n",
       "      <td>12.0</td>\n",
       "      <td>2014</td>\n",
       "      <td>octobre</td>\n",
       "      <td>0</td>\n",
       "    </tr>\n",
       "    <tr>\n",
       "      <th>4</th>\n",
       "      <td>mercredi</td>\n",
       "      <td>France 5</td>\n",
       "      <td>20.40</td>\n",
       "      <td>La maison France 5</td>\n",
       "      <td>Magazine</td>\n",
       "      <td>60.0</td>\n",
       "      <td>0.0</td>\n",
       "      <td>Tout public</td>\n",
       "      <td>21.40</td>\n",
       "      <td>Silence, ça pousse !</td>\n",
       "      <td>Magazine</td>\n",
       "      <td>49.0</td>\n",
       "      <td>0.0</td>\n",
       "      <td>Tout public</td>\n",
       "      <td>2.0</td>\n",
       "      <td>2014</td>\n",
       "      <td>octobre</td>\n",
       "      <td>0</td>\n",
       "    </tr>\n",
       "    <tr>\n",
       "      <th>5</th>\n",
       "      <td>mercredi</td>\n",
       "      <td>M6</td>\n",
       "      <td>20.50</td>\n",
       "      <td>Le meilleur pâtissier</td>\n",
       "      <td>Divertissement</td>\n",
       "      <td>110.0</td>\n",
       "      <td>0.0</td>\n",
       "      <td>Tout public</td>\n",
       "      <td>22.40</td>\n",
       "      <td>Le meilleur pâtissier : à vos fourneaux !</td>\n",
       "      <td>Divertissement</td>\n",
       "      <td>100.0</td>\n",
       "      <td>0.0</td>\n",
       "      <td>Tout public</td>\n",
       "      <td>12.0</td>\n",
       "      <td>2014</td>\n",
       "      <td>octobre</td>\n",
       "      <td>0</td>\n",
       "    </tr>\n",
       "    <tr>\n",
       "      <th>...</th>\n",
       "      <td>...</td>\n",
       "      <td>...</td>\n",
       "      <td>...</td>\n",
       "      <td>...</td>\n",
       "      <td>...</td>\n",
       "      <td>...</td>\n",
       "      <td>...</td>\n",
       "      <td>...</td>\n",
       "      <td>...</td>\n",
       "      <td>...</td>\n",
       "      <td>...</td>\n",
       "      <td>...</td>\n",
       "      <td>...</td>\n",
       "      <td>...</td>\n",
       "      <td>...</td>\n",
       "      <td>...</td>\n",
       "      <td>...</td>\n",
       "      <td>...</td>\n",
       "    </tr>\n",
       "    <tr>\n",
       "      <th>47740</th>\n",
       "      <td>lundi</td>\n",
       "      <td>6ter</td>\n",
       "      <td>21.05</td>\n",
       "      <td>Rupture pour tous</td>\n",
       "      <td>Film</td>\n",
       "      <td>110.0</td>\n",
       "      <td>0.0</td>\n",
       "      <td>-10 ans</td>\n",
       "      <td>22.55</td>\n",
       "      <td>Hors de prix</td>\n",
       "      <td>Film</td>\n",
       "      <td>120.0</td>\n",
       "      <td>0.0</td>\n",
       "      <td>Tout public</td>\n",
       "      <td>0.0</td>\n",
       "      <td>2019</td>\n",
       "      <td>décembre</td>\n",
       "      <td>0</td>\n",
       "    </tr>\n",
       "    <tr>\n",
       "      <th>47741</th>\n",
       "      <td>lundi</td>\n",
       "      <td>TF1 Series</td>\n",
       "      <td>21.00</td>\n",
       "      <td>Un festival pour Noël</td>\n",
       "      <td>Telefilm</td>\n",
       "      <td>100.0</td>\n",
       "      <td>0.0</td>\n",
       "      <td>Tout public</td>\n",
       "      <td>22.40</td>\n",
       "      <td>La clé d'un Noël réussi</td>\n",
       "      <td>Telefilm</td>\n",
       "      <td>105.0</td>\n",
       "      <td>0.0</td>\n",
       "      <td>Tout public</td>\n",
       "      <td>2.0</td>\n",
       "      <td>2019</td>\n",
       "      <td>décembre</td>\n",
       "      <td>0</td>\n",
       "    </tr>\n",
       "    <tr>\n",
       "      <th>47743</th>\n",
       "      <td>lundi</td>\n",
       "      <td>RMC Story</td>\n",
       "      <td>20.55</td>\n",
       "      <td>Enquête prioritaire</td>\n",
       "      <td>Magazine</td>\n",
       "      <td>80.0</td>\n",
       "      <td>0.0</td>\n",
       "      <td>Tout public</td>\n",
       "      <td>23.05</td>\n",
       "      <td>La Poste, une logistique XXL</td>\n",
       "      <td>Documentaire</td>\n",
       "      <td>65.0</td>\n",
       "      <td>0.0</td>\n",
       "      <td>Tout public</td>\n",
       "      <td>0.0</td>\n",
       "      <td>2019</td>\n",
       "      <td>décembre</td>\n",
       "      <td>0</td>\n",
       "    </tr>\n",
       "    <tr>\n",
       "      <th>47744</th>\n",
       "      <td>lundi</td>\n",
       "      <td>RMC Decouverte</td>\n",
       "      <td>20.55</td>\n",
       "      <td>Le convoi de l'extrême : le choc des titans</td>\n",
       "      <td>Divertissement</td>\n",
       "      <td>90.0</td>\n",
       "      <td>4.0</td>\n",
       "      <td>Tout public</td>\n",
       "      <td>Suite prgm1</td>\n",
       "      <td>Le convoi de l'extrême : le choc des titans</td>\n",
       "      <td>Divertissement</td>\n",
       "      <td>0.0</td>\n",
       "      <td>4.0</td>\n",
       "      <td>Tout public</td>\n",
       "      <td>1.0</td>\n",
       "      <td>2019</td>\n",
       "      <td>décembre</td>\n",
       "      <td>0</td>\n",
       "    </tr>\n",
       "    <tr>\n",
       "      <th>47745</th>\n",
       "      <td>lundi</td>\n",
       "      <td>Cherie 25</td>\n",
       "      <td>21.05</td>\n",
       "      <td>Place Vendôme</td>\n",
       "      <td>Film</td>\n",
       "      <td>130.0</td>\n",
       "      <td>0.0</td>\n",
       "      <td>Tout public</td>\n",
       "      <td>23.15</td>\n",
       "      <td>Salaud, on t'aime</td>\n",
       "      <td>Film</td>\n",
       "      <td>135.0</td>\n",
       "      <td>0.0</td>\n",
       "      <td>Tout public</td>\n",
       "      <td>1.0</td>\n",
       "      <td>2019</td>\n",
       "      <td>décembre</td>\n",
       "      <td>0</td>\n",
       "    </tr>\n",
       "  </tbody>\n",
       "</table>\n",
       "<p>30980 rows × 18 columns</p>\n",
       "</div>"
      ],
      "text/plain": [
       "           Jour          Chaine  Heure_prgm1  \\\n",
       "0      mercredi             TF1        20.55   \n",
       "1      mercredi        France 2        20.50   \n",
       "2      mercredi        France 3        20.45   \n",
       "4      mercredi        France 5        20.40   \n",
       "5      mercredi              M6        20.50   \n",
       "...         ...             ...          ...   \n",
       "47740     lundi            6ter        21.05   \n",
       "47741     lundi      TF1 Series        21.00   \n",
       "47743     lundi       RMC Story        20.55   \n",
       "47744     lundi  RMC Decouverte        20.55   \n",
       "47745     lundi       Cherie 25        21.05   \n",
       "\n",
       "                                       Titre_prgm1      Type_prgm1  \\\n",
       "0                                        Blacklist        Serie TV   \n",
       "1                            Les hommes de l'ombre        Serie TV   \n",
       "2                         Des racines et des ailes        Magazine   \n",
       "4                               La maison France 5        Magazine   \n",
       "5                            Le meilleur pâtissier  Divertissement   \n",
       "...                                            ...             ...   \n",
       "47740                            Rupture pour tous            Film   \n",
       "47741                        Un festival pour Noël        Telefilm   \n",
       "47743                          Enquête prioritaire        Magazine   \n",
       "47744  Le convoi de l'extrême : le choc des titans  Divertissement   \n",
       "47745                                Place Vendôme            Film   \n",
       "\n",
       "       Duree_prgm1  Nbre_episodes_prgm1 Age_conseille_prgm1  Heure_prgm2  \\\n",
       "0            110.0                  2.0             -10 ans        22.40   \n",
       "1            120.0                  2.0         Tout public        22.40   \n",
       "2            115.0                  0.0         Tout public        23.36   \n",
       "4             60.0                  0.0         Tout public        21.40   \n",
       "5            110.0                  0.0         Tout public        22.40   \n",
       "...            ...                  ...                 ...          ...   \n",
       "47740        110.0                  0.0             -10 ans        22.55   \n",
       "47741        100.0                  0.0         Tout public        22.40   \n",
       "47743         80.0                  0.0         Tout public        23.05   \n",
       "47744         90.0                  4.0         Tout public  Suite prgm1   \n",
       "47745        130.0                  0.0         Tout public        23.15   \n",
       "\n",
       "                                       Titre_prgm2      Type_prgm2  \\\n",
       "0                                            Arrow        Serie TV   \n",
       "1                         Un soir à la tour Eiffel        Magazine   \n",
       "2                                     Le comte Ory  Divertissement   \n",
       "4                             Silence, ça pousse !        Magazine   \n",
       "5        Le meilleur pâtissier : à vos fourneaux !  Divertissement   \n",
       "...                                            ...             ...   \n",
       "47740                                 Hors de prix            Film   \n",
       "47741                      La clé d'un Noël réussi        Telefilm   \n",
       "47743                 La Poste, une logistique XXL    Documentaire   \n",
       "47744  Le convoi de l'extrême : le choc des titans  Divertissement   \n",
       "47745                            Salaud, on t'aime            Film   \n",
       "\n",
       "       Duree_prgm2  Nbre_episodes_prgm2 Age_conseille_prgm2  Part_de_marche  \\\n",
       "0            100.0                  3.0             -10 ans            24.0   \n",
       "1            100.0                  0.0         Tout public            13.0   \n",
       "2            144.0                  0.0         Tout public            12.0   \n",
       "4             49.0                  0.0         Tout public             2.0   \n",
       "5            100.0                  0.0         Tout public            12.0   \n",
       "...            ...                  ...                 ...             ...   \n",
       "47740        120.0                  0.0         Tout public             0.0   \n",
       "47741        105.0                  0.0         Tout public             2.0   \n",
       "47743         65.0                  0.0         Tout public             0.0   \n",
       "47744          0.0                  4.0         Tout public             1.0   \n",
       "47745        135.0                  0.0         Tout public             1.0   \n",
       "\n",
       "       Annee      Mois  Week end  \n",
       "0       2014   octobre         0  \n",
       "1       2014   octobre         0  \n",
       "2       2014   octobre         0  \n",
       "4       2014   octobre         0  \n",
       "5       2014   octobre         0  \n",
       "...      ...       ...       ...  \n",
       "47740   2019  décembre         0  \n",
       "47741   2019  décembre         0  \n",
       "47743   2019  décembre         0  \n",
       "47744   2019  décembre         0  \n",
       "47745   2019  décembre         0  \n",
       "\n",
       "[30980 rows x 18 columns]"
      ]
     },
     "execution_count": 5,
     "metadata": {},
     "output_type": "execute_result"
    }
   ],
   "source": [
    "data"
   ]
  },
  {
   "cell_type": "code",
   "execution_count": 6,
   "metadata": {},
   "outputs": [],
   "source": [
    "data.to_csv(\"Donnees_sans_na.csv\",index=False)"
   ]
  },
  {
   "cell_type": "markdown",
   "metadata": {},
   "source": [
    "## Statistiques descriptives"
   ]
  },
  {
   "cell_type": "markdown",
   "metadata": {},
   "source": [
    "On étudie tout d'abord notre variable d'intérêt - **type de programme**."
   ]
  },
  {
   "cell_type": "code",
   "execution_count": 7,
   "metadata": {},
   "outputs": [
    {
     "data": {
      "image/png": "[encoded data removed]",
      "text/plain": [
       "<Figure size 432x288 with 1 Axes>"
      ]
     },
     "metadata": {},
     "output_type": "display_data"
    }
   ],
   "source": [
    "data[\"Type_prgm1\"].value_counts(normalize=True).plot(kind='pie')\n",
    "plt.axis('equal') \n",
    "plt.show()"
   ]
  },
  {
   "cell_type": "markdown",
   "metadata": {},
   "source": [
    "De 2014 à 2019, les deux principaux programmes diffusés sont les `Films` et les `Séries TV`. A l'inverse, on retrouve très peu de `Sport` et `d'Information` en access."
   ]
  },
  {
   "cell_type": "markdown",
   "metadata": {},
   "source": [
    "On étudie à présent les `Types de programmes` avec la `Part de marché` :"
   ]
  },
  {
   "cell_type": "code",
   "execution_count": 13,
   "metadata": {},
   "outputs": [
    {
     "name": "stdout",
     "output_type": "stream",
     "text": [
      "--------------------\n",
      "Serie TV\n",
      "moy:\n",
      " 5.512341811803032\n",
      "med:\n",
      " 2.0\n",
      "mod:\n",
      " 0    1.0\n",
      "dtype: float64\n"
     ]
    },
    {
     "data": {
      "image/png": "[encoded data removed]",
      "text/plain": [
       "<Figure size 432x288 with 1 Axes>"
      ]
     },
     "metadata": {
      "needs_background": "light"
     },
     "output_type": "display_data"
    },
    {
     "name": "stdout",
     "output_type": "stream",
     "text": [
      "--------------------\n",
      "Magazine\n",
      "moy:\n",
      " 3.656900022366361\n",
      "med:\n",
      " 2.0\n",
      "mod:\n",
      " 0    1.0\n",
      "dtype: float64\n"
     ]
    },
    {
     "data": {
      "image/png": "[encoded data removed]",
      "text/plain": [
       "<Figure size 432x288 with 1 Axes>"
      ]
     },
     "metadata": {
      "needs_background": "light"
     },
     "output_type": "display_data"
    },
    {
     "name": "stdout",
     "output_type": "stream",
     "text": [
      "--------------------\n",
      "Divertissement\n",
      "moy:\n",
      " 5.7972113502935425\n",
      "med:\n",
      " 2.0\n",
      "mod:\n",
      " 0    1.0\n",
      "dtype: float64\n"
     ]
    },
    {
     "data": {
      "image/png": "[encoded data removed]",
      "text/plain": [
       "<Figure size 432x288 with 1 Axes>"
      ]
     },
     "metadata": {
      "needs_background": "light"
     },
     "output_type": "display_data"
    },
    {
     "name": "stdout",
     "output_type": "stream",
     "text": [
      "--------------------\n",
      "Film\n",
      "moy:\n",
      " 3.6254778809393775\n",
      "med:\n",
      " 2.0\n",
      "mod:\n",
      " 0    1.0\n",
      "dtype: float64\n"
     ]
    },
    {
     "data": {
      "image/png": "[encoded data removed]",
      "text/plain": [
       "<Figure size 432x288 with 1 Axes>"
      ]
     },
     "metadata": {
      "needs_background": "light"
     },
     "output_type": "display_data"
    },
    {
     "name": "stdout",
     "output_type": "stream",
     "text": [
      "--------------------\n",
      "Documentaire\n",
      "moy:\n",
      " 2.0411965363421674\n",
      "med:\n",
      " 1.0\n",
      "mod:\n",
      " 0    1.0\n",
      "dtype: float64\n"
     ]
    },
    {
     "data": {
      "image/png": "[encoded data removed]",
      "text/plain": [
       "<Figure size 432x288 with 1 Axes>"
      ]
     },
     "metadata": {
      "needs_background": "light"
     },
     "output_type": "display_data"
    },
    {
     "name": "stdout",
     "output_type": "stream",
     "text": [
      "--------------------\n",
      "Telefilm\n",
      "moy:\n",
      " 3.041531238714337\n",
      "med:\n",
      " 1.0\n",
      "mod:\n",
      " 0    1.0\n",
      "dtype: float64\n"
     ]
    },
    {
     "data": {
      "image/png": "[encoded data removed]",
      "text/plain": [
       "<Figure size 432x288 with 1 Axes>"
      ]
     },
     "metadata": {
      "needs_background": "light"
     },
     "output_type": "display_data"
    },
    {
     "name": "stdout",
     "output_type": "stream",
     "text": [
      "--------------------\n",
      "Sport\n",
      "moy:\n",
      " 9.58220502901354\n",
      "med:\n",
      " 4.0\n",
      "mod:\n",
      " 0    2.0\n",
      "dtype: float64\n"
     ]
    },
    {
     "data": {
      "image/png": "[encoded data removed]",
      "text/plain": [
       "<Figure size 432x288 with 1 Axes>"
      ]
     },
     "metadata": {
      "needs_background": "light"
     },
     "output_type": "display_data"
    },
    {
     "name": "stdout",
     "output_type": "stream",
     "text": [
      "--------------------\n",
      "Information\n",
      "moy:\n",
      " 15.68421052631579\n",
      "med:\n",
      " 15.0\n",
      "mod:\n",
      " 0    18.0\n",
      "dtype: float64\n"
     ]
    },
    {
     "data": {
      "image/png": "[encoded data removed]",
      "text/plain": [
       "<Figure size 432x288 with 1 Axes>"
      ]
     },
     "metadata": {
      "needs_background": "light"
     },
     "output_type": "display_data"
    }
   ],
   "source": [
    "Stats.comparaison(data,\"Type_prgm1\",\"Part_de_marche\")"
   ]
  },
  {
   "cell_type": "markdown",
   "metadata": {},
   "source": [
    "Les types de programmes n'ont en moyenne pas tous les mêmes part de marché. Ceux qui récoltent les plus grosses parts de marché sont le **Sport** et les **Informations** :\n",
    "- Les informations qui récoltent une part de marché importante correspondent à des émissions spéciales comme des débats ou interviews politiques.\n",
    "- Le sport correspond à des évènements nationaux ou internationaux tels que des matchs de football, très populaire.\n",
    "\n",
    "Notons que ce sont les deux types les plus rares.\n",
    "\n",
    "Pour les autres types, on observe une variabilité moindre. Il n'y a donc pas que la part de marché qui influe sur le type de programme.\n"
   ]
  },
  {
   "cell_type": "markdown",
   "metadata": {},
   "source": [
    "On étudie enfin les `Types de programmes` avec leur `Durée` :"
   ]
  },
  {
   "cell_type": "code",
   "execution_count": 14,
   "metadata": {},
   "outputs": [
    {
     "name": "stdout",
     "output_type": "stream",
     "text": [
      "--------------------\n",
      "Serie TV\n",
      "moy:\n",
      " 124.3033454454329\n",
      "med:\n",
      " 110.0\n",
      "mod:\n",
      " 0    110.0\n",
      "dtype: float64\n"
     ]
    },
    {
     "data": {
      "image/png": "[encoded data removed]",
      "text/plain": [
       "<Figure size 432x288 with 1 Axes>"
      ]
     },
     "metadata": {
      "needs_background": "light"
     },
     "output_type": "display_data"
    },
    {
     "name": "stdout",
     "output_type": "stream",
     "text": [
      "--------------------\n",
      "Magazine\n",
      "moy:\n",
      " 158.03690449563857\n",
      "med:\n",
      " 140.0\n",
      "mod:\n",
      " 0    240.0\n",
      "dtype: float64\n"
     ]
    },
    {
     "data": {
      "image/png": "[encoded data removed]",
      "text/plain": [
       "<Figure size 432x288 with 1 Axes>"
      ]
     },
     "metadata": {
      "needs_background": "light"
     },
     "output_type": "display_data"
    },
    {
     "name": "stdout",
     "output_type": "stream",
     "text": [
      "--------------------\n",
      "Divertissement\n",
      "moy:\n",
      " 134.04794520547946\n",
      "med:\n",
      " 130.0\n",
      "mod:\n",
      " 0    100.0\n",
      "dtype: float64\n"
     ]
    },
    {
     "data": {
      "image/png": "[encoded data removed]",
      "text/plain": [
       "<Figure size 432x288 with 1 Axes>"
      ]
     },
     "metadata": {
      "needs_background": "light"
     },
     "output_type": "display_data"
    },
    {
     "name": "stdout",
     "output_type": "stream",
     "text": [
      "--------------------\n",
      "Film\n",
      "moy:\n",
      " 118.25204806116876\n",
      "med:\n",
      " 115.0\n",
      "mod:\n",
      " 0    120.0\n",
      "dtype: float64\n"
     ]
    },
    {
     "data": {
      "image/png": "[encoded data removed]",
      "text/plain": [
       "<Figure size 432x288 with 1 Axes>"
      ]
     },
     "metadata": {
      "needs_background": "light"
     },
     "output_type": "display_data"
    },
    {
     "name": "stdout",
     "output_type": "stream",
     "text": [
      "--------------------\n",
      "Documentaire\n",
      "moy:\n",
      " 93.65783258987142\n",
      "med:\n",
      " 99.0\n",
      "mod:\n",
      " 0    100.0\n",
      "dtype: float64\n"
     ]
    },
    {
     "data": {
      "image/png": "[encoded data removed]",
      "text/plain": [
       "<Figure size 432x288 with 1 Axes>"
      ]
     },
     "metadata": {
      "needs_background": "light"
     },
     "output_type": "display_data"
    },
    {
     "name": "stdout",
     "output_type": "stream",
     "text": [
      "--------------------\n",
      "Telefilm\n",
      "moy:\n",
      " 109.02527988443481\n",
      "med:\n",
      " 100.0\n",
      "mod:\n",
      " 0    100.0\n",
      "dtype: float64\n"
     ]
    },
    {
     "data": {
      "image/png": "[encoded data removed]",
      "text/plain": [
       "<Figure size 432x288 with 1 Axes>"
      ]
     },
     "metadata": {
      "needs_background": "light"
     },
     "output_type": "display_data"
    },
    {
     "name": "stdout",
     "output_type": "stream",
     "text": [
      "--------------------\n",
      "Sport\n",
      "moy:\n",
      " 136.4119922630561\n",
      "med:\n",
      " 125.0\n",
      "mod:\n",
      " 0    120.0\n",
      "dtype: float64\n"
     ]
    },
    {
     "data": {
      "image/png": "[encoded data removed]",
      "text/plain": [
       "<Figure size 432x288 with 1 Axes>"
      ]
     },
     "metadata": {
      "needs_background": "light"
     },
     "output_type": "display_data"
    },
    {
     "name": "stdout",
     "output_type": "stream",
     "text": [
      "--------------------\n",
      "Information\n",
      "moy:\n",
      " 120.0\n",
      "med:\n",
      " 120.0\n",
      "mod:\n",
      " 0    150.0\n",
      "dtype: float64\n"
     ]
    },
    {
     "data": {
      "image/png": "[encoded data removed]",
      "text/plain": [
       "<Figure size 432x288 with 1 Axes>"
      ]
     },
     "metadata": {
      "needs_background": "light"
     },
     "output_type": "display_data"
    }
   ],
   "source": [
    "Stats.comparaison(data,\"Type_prgm1\",\"Duree_prgm1\")"
   ]
  },
  {
   "cell_type": "markdown",
   "metadata": {},
   "source": [
    "Les types de programmes ont aussi des durées moyennes différentes."
   ]
  },
  {
   "cell_type": "markdown",
   "metadata": {},
   "source": [
    "## Recodage des données"
   ]
  },
  {
   "cell_type": "markdown",
   "metadata": {},
   "source": [
    "Nous recodons nos variables qualitatives à l'aide de **LabelEncoder** et de **OneHotEncoder**. \n",
    "\n",
    "LabelEncoder : \n",
    "- Jour\n",
    "- Mois\n",
    "- Heure du programme\n",
    "- Age conseillé \n",
    "- Type du programme\n",
    "\n",
    "OneHotEncoder : \n",
    "- Chaîne\n",
    "- Type du programme suivant"
   ]
  },
  {
   "cell_type": "code",
   "execution_count": 1,
   "metadata": {},
   "outputs": [],
   "source": [
    "import ML"
   ]
  },
  {
   "cell_type": "code",
   "execution_count": 2,
   "metadata": {},
   "outputs": [],
   "source": [
    "data = ML.pd.read_csv(\"Donnees_sans_na.csv\", sep=\",\")"
   ]
  },
  {
   "cell_type": "code",
   "execution_count": 3,
   "metadata": {},
   "outputs": [],
   "source": [
    "X,y = ML.recodage(data)"
   ]
  },
  {
   "cell_type": "markdown",
   "metadata": {},
   "source": [
    "## Séparation de l'échantillon"
   ]
  },
  {
   "cell_type": "markdown",
   "metadata": {},
   "source": [
    "Nous séparons l'écantillon en échantillon d'apprentissage pour entrainer nos modèles et en échantillon test pour tester notre meilleur modèle. \n",
    "Etant donné la taille de notre base de données, l'échantillon d'entrainement représentera 60% de notre échantillon de base afin de réduire les temps de calcul."
   ]
  },
  {
   "cell_type": "code",
   "execution_count": 4,
   "metadata": {},
   "outputs": [],
   "source": [
    "X_train, X_test, y_train, y_test = ML.split(X,y,0.4)"
   ]
  },
  {
   "cell_type": "markdown",
   "metadata": {},
   "source": [
    "## Normalisation"
   ]
  },
  {
   "cell_type": "code",
   "execution_count": 5,
   "metadata": {},
   "outputs": [],
   "source": [
    "X_train_ess, X_train_emm, X_test_ess, X_test_emm = ML.normalisation(X_train, X_test)"
   ]
  },
  {
   "cell_type": "markdown",
   "metadata": {},
   "source": [
    "## Recherche du meilleur modèle\n",
    "La commande GridSearchCV réalise une validation croisée. Par défaut, la division de l'échantillon est de 5."
   ]
  },
  {
   "cell_type": "markdown",
   "metadata": {},
   "source": [
    "### Random Forest  - Choix des paramètres et meilleure normalisation"
   ]
  },
  {
   "cell_type": "code",
   "execution_count": 6,
   "metadata": {},
   "outputs": [],
   "source": [
    "rfc = ML.GridSearchCV(estimator=ML.RFC(),param_grid=dict(n_estimators=list(range(10,110,10))))"
   ]
  },
  {
   "cell_type": "code",
   "execution_count": 7,
   "metadata": {},
   "outputs": [
    {
     "name": "stdout",
     "output_type": "stream",
     "text": [
      "0.8990211005856377\n"
     ]
    }
   ],
   "source": [
    "rfc1 = rfc.fit(X_train,y_train.ravel())\n",
    "print(rfc1.best_score_)"
   ]
  },
  {
   "cell_type": "markdown",
   "metadata": {},
   "source": [
    "#### Normalisation par Standard Scaler"
   ]
  },
  {
   "cell_type": "code",
   "execution_count": 8,
   "metadata": {},
   "outputs": [
    {
     "name": "stdout",
     "output_type": "stream",
     "text": [
      "0.9010655287056851\n"
     ]
    }
   ],
   "source": [
    "rfc_ss = rfc.fit(X_train_ess,y_train.ravel())\n",
    "print(rfc_ss.best_score_)"
   ]
  },
  {
   "cell_type": "markdown",
   "metadata": {},
   "source": [
    "#### Normalisation par MinMax Scaler"
   ]
  },
  {
   "cell_type": "code",
   "execution_count": 9,
   "metadata": {},
   "outputs": [
    {
     "name": "stdout",
     "output_type": "stream",
     "text": [
      "0.9008504750356119\n"
     ]
    }
   ],
   "source": [
    "rfc_mm= rfc.fit(X_train_emm,y_train.ravel())\n",
    "print(rfc_mm.best_score_)"
   ]
  },
  {
   "cell_type": "markdown",
   "metadata": {},
   "source": [
    "### SVC - Choix des paramètres et meilleure normalisation"
   ]
  },
  {
   "cell_type": "code",
   "execution_count": 10,
   "metadata": {},
   "outputs": [],
   "source": [
    "svc = ML.GridSearchCV(estimator=ML.SVC(),\n",
    "                     param_grid=dict(C=[0.001,0.01,0.1,1])\n",
    "                     )"
   ]
  },
  {
   "cell_type": "code",
   "execution_count": 12,
   "metadata": {},
   "outputs": [
    {
     "name": "stdout",
     "output_type": "stream",
     "text": [
      "0.44959192625424704\n"
     ]
    }
   ],
   "source": [
    "svc1 = svc.fit(X_train,y_train.ravel())\n",
    "print(svc1.best_score_)"
   ]
  },
  {
   "cell_type": "markdown",
   "metadata": {},
   "source": [
    "#### Normalisation par Standard Scaler"
   ]
  },
  {
   "cell_type": "code",
   "execution_count": 13,
   "metadata": {},
   "outputs": [
    {
     "name": "stdout",
     "output_type": "stream",
     "text": [
      "0.8818055477768647\n"
     ]
    }
   ],
   "source": [
    "svc_ss = svc.fit(X_train_ess,y_train.ravel())\n",
    "print(svc_ss.best_score_)"
   ]
  },
  {
   "cell_type": "markdown",
   "metadata": {},
   "source": [
    "#### Normalisation par MinMax Scaler"
   ]
  },
  {
   "cell_type": "code",
   "execution_count": 14,
   "metadata": {},
   "outputs": [
    {
     "name": "stdout",
     "output_type": "stream",
     "text": [
      "0.8721759046400507\n"
     ]
    }
   ],
   "source": [
    "svc_mm= svc.fit(X_train_emm,y_train.ravel())\n",
    "print(svc_mm.best_score_)"
   ]
  },
  {
   "cell_type": "markdown",
   "metadata": {},
   "source": [
    "### KNN - Choix des paramètres et meilleure normalisation"
   ]
  },
  {
   "cell_type": "code",
   "execution_count": 15,
   "metadata": {},
   "outputs": [],
   "source": [
    "knn = ML.GridSearchCV(estimator=ML.KNN(),\n",
    "                     param_grid=dict(n_neighbors=list(range(1, 31)))\n",
    "                     )"
   ]
  },
  {
   "cell_type": "code",
   "execution_count": 16,
   "metadata": {},
   "outputs": [
    {
     "name": "stdout",
     "output_type": "stream",
     "text": [
      "0.6771570599471513\n"
     ]
    }
   ],
   "source": [
    "knn1 = knn.fit(X_train,y_train.ravel())\n",
    "print(knn1.best_score_)"
   ]
  },
  {
   "cell_type": "markdown",
   "metadata": {},
   "source": [
    "#### Normalisation par Standard Scaler"
   ]
  },
  {
   "cell_type": "code",
   "execution_count": 17,
   "metadata": {},
   "outputs": [
    {
     "name": "stdout",
     "output_type": "stream",
     "text": [
      "0.8550680089141627\n"
     ]
    }
   ],
   "source": [
    "knn_ss = knn.fit(X_train_ess,y_train.ravel())\n",
    "print(knn_ss.best_score_)"
   ]
  },
  {
   "cell_type": "markdown",
   "metadata": {},
   "source": [
    "#### Normalisation par MinMax Scaler"
   ]
  },
  {
   "cell_type": "code",
   "execution_count": 18,
   "metadata": {},
   "outputs": [
    {
     "name": "stdout",
     "output_type": "stream",
     "text": [
      "0.8454384670812309\n"
     ]
    }
   ],
   "source": [
    "knn_mm = knn.fit(X_train_emm,y_train.ravel())\n",
    "print(knn_mm.best_score_)"
   ]
  },
  {
   "cell_type": "markdown",
   "metadata": {},
   "source": [
    "### Gaussian Process - Choix des paramètres et meilleure normalisation"
   ]
  },
  {
   "cell_type": "markdown",
   "metadata": {},
   "source": [
    "Cette partie nécessitant un grand temps de calcul et engendrant des problèmes de mémoire, nous réalisons ce modèle sur un échantillon d'entrainement plus réduit, représentant 20% de l'échantillon original."
   ]
  },
  {
   "cell_type": "code",
   "execution_count": 4,
   "metadata": {},
   "outputs": [],
   "source": [
    "X_train, X_test, y_train, y_test = ML.split(X,y,0.8)\n",
    "X_train_ess, X_train_emm, X_test_ess, X_test_emm = ML.normalisation(X_train, X_test)"
   ]
  },
  {
   "cell_type": "code",
   "execution_count": 5,
   "metadata": {},
   "outputs": [
    {
     "name": "stderr",
     "output_type": "stream",
     "text": [
      "C:\\Users\\carrefour\\Anaconda3\\lib\\site-packages\\sklearn\\utils\\validation.py:744: DataConversionWarning: A column-vector y was passed when a 1d array was expected. Please change the shape of y to (n_samples, ), for example using ravel().\n",
      "  y = column_or_1d(y, warn=True)\n",
      "C:\\Users\\carrefour\\Anaconda3\\lib\\site-packages\\sklearn\\gaussian_process\\_gpc.py:432: RuntimeWarning: overflow encountered in exp\n",
      "  - np.log(np.diag(L)).sum()\n"
     ]
    },
    {
     "data": {
      "text/plain": [
       "0.8636216914138154"
      ]
     },
     "execution_count": 5,
     "metadata": {},
     "output_type": "execute_result"
    }
   ],
   "source": [
    "kernel = 1.0 * ML.RBF(1.0)\n",
    "gpc = ML.GPC(kernel=kernel,random_state=0).fit(X_train, y_train)\n",
    "gpc.score(X_train, y_train)"
   ]
  },
  {
   "cell_type": "markdown",
   "metadata": {},
   "source": [
    "#### Normalisation par Standard Scaler"
   ]
  },
  {
   "cell_type": "code",
   "execution_count": 28,
   "metadata": {},
   "outputs": [
    {
     "name": "stderr",
     "output_type": "stream",
     "text": [
      "C:\\Users\\carrefour\\Anaconda3\\lib\\site-packages\\sklearn\\utils\\validation.py:744: DataConversionWarning: A column-vector y was passed when a 1d array was expected. Please change the shape of y to (n_samples, ), for example using ravel().\n",
      "  y = column_or_1d(y, warn=True)\n"
     ]
    },
    {
     "data": {
      "text/plain": [
       "0.9273724983860555"
      ]
     },
     "execution_count": 28,
     "metadata": {},
     "output_type": "execute_result"
    }
   ],
   "source": [
    "kernel = 1.0 * ML.RBF(1.0)\n",
    "gpc_ss = ML.GPC(kernel=kernel,random_state=0).fit(X_train_ess, y_train)\n",
    "gpc_ss.score(X_train_ess, y_train)"
   ]
  },
  {
   "cell_type": "code",
   "execution_count": 6,
   "metadata": {},
   "outputs": [
    {
     "name": "stderr",
     "output_type": "stream",
     "text": [
      "C:\\Users\\carrefour\\Anaconda3\\lib\\site-packages\\sklearn\\utils\\validation.py:744: DataConversionWarning: A column-vector y was passed when a 1d array was expected. Please change the shape of y to (n_samples, ), for example using ravel().\n",
      "  y = column_or_1d(y, warn=True)\n"
     ]
    },
    {
     "data": {
      "text/plain": [
       "0.9373789541639768"
      ]
     },
     "execution_count": 6,
     "metadata": {},
     "output_type": "execute_result"
    }
   ],
   "source": [
    "kernel_rq = (1.0) * ML.RationalQuadratic(alpha=0.1, length_scale=1)\n",
    "gpc_ss_rq = ML.GPC(kernel=kernel_rq,random_state=0).fit(X_train_ess, y_train)\n",
    "gpc_ss_rq.score(X_train_ess, y_train)"
   ]
  },
  {
   "cell_type": "markdown",
   "metadata": {},
   "source": [
    "#### Normalisation par MinMax Scaler"
   ]
  },
  {
   "cell_type": "code",
   "execution_count": 7,
   "metadata": {},
   "outputs": [
    {
     "name": "stderr",
     "output_type": "stream",
     "text": [
      "C:\\Users\\carrefour\\Anaconda3\\lib\\site-packages\\sklearn\\utils\\validation.py:744: DataConversionWarning: A column-vector y was passed when a 1d array was expected. Please change the shape of y to (n_samples, ), for example using ravel().\n",
      "  y = column_or_1d(y, warn=True)\n"
     ]
    },
    {
     "data": {
      "text/plain": [
       "0.89380245319561"
      ]
     },
     "execution_count": 7,
     "metadata": {},
     "output_type": "execute_result"
    }
   ],
   "source": [
    "kernel = 1.0 * ML.RBF(1.0)\n",
    "gpc_mm = ML.GPC(kernel=kernel,random_state=0).fit(X_train_emm, y_train)\n",
    "gpc_mm.score(X_train_emm, y_train)"
   ]
  },
  {
   "cell_type": "code",
   "execution_count": 8,
   "metadata": {},
   "outputs": [
    {
     "name": "stderr",
     "output_type": "stream",
     "text": [
      "C:\\Users\\carrefour\\Anaconda3\\lib\\site-packages\\sklearn\\utils\\validation.py:744: DataConversionWarning: A column-vector y was passed when a 1d array was expected. Please change the shape of y to (n_samples, ), for example using ravel().\n",
      "  y = column_or_1d(y, warn=True)\n"
     ]
    },
    {
     "data": {
      "text/plain": [
       "0.9125242091672047"
      ]
     },
     "execution_count": 8,
     "metadata": {},
     "output_type": "execute_result"
    }
   ],
   "source": [
    "kernel_rq = (1.0) * ML.RationalQuadratic(alpha=0.1, length_scale=1)\n",
    "gpc_mm_rq = ML.GPC(kernel=kernel_rq,random_state=0).fit(X_train_emm, y_train)\n",
    "gpc_mm_rq.score(X_train_emm, y_train)"
   ]
  },
  {
   "cell_type": "markdown",
   "metadata": {},
   "source": [
    "## Meilleur estimateur et validation à postériori"
   ]
  },
  {
   "cell_type": "markdown",
   "metadata": {},
   "source": [
    "| Méthode      |     Données standardisées    | Performance sur données train |\n",
    "| ------------- |: -------------: |: -------------: |\n",
    "| Random Forest      |        /        | 0,899% |\n",
    "| Random Forest        |        Standard Scaler        | 0,901% |\n",
    "| Random Forest      |        Min Max Scaler        | 0,901% |\n",
    "| Support Vector Classifier      |        /        | 0,450% | \n",
    "| Support Vector Classifier        |        Standard Scaler        | 0,882% |\n",
    "| Support Vector Classifier        |        Min Max Scaler        | 0,872% |\n",
    "| K plus proches voisins      |        /       | 0,677% |\n",
    "| K plus proches voisins        |       Standard Scaler        | 0,855% |\n",
    "| K plus proches voisins      |        Min Max Scaler        | 0,845% |\n",
    "| Gaussian Process - Radial      |        /        | 0,864% |\n",
    "| Gaussian Process - Radial        |      Standard Scaler          | 0,927% |\n",
    "| Gaussian Process - Radial      |        Min Max Scaler        | 0,894% |\n",
    "| Gaussian Process - Quadratique      |        /        | Problème de mémoire |\n",
    "| **Gaussian Process - Quadratique**        |        **Standard Scaler**        | **0,937%** |\n",
    "| Gaussian Process - Quadratique      |        Min Max Scaler        | 0,913% |"
   ]
  },
  {
   "cell_type": "markdown",
   "metadata": {},
   "source": [
    "Parmi les différents modèles entrainés précédemment, celui obtenant le meilleur score est le Gaussian Process avec normalisation par StandardScaler. Il permet d'obtenir un score de 0.94 sur les données d'*entrainement* et 0.85 sur les données *test* :"
   ]
  },
  {
   "cell_type": "code",
   "execution_count": 10,
   "metadata": {},
   "outputs": [
    {
     "name": "stdout",
     "output_type": "stream",
     "text": [
      "GaussianProcessClassifier(copy_X_train=True,\n",
      "                          kernel=1**2 * RationalQuadratic(alpha=0.1, length_scale=1),\n",
      "                          max_iter_predict=100, multi_class='one_vs_rest',\n",
      "                          n_jobs=None, n_restarts_optimizer=0,\n",
      "                          optimizer='fmin_l_bfgs_b', random_state=0,\n",
      "                          warm_start=False)\n",
      "0.8471773904311025\n"
     ]
    }
   ],
   "source": [
    "predicteur = gpc_ss_rq\n",
    "print(predicteur)\n",
    "print(predicteur.score(X_test_ess, y_test))"
   ]
  },
  {
   "cell_type": "code",
   "execution_count": 11,
   "metadata": {},
   "outputs": [
    {
     "data": {
      "text/plain": [
       "array([4, 0, 1, ..., 2, 5, 0])"
      ]
     },
     "execution_count": 11,
     "metadata": {},
     "output_type": "execute_result"
    }
   ],
   "source": [
    "table_predite = predicteur.predict(X_test_ess)\n",
    "table_predite"
   ]
  },
  {
   "cell_type": "markdown",
   "metadata": {},
   "source": [
    "## Comparaison prédiction - réalité"
   ]
  },
  {
   "cell_type": "code",
   "execution_count": 12,
   "metadata": {},
   "outputs": [
    {
     "data": {
      "image/png": "[encoded data removed]",
      "text/plain": [
       "<Figure size 792x360 with 1 Axes>"
      ]
     },
     "metadata": {
      "needs_background": "light"
     },
     "output_type": "display_data"
    }
   ],
   "source": [
    "comp = ML.rpz_resultat(predicteur,X_test_ess, y_test)"
   ]
  },
  {
   "cell_type": "markdown",
   "metadata": {},
   "source": [
    "| Type      |     Codage    | Erreur |\n",
    "| ------------- |: -------------: |: -------------: |\n",
    "| Divertissement      |        0        | 20% |\n",
    "| Documentaire        |        1        | 24% |\n",
    "| Film      |        2        | 10% |\n",
    "| Information      |        3        | 100% | \n",
    "| Magazine        |        4        | 15% |\n",
    "| Série TV      |        5        | 8% |\n",
    "| Sport        |        6        | 40% |\n",
    "| Téléfilm      |        7        | 29% |"
   ]
  },
  {
   "cell_type": "markdown",
   "metadata": {},
   "source": [
    "## Ouverture\n",
    "\n",
    "__Ce qu'on a__ : un modèle qui prédit les types de programmes de chaque chaîne (la notre et les concurrentes).\n",
    "\n",
    "__Ce qu'on peut faire avec__ : $Max ~~ \\alpha_i(Prog_{TF1}, \\hat{Prog_{autres}})$, $\\alpha_{i}$ part de marché."
   ]
  },
  {
   "cell_type": "code",
   "execution_count": null,
   "metadata": {},
   "outputs": [],
   "source": []
  }
 ],
 "metadata": {
  "kernelspec": {
   "display_name": "Python 3",
   "language": "python",
   "name": "python3"
  },
  "language_info": {
   "codemirror_mode": {
    "name": "ipython",
    "version": 3
   },
   "file_extension": ".py",
   "mimetype": "text/x-python",
   "name": "python",
   "nbconvert_exporter": "python",
   "pygments_lexer": "ipython3",
   "version": "3.6.5"
  }
 },
 "nbformat": 4,
 "nbformat_minor": 2
}
