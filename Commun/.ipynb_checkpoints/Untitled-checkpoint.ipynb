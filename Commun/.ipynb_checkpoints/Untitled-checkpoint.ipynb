{
 "cells": [
  {
   "cell_type": "markdown",
   "metadata": {},
   "source": [
    "## Scrapping Denis"
   ]
  },
  {
   "cell_type": "code",
   "execution_count": null,
   "metadata": {},
   "outputs": [],
   "source": [
    "import Fonctions as Fct \n",
    "import Listes\n",
    "import Generation_df as Gdf\n",
    "import Nettoyage as Net\n",
    "\n",
    "Donnees = Gdf.pd.DataFrame({\"Date\": [], \"Chaine\": [], \"Part_de_marche\": []})\n",
    "\n",
    "Dates = Listes.date(31,12,6)\n",
    "Chemins = Listes.chemin(Dates)\n",
    "\n",
    "for i in range(len(Chemins)):\n",
    "    arbre = Fct.arbre(Chemins[i])\n",
    "    test = arbre.find(\"h1\")\n",
    "    test = str(test)\n",
    "    if test != \"<h1>Audiences TV du 27 novembre 2019 avec Tele 7</h1>\" :\n",
    "        V1 = Fct.Jour(arbre)\n",
    "        V2 = Fct.Logo(arbre)\n",
    "        V3 = Fct.Pdm(arbre)\n",
    "        if len(V1) == 19 & len(V2) == 19 & len(V3) == 19:\n",
    "            Donnees = Gdf.Donnee(V1,V2,V3,Donnees)\n",
    "            \n",
    "Donnees[\"Chaine\"] = Net.recodage(Donnees[\"Chaine\"], {'35_192\"':\"TF1\",\n",
    "                                                 '35_80\" ':\"France 3\",\n",
    "                                                '35_118\"':\"M6\",\n",
    "                                                 '35_4\" h':\"France 2\",\n",
    "                                                 '35_195\"':\"TMC\",\n",
    "                                                '35_47\" ':\"France 5\",\n",
    "                                                 '35_445\"':\"C8\",\n",
    "                                                '35_119\"':\"W9\",\n",
    "                                                 '35_446\"':\"TFX\",\n",
    "                                                '35_111\"':\"Arte\",\n",
    "                                                 '35_78\" ':\"France 4\",\n",
    "                                                '35_444\"':\"NRJ 12\",\n",
    "                                                 '35_458\"':\"C Star\",\n",
    "                                                '35_160\"':\"France O\",\n",
    "                                                 '35_482\"':\"Gulli\",\n",
    "                                                '35_1402':\"RMC Story\",\n",
    "                                                '35_1404':\"TF1 Series\",\n",
    "                                                 '35_1400':\"RMC Decouverte\",\n",
    "                                                '35_1403':\"6ter\",\n",
    "                                                '35_1399':\"Cherie 25\",\n",
    "                                                 '35_1400':\"RMC Decouverte\",\n",
    "                                                '35_1403':\"6ter\",\n",
    "                                                '35_34\" ': \"Canal +\",\n",
    "                                                '35_234\"': \"LCP Public Senat\",\n",
    "                                                '35_1401': \"L Equipe\",\n",
    "                                                '35_481\"': \"BFM TV\"})\n",
    "\n",
    "Donnees1 = Donnees"
   ]
  },
  {
   "cell_type": "markdown",
   "metadata": {},
   "source": [
    "## Scrapping Evelore"
   ]
  },
  {
   "cell_type": "code",
   "execution_count": null,
   "metadata": {},
   "outputs": [],
   "source": []
  },
  {
   "cell_type": "code",
   "execution_count": null,
   "metadata": {},
   "outputs": [],
   "source": []
  },
  {
   "cell_type": "markdown",
   "metadata": {},
   "source": [
    "## Fusion"
   ]
  },
  {
   "cell_type": "code",
   "execution_count": null,
   "metadata": {},
   "outputs": [],
   "source": [
    "import pandas as pd\n",
    "fusion = pd.merge(Donnees,Donnees1,on=[\"Date\",\"Chaine\"])"
   ]
  },
  {
   "cell_type": "code",
   "execution_count": null,
   "metadata": {},
   "outputs": [],
   "source": [
    "fusion"
   ]
  }
 ],
 "metadata": {
  "kernelspec": {
   "display_name": "Python 3",
   "language": "python",
   "name": "python3"
  },
  "language_info": {
   "codemirror_mode": {
    "name": "ipython",
    "version": 3
   },
   "file_extension": ".py",
   "mimetype": "text/x-python",
   "name": "python",
   "nbconvert_exporter": "python",
   "pygments_lexer": "ipython3",
   "version": "3.6.5"
  }
 },
 "nbformat": 4,
 "nbformat_minor": 2
}
