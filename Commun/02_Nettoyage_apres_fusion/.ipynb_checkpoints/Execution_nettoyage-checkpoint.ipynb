{
 "cells": [
  {
   "cell_type": "code",
   "execution_count": 1,
   "metadata": {},
   "outputs": [],
   "source": [
    "import Nettoyage_base"
   ]
  },
  {
   "cell_type": "code",
   "execution_count": 2,
   "metadata": {},
   "outputs": [],
   "source": [
    "data = Nettoyage_base.pd.read_csv(\"Base_donnees.csv\", sep=\",\")"
   ]
  },
  {
   "cell_type": "code",
   "execution_count": 3,
   "metadata": {},
   "outputs": [],
   "source": [
    "data = Nettoyage_base.nettoyage(data)"
   ]
  },
  {
   "cell_type": "code",
   "execution_count": 4,
   "metadata": {},
   "outputs": [
    {
     "name": "stdout",
     "output_type": "stream",
     "text": [
      "<class 'pandas.core.frame.DataFrame'>\n",
      "Int64Index: 48346 entries, 0 to 48550\n",
      "Data columns (total 19 columns):\n",
      "Date                   48346 non-null object\n",
      "Jour                   47771 non-null object\n",
      "Chaine                 48340 non-null object\n",
      "Heure_prgm1            47771 non-null float64\n",
      "Titre_prgm1            47082 non-null object\n",
      "Type_prgm1             47080 non-null object\n",
      "Duree_prgm1            47771 non-null object\n",
      "Nbre_episodes_prgm1    47771 non-null float64\n",
      "Age_conseille_prgm1    47771 non-null object\n",
      "Heure_prgm2            47771 non-null object\n",
      "Titre_prgm2            47377 non-null object\n",
      "Type_prgm2             47372 non-null object\n",
      "Duree_prgm2            47771 non-null object\n",
      "Nbre_episodes_prgm2    47771 non-null float64\n",
      "Age_conseille_prgm2    47771 non-null object\n",
      "Part_de_marche         32119 non-null object\n",
      "Annee                  48346 non-null object\n",
      "Mois                   48346 non-null object\n",
      "Week end               48346 non-null int64\n",
      "dtypes: float64(3), int64(1), object(15)\n",
      "memory usage: 7.4+ MB\n"
     ]
    }
   ],
   "source": [
    "data.info()"
   ]
  },
  {
   "cell_type": "code",
   "execution_count": 5,
   "metadata": {},
   "outputs": [],
   "source": [
    "data[\"Part_de_marche\"]=data[\"Part_de_marche\"].astype(float)"
   ]
  },
  {
   "cell_type": "code",
   "execution_count": 6,
   "metadata": {},
   "outputs": [],
   "source": [
    "data.to_csv('base propre.csv',index=False)"
   ]
  },
  {
   "cell_type": "code",
   "execution_count": null,
   "metadata": {},
   "outputs": [],
   "source": []
  }
 ],
 "metadata": {
  "kernelspec": {
   "display_name": "Python 3",
   "language": "python",
   "name": "python3"
  },
  "language_info": {
   "codemirror_mode": {
    "name": "ipython",
    "version": 3
   },
   "file_extension": ".py",
   "mimetype": "text/x-python",
   "name": "python",
   "nbconvert_exporter": "python",
   "pygments_lexer": "ipython3",
   "version": "3.6.5"
  }
 },
 "nbformat": 4,
 "nbformat_minor": 2
}
