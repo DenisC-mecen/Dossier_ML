{
 "cells": [
  {
   "cell_type": "code",
   "execution_count": 1,
   "metadata": {},
   "outputs": [],
   "source": [
    "import pandas as pd\n",
    "import pandas as pd\n",
    "import numpy as np"
   ]
  },
  {
   "cell_type": "code",
   "execution_count": 2,
   "metadata": {},
   "outputs": [],
   "source": [
    "data = pd.read_csv(\"base propre.csv\")"
   ]
  },
  {
   "cell_type": "code",
   "execution_count": 3,
   "metadata": {},
   "outputs": [
    {
     "data": {
      "text/html": [
       "<div>\n",
       "<style scoped>\n",
       "    .dataframe tbody tr th:only-of-type {\n",
       "        vertical-align: middle;\n",
       "    }\n",
       "\n",
       "    .dataframe tbody tr th {\n",
       "        vertical-align: top;\n",
       "    }\n",
       "\n",
       "    .dataframe thead th {\n",
       "        text-align: right;\n",
       "    }\n",
       "</style>\n",
       "<table border=\"1\" class=\"dataframe\">\n",
       "  <thead>\n",
       "    <tr style=\"text-align: right;\">\n",
       "      <th></th>\n",
       "      <th>Date</th>\n",
       "      <th>Jour</th>\n",
       "      <th>Chaine</th>\n",
       "      <th>Heure_prgm1</th>\n",
       "      <th>Titre_prgm1</th>\n",
       "      <th>Type_prgm1</th>\n",
       "      <th>Duree_prgm1</th>\n",
       "      <th>Nbre_episodes_prgm1</th>\n",
       "      <th>Age_conseille_prgm1</th>\n",
       "      <th>Heure_prgm2</th>\n",
       "      <th>Titre_prgm2</th>\n",
       "      <th>Type_prgm2</th>\n",
       "      <th>Duree_prgm2</th>\n",
       "      <th>Nbre_episodes_prgm2</th>\n",
       "      <th>Age_conseille_prgm2</th>\n",
       "      <th>Part_de_marche</th>\n",
       "      <th>Annee</th>\n",
       "      <th>Mois</th>\n",
       "      <th>Week end</th>\n",
       "    </tr>\n",
       "  </thead>\n",
       "  <tbody>\n",
       "    <tr>\n",
       "      <th>0</th>\n",
       "      <td>08 octobre 2014</td>\n",
       "      <td>mercredi</td>\n",
       "      <td>TF1</td>\n",
       "      <td>20.55</td>\n",
       "      <td>Blacklist</td>\n",
       "      <td>Serie TV</td>\n",
       "      <td>110.0</td>\n",
       "      <td>2.0</td>\n",
       "      <td>-10 ans</td>\n",
       "      <td>22.40</td>\n",
       "      <td>Arrow</td>\n",
       "      <td>Serie TV</td>\n",
       "      <td>100.0</td>\n",
       "      <td>3.0</td>\n",
       "      <td>-10 ans</td>\n",
       "      <td>24.0</td>\n",
       "      <td>2014</td>\n",
       "      <td>octobre</td>\n",
       "      <td>0</td>\n",
       "    </tr>\n",
       "    <tr>\n",
       "      <th>1</th>\n",
       "      <td>08 octobre 2014</td>\n",
       "      <td>mercredi</td>\n",
       "      <td>France 2</td>\n",
       "      <td>20.50</td>\n",
       "      <td>Les hommes de l'ombre</td>\n",
       "      <td>Serie TV</td>\n",
       "      <td>120.0</td>\n",
       "      <td>2.0</td>\n",
       "      <td>Tout public</td>\n",
       "      <td>22.40</td>\n",
       "      <td>Un soir à la tour Eiffel</td>\n",
       "      <td>Magazine</td>\n",
       "      <td>100.0</td>\n",
       "      <td>0.0</td>\n",
       "      <td>Tout public</td>\n",
       "      <td>13.0</td>\n",
       "      <td>2014</td>\n",
       "      <td>octobre</td>\n",
       "      <td>0</td>\n",
       "    </tr>\n",
       "    <tr>\n",
       "      <th>2</th>\n",
       "      <td>08 octobre 2014</td>\n",
       "      <td>mercredi</td>\n",
       "      <td>France 3</td>\n",
       "      <td>20.45</td>\n",
       "      <td>Des racines et des ailes</td>\n",
       "      <td>Magazine</td>\n",
       "      <td>115.0</td>\n",
       "      <td>0.0</td>\n",
       "      <td>Tout public</td>\n",
       "      <td>23.36</td>\n",
       "      <td>Le comte Ory</td>\n",
       "      <td>Divertissement</td>\n",
       "      <td>144.0</td>\n",
       "      <td>0.0</td>\n",
       "      <td>Tout public</td>\n",
       "      <td>12.0</td>\n",
       "      <td>2014</td>\n",
       "      <td>octobre</td>\n",
       "      <td>0</td>\n",
       "    </tr>\n",
       "    <tr>\n",
       "      <th>3</th>\n",
       "      <td>08 octobre 2014</td>\n",
       "      <td>mercredi</td>\n",
       "      <td>Canal +</td>\n",
       "      <td>20.55</td>\n",
       "      <td>Diana</td>\n",
       "      <td>Film</td>\n",
       "      <td>110.0</td>\n",
       "      <td>0.0</td>\n",
       "      <td>Tout public</td>\n",
       "      <td>22.45</td>\n",
       "      <td>9 mois ferme</td>\n",
       "      <td>Film</td>\n",
       "      <td>80.0</td>\n",
       "      <td>0.0</td>\n",
       "      <td>Tout public</td>\n",
       "      <td>NaN</td>\n",
       "      <td>2014</td>\n",
       "      <td>octobre</td>\n",
       "      <td>0</td>\n",
       "    </tr>\n",
       "    <tr>\n",
       "      <th>4</th>\n",
       "      <td>08 octobre 2014</td>\n",
       "      <td>mercredi</td>\n",
       "      <td>France 5</td>\n",
       "      <td>20.40</td>\n",
       "      <td>La maison France 5</td>\n",
       "      <td>Magazine</td>\n",
       "      <td>60.0</td>\n",
       "      <td>0.0</td>\n",
       "      <td>Tout public</td>\n",
       "      <td>21.40</td>\n",
       "      <td>Silence, ça pousse !</td>\n",
       "      <td>Magazine</td>\n",
       "      <td>49.0</td>\n",
       "      <td>0.0</td>\n",
       "      <td>Tout public</td>\n",
       "      <td>2.0</td>\n",
       "      <td>2014</td>\n",
       "      <td>octobre</td>\n",
       "      <td>0</td>\n",
       "    </tr>\n",
       "    <tr>\n",
       "      <th>...</th>\n",
       "      <td>...</td>\n",
       "      <td>...</td>\n",
       "      <td>...</td>\n",
       "      <td>...</td>\n",
       "      <td>...</td>\n",
       "      <td>...</td>\n",
       "      <td>...</td>\n",
       "      <td>...</td>\n",
       "      <td>...</td>\n",
       "      <td>...</td>\n",
       "      <td>...</td>\n",
       "      <td>...</td>\n",
       "      <td>...</td>\n",
       "      <td>...</td>\n",
       "      <td>...</td>\n",
       "      <td>...</td>\n",
       "      <td>...</td>\n",
       "      <td>...</td>\n",
       "      <td>...</td>\n",
       "    </tr>\n",
       "    <tr>\n",
       "      <th>48341</th>\n",
       "      <td>31 décembre 2019</td>\n",
       "      <td>NaN</td>\n",
       "      <td>Gulli</td>\n",
       "      <td>NaN</td>\n",
       "      <td>NaN</td>\n",
       "      <td>NaN</td>\n",
       "      <td>NaN</td>\n",
       "      <td>NaN</td>\n",
       "      <td>NaN</td>\n",
       "      <td>NaN</td>\n",
       "      <td>NaN</td>\n",
       "      <td>NaN</td>\n",
       "      <td>NaN</td>\n",
       "      <td>NaN</td>\n",
       "      <td>NaN</td>\n",
       "      <td>0.0</td>\n",
       "      <td>2019</td>\n",
       "      <td>décembre</td>\n",
       "      <td>0</td>\n",
       "    </tr>\n",
       "    <tr>\n",
       "      <th>48342</th>\n",
       "      <td>31 décembre 2019</td>\n",
       "      <td>NaN</td>\n",
       "      <td>C Star</td>\n",
       "      <td>NaN</td>\n",
       "      <td>NaN</td>\n",
       "      <td>NaN</td>\n",
       "      <td>NaN</td>\n",
       "      <td>NaN</td>\n",
       "      <td>NaN</td>\n",
       "      <td>NaN</td>\n",
       "      <td>NaN</td>\n",
       "      <td>NaN</td>\n",
       "      <td>NaN</td>\n",
       "      <td>NaN</td>\n",
       "      <td>NaN</td>\n",
       "      <td>0.0</td>\n",
       "      <td>2019</td>\n",
       "      <td>décembre</td>\n",
       "      <td>0</td>\n",
       "    </tr>\n",
       "    <tr>\n",
       "      <th>48343</th>\n",
       "      <td>31 décembre 2019</td>\n",
       "      <td>NaN</td>\n",
       "      <td>Cherie 25</td>\n",
       "      <td>NaN</td>\n",
       "      <td>NaN</td>\n",
       "      <td>NaN</td>\n",
       "      <td>NaN</td>\n",
       "      <td>NaN</td>\n",
       "      <td>NaN</td>\n",
       "      <td>NaN</td>\n",
       "      <td>NaN</td>\n",
       "      <td>NaN</td>\n",
       "      <td>NaN</td>\n",
       "      <td>NaN</td>\n",
       "      <td>NaN</td>\n",
       "      <td>0.0</td>\n",
       "      <td>2019</td>\n",
       "      <td>décembre</td>\n",
       "      <td>0</td>\n",
       "    </tr>\n",
       "    <tr>\n",
       "      <th>48344</th>\n",
       "      <td>31 décembre 2019</td>\n",
       "      <td>NaN</td>\n",
       "      <td>RMC Story</td>\n",
       "      <td>NaN</td>\n",
       "      <td>NaN</td>\n",
       "      <td>NaN</td>\n",
       "      <td>NaN</td>\n",
       "      <td>NaN</td>\n",
       "      <td>NaN</td>\n",
       "      <td>NaN</td>\n",
       "      <td>NaN</td>\n",
       "      <td>NaN</td>\n",
       "      <td>NaN</td>\n",
       "      <td>NaN</td>\n",
       "      <td>NaN</td>\n",
       "      <td>0.0</td>\n",
       "      <td>2019</td>\n",
       "      <td>décembre</td>\n",
       "      <td>0</td>\n",
       "    </tr>\n",
       "    <tr>\n",
       "      <th>48345</th>\n",
       "      <td>28 juillet 2019</td>\n",
       "      <td>NaN</td>\n",
       "      <td>Gulli</td>\n",
       "      <td>NaN</td>\n",
       "      <td>NaN</td>\n",
       "      <td>NaN</td>\n",
       "      <td>NaN</td>\n",
       "      <td>NaN</td>\n",
       "      <td>NaN</td>\n",
       "      <td>NaN</td>\n",
       "      <td>NaN</td>\n",
       "      <td>NaN</td>\n",
       "      <td>NaN</td>\n",
       "      <td>NaN</td>\n",
       "      <td>NaN</td>\n",
       "      <td>0.0</td>\n",
       "      <td>2019</td>\n",
       "      <td>juillet</td>\n",
       "      <td>0</td>\n",
       "    </tr>\n",
       "  </tbody>\n",
       "</table>\n",
       "<p>48346 rows × 19 columns</p>\n",
       "</div>"
      ],
      "text/plain": [
       "                   Date      Jour     Chaine  Heure_prgm1  \\\n",
       "0       08 octobre 2014  mercredi        TF1        20.55   \n",
       "1       08 octobre 2014  mercredi   France 2        20.50   \n",
       "2       08 octobre 2014  mercredi   France 3        20.45   \n",
       "3       08 octobre 2014  mercredi    Canal +        20.55   \n",
       "4       08 octobre 2014  mercredi   France 5        20.40   \n",
       "...                 ...       ...        ...          ...   \n",
       "48341  31 décembre 2019       NaN      Gulli          NaN   \n",
       "48342  31 décembre 2019       NaN     C Star          NaN   \n",
       "48343  31 décembre 2019       NaN  Cherie 25          NaN   \n",
       "48344  31 décembre 2019       NaN  RMC Story          NaN   \n",
       "48345   28 juillet 2019       NaN      Gulli          NaN   \n",
       "\n",
       "                    Titre_prgm1 Type_prgm1  Duree_prgm1  Nbre_episodes_prgm1  \\\n",
       "0                     Blacklist   Serie TV        110.0                  2.0   \n",
       "1         Les hommes de l'ombre   Serie TV        120.0                  2.0   \n",
       "2      Des racines et des ailes   Magazine        115.0                  0.0   \n",
       "3                         Diana       Film        110.0                  0.0   \n",
       "4            La maison France 5   Magazine         60.0                  0.0   \n",
       "...                         ...        ...          ...                  ...   \n",
       "48341                       NaN        NaN          NaN                  NaN   \n",
       "48342                       NaN        NaN          NaN                  NaN   \n",
       "48343                       NaN        NaN          NaN                  NaN   \n",
       "48344                       NaN        NaN          NaN                  NaN   \n",
       "48345                       NaN        NaN          NaN                  NaN   \n",
       "\n",
       "      Age_conseille_prgm1 Heure_prgm2               Titre_prgm2  \\\n",
       "0                 -10 ans       22.40                     Arrow   \n",
       "1             Tout public       22.40  Un soir à la tour Eiffel   \n",
       "2             Tout public       23.36              Le comte Ory   \n",
       "3             Tout public       22.45              9 mois ferme   \n",
       "4             Tout public       21.40      Silence, ça pousse !   \n",
       "...                   ...         ...                       ...   \n",
       "48341                 NaN         NaN                       NaN   \n",
       "48342                 NaN         NaN                       NaN   \n",
       "48343                 NaN         NaN                       NaN   \n",
       "48344                 NaN         NaN                       NaN   \n",
       "48345                 NaN         NaN                       NaN   \n",
       "\n",
       "           Type_prgm2  Duree_prgm2  Nbre_episodes_prgm2 Age_conseille_prgm2  \\\n",
       "0            Serie TV        100.0                  3.0             -10 ans   \n",
       "1            Magazine        100.0                  0.0         Tout public   \n",
       "2      Divertissement        144.0                  0.0         Tout public   \n",
       "3                Film         80.0                  0.0         Tout public   \n",
       "4            Magazine         49.0                  0.0         Tout public   \n",
       "...               ...          ...                  ...                 ...   \n",
       "48341             NaN          NaN                  NaN                 NaN   \n",
       "48342             NaN          NaN                  NaN                 NaN   \n",
       "48343             NaN          NaN                  NaN                 NaN   \n",
       "48344             NaN          NaN                  NaN                 NaN   \n",
       "48345             NaN          NaN                  NaN                 NaN   \n",
       "\n",
       "       Part_de_marche  Annee      Mois  Week end  \n",
       "0                24.0   2014   octobre         0  \n",
       "1                13.0   2014   octobre         0  \n",
       "2                12.0   2014   octobre         0  \n",
       "3                 NaN   2014   octobre         0  \n",
       "4                 2.0   2014   octobre         0  \n",
       "...               ...    ...       ...       ...  \n",
       "48341             0.0   2019  décembre         0  \n",
       "48342             0.0   2019  décembre         0  \n",
       "48343             0.0   2019  décembre         0  \n",
       "48344             0.0   2019  décembre         0  \n",
       "48345             0.0   2019   juillet         0  \n",
       "\n",
       "[48346 rows x 19 columns]"
      ]
     },
     "execution_count": 3,
     "metadata": {},
     "output_type": "execute_result"
    }
   ],
   "source": [
    "data"
   ]
  },
  {
   "cell_type": "markdown",
   "metadata": {},
   "source": [
    "# Supression des NA"
   ]
  },
  {
   "cell_type": "code",
   "execution_count": 4,
   "metadata": {},
   "outputs": [],
   "source": [
    "data.drop(columns=\"Date\", inplace=True)"
   ]
  },
  {
   "cell_type": "code",
   "execution_count": 5,
   "metadata": {},
   "outputs": [
    {
     "data": {
      "text/plain": [
       "Jour                     575\n",
       "Chaine                     6\n",
       "Heure_prgm1              575\n",
       "Titre_prgm1             1264\n",
       "Type_prgm1              1266\n",
       "Duree_prgm1              575\n",
       "Nbre_episodes_prgm1      575\n",
       "Age_conseille_prgm1      575\n",
       "Heure_prgm2              575\n",
       "Titre_prgm2              969\n",
       "Type_prgm2               974\n",
       "Duree_prgm2              575\n",
       "Nbre_episodes_prgm2      575\n",
       "Age_conseille_prgm2      575\n",
       "Part_de_marche         16227\n",
       "Annee                      0\n",
       "Mois                       0\n",
       "Week end                   0\n",
       "dtype: int64"
      ]
     },
     "execution_count": 5,
     "metadata": {},
     "output_type": "execute_result"
    }
   ],
   "source": [
    "data.isnull().sum()"
   ]
  },
  {
   "cell_type": "code",
   "execution_count": 6,
   "metadata": {},
   "outputs": [],
   "source": []
  },
  {
   "cell_type": "code",
   "execution_count": 23,
   "metadata": {},
   "outputs": [],
   "source": [
    "data.dropna(axis=1, thresh=6, inplace=True)"
   ]
  },
  {
   "cell_type": "code",
   "execution_count": null,
   "metadata": {},
   "outputs": [],
   "source": [
    "data.isnull().sum()"
   ]
  },
  {
   "cell_type": "code",
   "execution_count": null,
   "metadata": {},
   "outputs": [],
   "source": [
    "data.to_csv(\\\"Donnees_sans_na.csv\\\",index=False)"
   ]
  },
  {
   "cell_type": "code",
   "execution_count": 5,
   "metadata": {},
   "outputs": [],
   "source": [
    "from sklearn.preprocessing import LabelEncoder,OneHotEncoder"
   ]
  },
  {
   "cell_type": "markdown",
   "metadata": {},
   "source": [
    "# Recodage par label encoder"
   ]
  },
  {
   "cell_type": "code",
   "execution_count": 6,
   "metadata": {},
   "outputs": [],
   "source": [
    "gestion_jour = LabelEncoder()\n",
    "gestion_mois = LabelEncoder()\n",
    "data[\"Jour\"] = gestion_jour.fit_transform(data[\"Jour\"].astype(str))\n",
    "data[\"Mois\"]= gestion_mois.fit_transform(data[\"Mois\"].astype(str))"
   ]
  },
  {
   "cell_type": "code",
   "execution_count": 7,
   "metadata": {},
   "outputs": [],
   "source": [
    "gestion_heure_prgm1 = LabelEncoder()\n",
    "gestion_heure_prgm2 = LabelEncoder()\n",
    "data['Heure_prgm1'] = gestion_heure_prgm1.fit_transform(data[\"Heure_prgm1\"].astype(str))\n",
    "data['Heure_prgm2'] = gestion_heure_prgm2.fit_transform(data[\"Heure_prgm2\"].astype(str))"
   ]
  },
  {
   "cell_type": "code",
   "execution_count": 8,
   "metadata": {},
   "outputs": [],
   "source": [
    "gestion_age_prgm1 = LabelEncoder()\n",
    "gestion_age_prgm2 = LabelEncoder()\n",
    "data['Age_conseille_prgm1'] = gestion_age_prgm1.fit_transform(data[\"Age_conseille_prgm1\"].astype(str))\n",
    "data['Age_conseille_prgm2'] = gestion_age_prgm2.fit_transform(data[\"Age_conseille_prgm2\"].astype(str))"
   ]
  },
  {
   "cell_type": "code",
   "execution_count": null,
   "metadata": {},
   "outputs": [],
   "source": [
    "gestion_type_prgm1 = LabelEncoder()\n",
    "data['Type_prgm1'] = gestion_type_prgm1.fit_transform(data[\"Type_prgm1\"].astype(str))"
   ]
  },
  {
   "cell_type": "code",
   "execution_count": 14,
   "metadata": {},
   "outputs": [],
   "source": [
    "reste = data[[\"Jour\",\"Week end\",\"Mois\",\"Annee\",\"Heure_prgm1\",\"Duree_prgm1\",\"Duree_prgm2\", \"Nbre_episodes_prgm1\",\n",
    "              \"Age_conseille_prgm1\",\"Heure_prgm2\", \"Nbre_episodes_prgm2\",\"Age_conseille_prgm2\",\n",
    "              \"Part_de_marche\"]].values"
   ]
  },
  {
   "cell_type": "markdown",
   "metadata": {},
   "source": [
    "# Recodage par one hot encoder"
   ]
  },
  {
   "cell_type": "code",
   "execution_count": 13,
   "metadata": {},
   "outputs": [],
   "source": [
    "gestion_chaine = OneHotEncoder()\n",
    "chaine_ohe = gestion_chaine.fit_transform(data[\"Chaine\"]\n",
    "                                          .astype(str)\n",
    "                                          .values\n",
    "                                          .reshape(-1,1)\n",
    "                                         )"
   ]
  },
  {
   "cell_type": "code",
   "execution_count": null,
   "metadata": {},
   "outputs": [],
   "source": [
    "gestion_type_prgm2 = OneHotEncoder()\n",
    "type_prgm2_ohe = gestion_type_prgm2.fit_transform(data[\"Type_prgm2\"]\n",
    "                                  .astype(str)\n",
    "                                  .values\n",
    "                                  .reshape(-1, 1)\n",
    "                                 )"
   ]
  },
  {
   "cell_type": "code",
   "execution_count": 18,
   "metadata": {},
   "outputs": [
    {
     "ename": "NameError",
     "evalue": "name 'type_prgm2_ohe' is not defined",
     "output_type": "error",
     "traceback": [
      "\u001b[1;31m---------------------------------------------------------------------------\u001b[0m",
      "\u001b[1;31mNameError\u001b[0m                                 Traceback (most recent call last)",
      "\u001b[1;32m<ipython-input-18-dd4ab817eefe>\u001b[0m in \u001b[0;36m<module>\u001b[1;34m\u001b[0m\n\u001b[1;32m----> 1\u001b[1;33m \u001b[0mX\u001b[0m \u001b[1;33m=\u001b[0m \u001b[0mnp\u001b[0m\u001b[1;33m.\u001b[0m\u001b[0mconcatenate\u001b[0m\u001b[1;33m(\u001b[0m\u001b[1;33m(\u001b[0m\u001b[0mchaine_ohe\u001b[0m\u001b[1;33m.\u001b[0m\u001b[0mtoarray\u001b[0m\u001b[1;33m(\u001b[0m\u001b[1;33m)\u001b[0m\u001b[1;33m,\u001b[0m\u001b[0mtype_prgm2_ohe\u001b[0m\u001b[1;33m.\u001b[0m\u001b[0mtoarray\u001b[0m\u001b[1;33m(\u001b[0m\u001b[1;33m)\u001b[0m\u001b[1;33m,\u001b[0m\u001b[0mreste\u001b[0m\u001b[1;33m)\u001b[0m\u001b[1;33m,\u001b[0m \u001b[0maxis\u001b[0m\u001b[1;33m=\u001b[0m\u001b[1;36m1\u001b[0m\u001b[1;33m)\u001b[0m\u001b[1;33m\u001b[0m\u001b[1;33m\u001b[0m\u001b[0m\n\u001b[0m\u001b[0;32m      2\u001b[0m \u001b[0my\u001b[0m \u001b[1;33m=\u001b[0m \u001b[0mdata\u001b[0m\u001b[1;33m[\u001b[0m\u001b[1;33m[\u001b[0m\u001b[1;34m'Type_prgm1'\u001b[0m\u001b[1;33m]\u001b[0m\u001b[1;33m]\u001b[0m\u001b[1;33m.\u001b[0m\u001b[0mvalues\u001b[0m\u001b[1;33m\u001b[0m\u001b[1;33m\u001b[0m\u001b[0m\n",
      "\u001b[1;31mNameError\u001b[0m: name 'type_prgm2_ohe' is not defined"
     ]
    }
   ],
   "source": [
    "X = np.concatenate((chaine_ohe.toarray(),type_prgm2_ohe.toarray(),reste), axis=1)\n",
    "y = data[['Type_prgm1']].values"
   ]
  },
  {
   "cell_type": "markdown",
   "metadata": {},
   "source": [
    "# Séparation de l'échantillon"
   ]
  },
  {
   "cell_type": "code",
   "execution_count": 15,
   "metadata": {},
   "outputs": [],
   "source": [
    "from sklearn.model_selection import (train_test_split)"
   ]
  },
  {
   "cell_type": "code",
   "execution_count": 16,
   "metadata": {},
   "outputs": [
    {
     "ename": "NameError",
     "evalue": "name 'X' is not defined",
     "output_type": "error",
     "traceback": [
      "\u001b[1;31m---------------------------------------------------------------------------\u001b[0m",
      "\u001b[1;31mNameError\u001b[0m                                 Traceback (most recent call last)",
      "\u001b[1;32m<ipython-input-16-214f64f0b1ab>\u001b[0m in \u001b[0;36m<module>\u001b[1;34m\u001b[0m\n\u001b[1;32m----> 1\u001b[1;33m \u001b[0mX_train\u001b[0m\u001b[1;33m,\u001b[0m \u001b[0mX_test\u001b[0m\u001b[1;33m,\u001b[0m \u001b[0my_train\u001b[0m\u001b[1;33m,\u001b[0m \u001b[0my_test\u001b[0m \u001b[1;33m=\u001b[0m \u001b[0mtrain_test_split\u001b[0m\u001b[1;33m(\u001b[0m\u001b[0mX\u001b[0m\u001b[1;33m,\u001b[0m \u001b[0my\u001b[0m\u001b[1;33m,\u001b[0m\u001b[0mtest_size\u001b[0m\u001b[1;33m=\u001b[0m\u001b[1;36m0.9\u001b[0m\u001b[1;33m)\u001b[0m\u001b[1;33m\u001b[0m\u001b[1;33m\u001b[0m\u001b[0m\n\u001b[0m",
      "\u001b[1;31mNameError\u001b[0m: name 'X' is not defined"
     ]
    }
   ],
   "source": [
    "X_train, X_test, y_train, y_test = train_test_split(X, y,test_size=0.9)"
   ]
  },
  {
   "cell_type": "markdown",
   "metadata": {},
   "source": [
    "# Normalisation par Standard Scaler et MinMax Scaler"
   ]
  },
  {
   "cell_type": "code",
   "execution_count": null,
   "metadata": {},
   "outputs": [],
   "source": [
    "ss = StandardScaler()\n",
    "X_ess = ss.fit_transform(X_train)\n",
    "X_test_ess = ss.fit_transform(X_test)\n",
    "mm = MinMaxScaler()\n",
    "X_emm = mm.fit_transform(X_train)"
   ]
  },
  {
   "cell_type": "markdown",
   "metadata": {},
   "source": [
    "# Gaussian Process"
   ]
  },
  {
   "cell_type": "code",
   "execution_count": 17,
   "metadata": {},
   "outputs": [],
   "source": [
    "from sklearn.gaussian_process import GaussianProcessClassifier as GPC\n",
    "from sklearn.gaussian_process.kernels import RBF,RationalQuadratic"
   ]
  },
  {
   "cell_type": "code",
   "execution_count": null,
   "metadata": {},
   "outputs": [],
   "source": [
    "kernel = 1.0 * RBF(1.0)\n",
    "gpc = GPC(kernel=kernel,random_state=0).fit(X_train, y_train)\n",
    "gpc.score(X_train, y_train)"
   ]
  },
  {
   "cell_type": "code",
   "execution_count": null,
   "metadata": {},
   "outputs": [],
   "source": [
    "kernel_rq = (1.0) * RationalQuadratic(alpha=0.1, length_scale=1)\n",
    "gpc_rq = GPC(kernel=kernel_rq,random_state=0).fit(X_train, y_train)\n",
    "gpc_rq.score(X_train, y_train)"
   ]
  },
  {
   "cell_type": "markdown",
   "metadata": {},
   "source": [
    "# Gaussian Process - Standard Scaler"
   ]
  },
  {
   "cell_type": "code",
   "execution_count": null,
   "metadata": {},
   "outputs": [],
   "source": [
    "kernel = 1.0 * RBF(1.0)\n",
    "gpc_ss = GPC(kernel=kernel,random_state=0).fit(X_ess, y_train)\n",
    "gpc_ss.score(X_ess, y_train)"
   ]
  },
  {
   "cell_type": "code",
   "execution_count": null,
   "metadata": {},
   "outputs": [],
   "source": [
    "kernel_rq = (1.0) * RationalQuadratic(alpha=0.1, length_scale=1)\n",
    "gpc_ss_rq = GPC(kernel=kernel_rq,random_state=0).fit(X_ess, y_train)\n",
    "gpc_ss_rq.score(X_ess, y_train)"
   ]
  },
  {
   "cell_type": "markdown",
   "metadata": {},
   "source": [
    "# Gaussian Process - MinMax Scaler"
   ]
  },
  {
   "cell_type": "code",
   "execution_count": null,
   "metadata": {},
   "outputs": [],
   "source": [
    "kernel = 1.0 * RBF(1.0)\n",
    "gpc_mm = GPC(kernel=kernel,random_state=0).fit(X_emm, y_train)\n",
    "gpc_mm.score(X_emm, y_train)"
   ]
  },
  {
   "cell_type": "code",
   "execution_count": null,
   "metadata": {},
   "outputs": [],
   "source": [
    "kernel_rq = (1.0) * RationalQuadratic(alpha=0.1, length_scale=1)\n",
    "gpc_mm_rq = GPC(kernel=kernel_rq,random_state=0).fit(X_emm, y_train)\n",
    "gpc_mm_rq.score(X_emm, y_train)"
   ]
  },
  {
   "cell_type": "markdown",
   "metadata": {},
   "source": [
    "# Meilleur modèle sur données test"
   ]
  },
  {
   "cell_type": "code",
   "execution_count": null,
   "metadata": {},
   "outputs": [],
   "source": [
    "gpc_ss_rq.score(X_test_ess, y_test)"
   ]
  }
 ],
 "metadata": {
  "kernelspec": {
   "display_name": "Python 3",
   "language": "python",
   "name": "python3"
  },
  "language_info": {
   "codemirror_mode": {
    "name": "ipython",
    "version": 3
   },
   "file_extension": ".py",
   "mimetype": "text/x-python",
   "name": "python",
   "nbconvert_exporter": "python",
   "pygments_lexer": "ipython3",
   "version": "3.7.5"
  }
 },
 "nbformat": 4,
 "nbformat_minor": 2
}
