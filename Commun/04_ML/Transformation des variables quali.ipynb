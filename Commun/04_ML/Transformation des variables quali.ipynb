{
 "cells": [
  {
   "cell_type": "code",
   "execution_count": 1,
   "metadata": {},
   "outputs": [],
   "source": [
    "import pandas as pd\n",
    "import numpy as np"
   ]
  },
  {
   "cell_type": "code",
   "execution_count": 2,
   "metadata": {},
   "outputs": [
    {
     "data": {
      "text/html": [
       "<div>\n",
       "<style scoped>\n",
       "    .dataframe tbody tr th:only-of-type {\n",
       "        vertical-align: middle;\n",
       "    }\n",
       "\n",
       "    .dataframe tbody tr th {\n",
       "        vertical-align: top;\n",
       "    }\n",
       "\n",
       "    .dataframe thead th {\n",
       "        text-align: right;\n",
       "    }\n",
       "</style>\n",
       "<table border=\"1\" class=\"dataframe\">\n",
       "  <thead>\n",
       "    <tr style=\"text-align: right;\">\n",
       "      <th></th>\n",
       "      <th>Date</th>\n",
       "      <th>Jour</th>\n",
       "      <th>Chaine</th>\n",
       "      <th>Heure_prgm1</th>\n",
       "      <th>Titre_prgm1</th>\n",
       "      <th>Type_prgm1</th>\n",
       "      <th>Duree_prgm1</th>\n",
       "      <th>Nbre_episodes_prgm1</th>\n",
       "      <th>Age_conseille_prgm1</th>\n",
       "      <th>Heure_prgm2</th>\n",
       "      <th>Titre_prgm2</th>\n",
       "      <th>Type_prgm2</th>\n",
       "      <th>Duree_prgm2</th>\n",
       "      <th>Nbre_episodes_prgm2</th>\n",
       "      <th>Age_conseille_prgm2</th>\n",
       "      <th>Part_de_marche</th>\n",
       "      <th>Annee</th>\n",
       "      <th>Mois</th>\n",
       "      <th>Week end</th>\n",
       "    </tr>\n",
       "  </thead>\n",
       "  <tbody>\n",
       "    <tr>\n",
       "      <th>0</th>\n",
       "      <td>08 octobre 2014</td>\n",
       "      <td>mercredi</td>\n",
       "      <td>TF1</td>\n",
       "      <td>20.55</td>\n",
       "      <td>Blacklist</td>\n",
       "      <td>Serie TV</td>\n",
       "      <td>110.0</td>\n",
       "      <td>2.0</td>\n",
       "      <td>-10 ans</td>\n",
       "      <td>22.40</td>\n",
       "      <td>Arrow</td>\n",
       "      <td>Serie TV</td>\n",
       "      <td>100.0</td>\n",
       "      <td>3.0</td>\n",
       "      <td>-10 ans</td>\n",
       "      <td>24.0</td>\n",
       "      <td>2014</td>\n",
       "      <td>octobre</td>\n",
       "      <td>0</td>\n",
       "    </tr>\n",
       "    <tr>\n",
       "      <th>1</th>\n",
       "      <td>08 octobre 2014</td>\n",
       "      <td>mercredi</td>\n",
       "      <td>France 2</td>\n",
       "      <td>20.50</td>\n",
       "      <td>Les hommes de l'ombre</td>\n",
       "      <td>Serie TV</td>\n",
       "      <td>120.0</td>\n",
       "      <td>2.0</td>\n",
       "      <td>Tout public</td>\n",
       "      <td>22.40</td>\n",
       "      <td>Un soir à la tour Eiffel</td>\n",
       "      <td>Magazine</td>\n",
       "      <td>100.0</td>\n",
       "      <td>0.0</td>\n",
       "      <td>Tout public</td>\n",
       "      <td>13.0</td>\n",
       "      <td>2014</td>\n",
       "      <td>octobre</td>\n",
       "      <td>0</td>\n",
       "    </tr>\n",
       "    <tr>\n",
       "      <th>2</th>\n",
       "      <td>08 octobre 2014</td>\n",
       "      <td>mercredi</td>\n",
       "      <td>France 3</td>\n",
       "      <td>20.45</td>\n",
       "      <td>Des racines et des ailes</td>\n",
       "      <td>Magazine</td>\n",
       "      <td>115.0</td>\n",
       "      <td>0.0</td>\n",
       "      <td>Tout public</td>\n",
       "      <td>23.36</td>\n",
       "      <td>Le comte Ory</td>\n",
       "      <td>Divertissement</td>\n",
       "      <td>144.0</td>\n",
       "      <td>0.0</td>\n",
       "      <td>Tout public</td>\n",
       "      <td>12.0</td>\n",
       "      <td>2014</td>\n",
       "      <td>octobre</td>\n",
       "      <td>0</td>\n",
       "    </tr>\n",
       "    <tr>\n",
       "      <th>3</th>\n",
       "      <td>08 octobre 2014</td>\n",
       "      <td>mercredi</td>\n",
       "      <td>Canal +</td>\n",
       "      <td>20.55</td>\n",
       "      <td>Diana</td>\n",
       "      <td>Film</td>\n",
       "      <td>110.0</td>\n",
       "      <td>0.0</td>\n",
       "      <td>Tout public</td>\n",
       "      <td>22.45</td>\n",
       "      <td>9 mois ferme</td>\n",
       "      <td>Film</td>\n",
       "      <td>80.0</td>\n",
       "      <td>0.0</td>\n",
       "      <td>Tout public</td>\n",
       "      <td>NaN</td>\n",
       "      <td>2014</td>\n",
       "      <td>octobre</td>\n",
       "      <td>0</td>\n",
       "    </tr>\n",
       "    <tr>\n",
       "      <th>4</th>\n",
       "      <td>08 octobre 2014</td>\n",
       "      <td>mercredi</td>\n",
       "      <td>France 5</td>\n",
       "      <td>20.40</td>\n",
       "      <td>La maison France 5</td>\n",
       "      <td>Magazine</td>\n",
       "      <td>60.0</td>\n",
       "      <td>0.0</td>\n",
       "      <td>Tout public</td>\n",
       "      <td>21.40</td>\n",
       "      <td>Silence, ça pousse !</td>\n",
       "      <td>Magazine</td>\n",
       "      <td>49.0</td>\n",
       "      <td>0.0</td>\n",
       "      <td>Tout public</td>\n",
       "      <td>2.0</td>\n",
       "      <td>2014</td>\n",
       "      <td>octobre</td>\n",
       "      <td>0</td>\n",
       "    </tr>\n",
       "    <tr>\n",
       "      <th>...</th>\n",
       "      <td>...</td>\n",
       "      <td>...</td>\n",
       "      <td>...</td>\n",
       "      <td>...</td>\n",
       "      <td>...</td>\n",
       "      <td>...</td>\n",
       "      <td>...</td>\n",
       "      <td>...</td>\n",
       "      <td>...</td>\n",
       "      <td>...</td>\n",
       "      <td>...</td>\n",
       "      <td>...</td>\n",
       "      <td>...</td>\n",
       "      <td>...</td>\n",
       "      <td>...</td>\n",
       "      <td>...</td>\n",
       "      <td>...</td>\n",
       "      <td>...</td>\n",
       "      <td>...</td>\n",
       "    </tr>\n",
       "    <tr>\n",
       "      <th>48341</th>\n",
       "      <td>31 décembre 2019</td>\n",
       "      <td>NaN</td>\n",
       "      <td>Gulli</td>\n",
       "      <td>NaN</td>\n",
       "      <td>NaN</td>\n",
       "      <td>NaN</td>\n",
       "      <td>NaN</td>\n",
       "      <td>NaN</td>\n",
       "      <td>NaN</td>\n",
       "      <td>NaN</td>\n",
       "      <td>NaN</td>\n",
       "      <td>NaN</td>\n",
       "      <td>NaN</td>\n",
       "      <td>NaN</td>\n",
       "      <td>NaN</td>\n",
       "      <td>0.0</td>\n",
       "      <td>2019</td>\n",
       "      <td>décembre</td>\n",
       "      <td>0</td>\n",
       "    </tr>\n",
       "    <tr>\n",
       "      <th>48342</th>\n",
       "      <td>31 décembre 2019</td>\n",
       "      <td>NaN</td>\n",
       "      <td>C Star</td>\n",
       "      <td>NaN</td>\n",
       "      <td>NaN</td>\n",
       "      <td>NaN</td>\n",
       "      <td>NaN</td>\n",
       "      <td>NaN</td>\n",
       "      <td>NaN</td>\n",
       "      <td>NaN</td>\n",
       "      <td>NaN</td>\n",
       "      <td>NaN</td>\n",
       "      <td>NaN</td>\n",
       "      <td>NaN</td>\n",
       "      <td>NaN</td>\n",
       "      <td>0.0</td>\n",
       "      <td>2019</td>\n",
       "      <td>décembre</td>\n",
       "      <td>0</td>\n",
       "    </tr>\n",
       "    <tr>\n",
       "      <th>48343</th>\n",
       "      <td>31 décembre 2019</td>\n",
       "      <td>NaN</td>\n",
       "      <td>Cherie 25</td>\n",
       "      <td>NaN</td>\n",
       "      <td>NaN</td>\n",
       "      <td>NaN</td>\n",
       "      <td>NaN</td>\n",
       "      <td>NaN</td>\n",
       "      <td>NaN</td>\n",
       "      <td>NaN</td>\n",
       "      <td>NaN</td>\n",
       "      <td>NaN</td>\n",
       "      <td>NaN</td>\n",
       "      <td>NaN</td>\n",
       "      <td>NaN</td>\n",
       "      <td>0.0</td>\n",
       "      <td>2019</td>\n",
       "      <td>décembre</td>\n",
       "      <td>0</td>\n",
       "    </tr>\n",
       "    <tr>\n",
       "      <th>48344</th>\n",
       "      <td>31 décembre 2019</td>\n",
       "      <td>NaN</td>\n",
       "      <td>RMC Story</td>\n",
       "      <td>NaN</td>\n",
       "      <td>NaN</td>\n",
       "      <td>NaN</td>\n",
       "      <td>NaN</td>\n",
       "      <td>NaN</td>\n",
       "      <td>NaN</td>\n",
       "      <td>NaN</td>\n",
       "      <td>NaN</td>\n",
       "      <td>NaN</td>\n",
       "      <td>NaN</td>\n",
       "      <td>NaN</td>\n",
       "      <td>NaN</td>\n",
       "      <td>0.0</td>\n",
       "      <td>2019</td>\n",
       "      <td>décembre</td>\n",
       "      <td>0</td>\n",
       "    </tr>\n",
       "    <tr>\n",
       "      <th>48345</th>\n",
       "      <td>28 juillet 2019</td>\n",
       "      <td>NaN</td>\n",
       "      <td>Gulli</td>\n",
       "      <td>NaN</td>\n",
       "      <td>NaN</td>\n",
       "      <td>NaN</td>\n",
       "      <td>NaN</td>\n",
       "      <td>NaN</td>\n",
       "      <td>NaN</td>\n",
       "      <td>NaN</td>\n",
       "      <td>NaN</td>\n",
       "      <td>NaN</td>\n",
       "      <td>NaN</td>\n",
       "      <td>NaN</td>\n",
       "      <td>NaN</td>\n",
       "      <td>0.0</td>\n",
       "      <td>2019</td>\n",
       "      <td>juillet</td>\n",
       "      <td>0</td>\n",
       "    </tr>\n",
       "  </tbody>\n",
       "</table>\n",
       "<p>48346 rows × 19 columns</p>\n",
       "</div>"
      ],
      "text/plain": [
       "                   Date      Jour     Chaine  Heure_prgm1  \\\n",
       "0       08 octobre 2014  mercredi        TF1        20.55   \n",
       "1       08 octobre 2014  mercredi   France 2        20.50   \n",
       "2       08 octobre 2014  mercredi   France 3        20.45   \n",
       "3       08 octobre 2014  mercredi    Canal +        20.55   \n",
       "4       08 octobre 2014  mercredi   France 5        20.40   \n",
       "...                 ...       ...        ...          ...   \n",
       "48341  31 décembre 2019       NaN      Gulli          NaN   \n",
       "48342  31 décembre 2019       NaN     C Star          NaN   \n",
       "48343  31 décembre 2019       NaN  Cherie 25          NaN   \n",
       "48344  31 décembre 2019       NaN  RMC Story          NaN   \n",
       "48345   28 juillet 2019       NaN      Gulli          NaN   \n",
       "\n",
       "                    Titre_prgm1 Type_prgm1  Duree_prgm1  Nbre_episodes_prgm1  \\\n",
       "0                     Blacklist   Serie TV        110.0                  2.0   \n",
       "1         Les hommes de l'ombre   Serie TV        120.0                  2.0   \n",
       "2      Des racines et des ailes   Magazine        115.0                  0.0   \n",
       "3                         Diana       Film        110.0                  0.0   \n",
       "4            La maison France 5   Magazine         60.0                  0.0   \n",
       "...                         ...        ...          ...                  ...   \n",
       "48341                       NaN        NaN          NaN                  NaN   \n",
       "48342                       NaN        NaN          NaN                  NaN   \n",
       "48343                       NaN        NaN          NaN                  NaN   \n",
       "48344                       NaN        NaN          NaN                  NaN   \n",
       "48345                       NaN        NaN          NaN                  NaN   \n",
       "\n",
       "      Age_conseille_prgm1 Heure_prgm2               Titre_prgm2  \\\n",
       "0                 -10 ans       22.40                     Arrow   \n",
       "1             Tout public       22.40  Un soir à la tour Eiffel   \n",
       "2             Tout public       23.36              Le comte Ory   \n",
       "3             Tout public       22.45              9 mois ferme   \n",
       "4             Tout public       21.40      Silence, ça pousse !   \n",
       "...                   ...         ...                       ...   \n",
       "48341                 NaN         NaN                       NaN   \n",
       "48342                 NaN         NaN                       NaN   \n",
       "48343                 NaN         NaN                       NaN   \n",
       "48344                 NaN         NaN                       NaN   \n",
       "48345                 NaN         NaN                       NaN   \n",
       "\n",
       "           Type_prgm2  Duree_prgm2  Nbre_episodes_prgm2 Age_conseille_prgm2  \\\n",
       "0            Serie TV        100.0                  3.0             -10 ans   \n",
       "1            Magazine        100.0                  0.0         Tout public   \n",
       "2      Divertissement        144.0                  0.0         Tout public   \n",
       "3                Film         80.0                  0.0         Tout public   \n",
       "4            Magazine         49.0                  0.0         Tout public   \n",
       "...               ...          ...                  ...                 ...   \n",
       "48341             NaN          NaN                  NaN                 NaN   \n",
       "48342             NaN          NaN                  NaN                 NaN   \n",
       "48343             NaN          NaN                  NaN                 NaN   \n",
       "48344             NaN          NaN                  NaN                 NaN   \n",
       "48345             NaN          NaN                  NaN                 NaN   \n",
       "\n",
       "       Part_de_marche  Annee      Mois  Week end  \n",
       "0                24.0   2014   octobre         0  \n",
       "1                13.0   2014   octobre         0  \n",
       "2                12.0   2014   octobre         0  \n",
       "3                 NaN   2014   octobre         0  \n",
       "4                 2.0   2014   octobre         0  \n",
       "...               ...    ...       ...       ...  \n",
       "48341             0.0   2019  décembre         0  \n",
       "48342             0.0   2019  décembre         0  \n",
       "48343             0.0   2019  décembre         0  \n",
       "48344             0.0   2019  décembre         0  \n",
       "48345             0.0   2019   juillet         0  \n",
       "\n",
       "[48346 rows x 19 columns]"
      ]
     },
     "execution_count": 2,
     "metadata": {},
     "output_type": "execute_result"
    }
   ],
   "source": [
    "data = pd.read_csv(\"base propre.csv\", sep=\",\")\n",
    "data"
   ]
  },
  {
   "cell_type": "markdown",
   "metadata": {},
   "source": [
    "# Suppression des NA"
   ]
  },
  {
   "cell_type": "code",
   "execution_count": 3,
   "metadata": {},
   "outputs": [
    {
     "data": {
      "text/plain": [
       "Date                       0\n",
       "Jour                     575\n",
       "Chaine                     6\n",
       "Heure_prgm1              575\n",
       "Titre_prgm1             1264\n",
       "Type_prgm1              1266\n",
       "Duree_prgm1              575\n",
       "Nbre_episodes_prgm1      575\n",
       "Age_conseille_prgm1      575\n",
       "Heure_prgm2              575\n",
       "Titre_prgm2              969\n",
       "Type_prgm2               974\n",
       "Duree_prgm2              575\n",
       "Nbre_episodes_prgm2      575\n",
       "Age_conseille_prgm2      575\n",
       "Part_de_marche         16227\n",
       "Annee                      0\n",
       "Mois                       0\n",
       "Week end                   0\n",
       "dtype: int64"
      ]
     },
     "execution_count": 3,
     "metadata": {},
     "output_type": "execute_result"
    }
   ],
   "source": [
    "data.isna().sum()"
   ]
  },
  {
   "cell_type": "code",
   "execution_count": 4,
   "metadata": {},
   "outputs": [],
   "source": [
    "data.dropna(axis=0, subset=['Jour','Chaine','Part_de_marche','Type_prgm1','Type_prgm2'],inplace=True)"
   ]
  },
  {
   "cell_type": "code",
   "execution_count": 5,
   "metadata": {},
   "outputs": [
    {
     "data": {
      "text/plain": [
       "Date                   0\n",
       "Jour                   0\n",
       "Chaine                 0\n",
       "Heure_prgm1            0\n",
       "Titre_prgm1            0\n",
       "Type_prgm1             0\n",
       "Duree_prgm1            0\n",
       "Nbre_episodes_prgm1    0\n",
       "Age_conseille_prgm1    0\n",
       "Heure_prgm2            0\n",
       "Titre_prgm2            0\n",
       "Type_prgm2             0\n",
       "Duree_prgm2            0\n",
       "Nbre_episodes_prgm2    0\n",
       "Age_conseille_prgm2    0\n",
       "Part_de_marche         0\n",
       "Annee                  0\n",
       "Mois                   0\n",
       "Week end               0\n",
       "dtype: int64"
      ]
     },
     "execution_count": 5,
     "metadata": {},
     "output_type": "execute_result"
    }
   ],
   "source": [
    "data.isna().sum()"
   ]
  },
  {
   "cell_type": "code",
   "execution_count": 6,
   "metadata": {
    "scrolled": true
   },
   "outputs": [
    {
     "data": {
      "text/html": [
       "<div>\n",
       "<style scoped>\n",
       "    .dataframe tbody tr th:only-of-type {\n",
       "        vertical-align: middle;\n",
       "    }\n",
       "\n",
       "    .dataframe tbody tr th {\n",
       "        vertical-align: top;\n",
       "    }\n",
       "\n",
       "    .dataframe thead th {\n",
       "        text-align: right;\n",
       "    }\n",
       "</style>\n",
       "<table border=\"1\" class=\"dataframe\">\n",
       "  <thead>\n",
       "    <tr style=\"text-align: right;\">\n",
       "      <th></th>\n",
       "      <th>Date</th>\n",
       "      <th>Jour</th>\n",
       "      <th>Chaine</th>\n",
       "      <th>Heure_prgm1</th>\n",
       "      <th>Titre_prgm1</th>\n",
       "      <th>Type_prgm1</th>\n",
       "      <th>Duree_prgm1</th>\n",
       "      <th>Nbre_episodes_prgm1</th>\n",
       "      <th>Age_conseille_prgm1</th>\n",
       "      <th>Heure_prgm2</th>\n",
       "      <th>Titre_prgm2</th>\n",
       "      <th>Type_prgm2</th>\n",
       "      <th>Duree_prgm2</th>\n",
       "      <th>Nbre_episodes_prgm2</th>\n",
       "      <th>Age_conseille_prgm2</th>\n",
       "      <th>Part_de_marche</th>\n",
       "      <th>Annee</th>\n",
       "      <th>Mois</th>\n",
       "      <th>Week end</th>\n",
       "    </tr>\n",
       "  </thead>\n",
       "  <tbody>\n",
       "    <tr>\n",
       "      <th>0</th>\n",
       "      <td>08 octobre 2014</td>\n",
       "      <td>mercredi</td>\n",
       "      <td>TF1</td>\n",
       "      <td>20.55</td>\n",
       "      <td>Blacklist</td>\n",
       "      <td>Serie TV</td>\n",
       "      <td>110.0</td>\n",
       "      <td>2.0</td>\n",
       "      <td>-10 ans</td>\n",
       "      <td>22.40</td>\n",
       "      <td>Arrow</td>\n",
       "      <td>Serie TV</td>\n",
       "      <td>100.0</td>\n",
       "      <td>3.0</td>\n",
       "      <td>-10 ans</td>\n",
       "      <td>24.0</td>\n",
       "      <td>2014</td>\n",
       "      <td>octobre</td>\n",
       "      <td>0</td>\n",
       "    </tr>\n",
       "    <tr>\n",
       "      <th>1</th>\n",
       "      <td>08 octobre 2014</td>\n",
       "      <td>mercredi</td>\n",
       "      <td>France 2</td>\n",
       "      <td>20.50</td>\n",
       "      <td>Les hommes de l'ombre</td>\n",
       "      <td>Serie TV</td>\n",
       "      <td>120.0</td>\n",
       "      <td>2.0</td>\n",
       "      <td>Tout public</td>\n",
       "      <td>22.40</td>\n",
       "      <td>Un soir à la tour Eiffel</td>\n",
       "      <td>Magazine</td>\n",
       "      <td>100.0</td>\n",
       "      <td>0.0</td>\n",
       "      <td>Tout public</td>\n",
       "      <td>13.0</td>\n",
       "      <td>2014</td>\n",
       "      <td>octobre</td>\n",
       "      <td>0</td>\n",
       "    </tr>\n",
       "    <tr>\n",
       "      <th>2</th>\n",
       "      <td>08 octobre 2014</td>\n",
       "      <td>mercredi</td>\n",
       "      <td>France 3</td>\n",
       "      <td>20.45</td>\n",
       "      <td>Des racines et des ailes</td>\n",
       "      <td>Magazine</td>\n",
       "      <td>115.0</td>\n",
       "      <td>0.0</td>\n",
       "      <td>Tout public</td>\n",
       "      <td>23.36</td>\n",
       "      <td>Le comte Ory</td>\n",
       "      <td>Divertissement</td>\n",
       "      <td>144.0</td>\n",
       "      <td>0.0</td>\n",
       "      <td>Tout public</td>\n",
       "      <td>12.0</td>\n",
       "      <td>2014</td>\n",
       "      <td>octobre</td>\n",
       "      <td>0</td>\n",
       "    </tr>\n",
       "    <tr>\n",
       "      <th>4</th>\n",
       "      <td>08 octobre 2014</td>\n",
       "      <td>mercredi</td>\n",
       "      <td>France 5</td>\n",
       "      <td>20.40</td>\n",
       "      <td>La maison France 5</td>\n",
       "      <td>Magazine</td>\n",
       "      <td>60.0</td>\n",
       "      <td>0.0</td>\n",
       "      <td>Tout public</td>\n",
       "      <td>21.40</td>\n",
       "      <td>Silence, ça pousse !</td>\n",
       "      <td>Magazine</td>\n",
       "      <td>49.0</td>\n",
       "      <td>0.0</td>\n",
       "      <td>Tout public</td>\n",
       "      <td>2.0</td>\n",
       "      <td>2014</td>\n",
       "      <td>octobre</td>\n",
       "      <td>0</td>\n",
       "    </tr>\n",
       "    <tr>\n",
       "      <th>5</th>\n",
       "      <td>08 octobre 2014</td>\n",
       "      <td>mercredi</td>\n",
       "      <td>M6</td>\n",
       "      <td>20.50</td>\n",
       "      <td>Le meilleur pâtissier</td>\n",
       "      <td>Divertissement</td>\n",
       "      <td>110.0</td>\n",
       "      <td>0.0</td>\n",
       "      <td>Tout public</td>\n",
       "      <td>22.40</td>\n",
       "      <td>Le meilleur pâtissier : à vos fourneaux !</td>\n",
       "      <td>Divertissement</td>\n",
       "      <td>100.0</td>\n",
       "      <td>0.0</td>\n",
       "      <td>Tout public</td>\n",
       "      <td>12.0</td>\n",
       "      <td>2014</td>\n",
       "      <td>octobre</td>\n",
       "      <td>0</td>\n",
       "    </tr>\n",
       "    <tr>\n",
       "      <th>...</th>\n",
       "      <td>...</td>\n",
       "      <td>...</td>\n",
       "      <td>...</td>\n",
       "      <td>...</td>\n",
       "      <td>...</td>\n",
       "      <td>...</td>\n",
       "      <td>...</td>\n",
       "      <td>...</td>\n",
       "      <td>...</td>\n",
       "      <td>...</td>\n",
       "      <td>...</td>\n",
       "      <td>...</td>\n",
       "      <td>...</td>\n",
       "      <td>...</td>\n",
       "      <td>...</td>\n",
       "      <td>...</td>\n",
       "      <td>...</td>\n",
       "      <td>...</td>\n",
       "      <td>...</td>\n",
       "    </tr>\n",
       "    <tr>\n",
       "      <th>47740</th>\n",
       "      <td>09 décembre 2019</td>\n",
       "      <td>lundi</td>\n",
       "      <td>6ter</td>\n",
       "      <td>21.05</td>\n",
       "      <td>Rupture pour tous</td>\n",
       "      <td>Film</td>\n",
       "      <td>110.0</td>\n",
       "      <td>0.0</td>\n",
       "      <td>-10 ans</td>\n",
       "      <td>22.55</td>\n",
       "      <td>Hors de prix</td>\n",
       "      <td>Film</td>\n",
       "      <td>120.0</td>\n",
       "      <td>0.0</td>\n",
       "      <td>Tout public</td>\n",
       "      <td>0.0</td>\n",
       "      <td>2019</td>\n",
       "      <td>décembre</td>\n",
       "      <td>0</td>\n",
       "    </tr>\n",
       "    <tr>\n",
       "      <th>47741</th>\n",
       "      <td>09 décembre 2019</td>\n",
       "      <td>lundi</td>\n",
       "      <td>TF1 Series</td>\n",
       "      <td>21.00</td>\n",
       "      <td>Un festival pour Noël</td>\n",
       "      <td>Telefilm</td>\n",
       "      <td>100.0</td>\n",
       "      <td>0.0</td>\n",
       "      <td>Tout public</td>\n",
       "      <td>22.40</td>\n",
       "      <td>La clé d'un Noël réussi</td>\n",
       "      <td>Telefilm</td>\n",
       "      <td>105.0</td>\n",
       "      <td>0.0</td>\n",
       "      <td>Tout public</td>\n",
       "      <td>2.0</td>\n",
       "      <td>2019</td>\n",
       "      <td>décembre</td>\n",
       "      <td>0</td>\n",
       "    </tr>\n",
       "    <tr>\n",
       "      <th>47743</th>\n",
       "      <td>09 décembre 2019</td>\n",
       "      <td>lundi</td>\n",
       "      <td>RMC Story</td>\n",
       "      <td>20.55</td>\n",
       "      <td>Enquête prioritaire</td>\n",
       "      <td>Magazine</td>\n",
       "      <td>80.0</td>\n",
       "      <td>0.0</td>\n",
       "      <td>Tout public</td>\n",
       "      <td>23.05</td>\n",
       "      <td>La Poste, une logistique XXL</td>\n",
       "      <td>Documentaire</td>\n",
       "      <td>65.0</td>\n",
       "      <td>0.0</td>\n",
       "      <td>Tout public</td>\n",
       "      <td>0.0</td>\n",
       "      <td>2019</td>\n",
       "      <td>décembre</td>\n",
       "      <td>0</td>\n",
       "    </tr>\n",
       "    <tr>\n",
       "      <th>47744</th>\n",
       "      <td>09 décembre 2019</td>\n",
       "      <td>lundi</td>\n",
       "      <td>RMC Decouverte</td>\n",
       "      <td>20.55</td>\n",
       "      <td>Le convoi de l'extrême : le choc des titans</td>\n",
       "      <td>Divertissement</td>\n",
       "      <td>90.0</td>\n",
       "      <td>4.0</td>\n",
       "      <td>Tout public</td>\n",
       "      <td>Suite prgm1</td>\n",
       "      <td>Le convoi de l'extrême : le choc des titans</td>\n",
       "      <td>Divertissement</td>\n",
       "      <td>0.0</td>\n",
       "      <td>4.0</td>\n",
       "      <td>Tout public</td>\n",
       "      <td>1.0</td>\n",
       "      <td>2019</td>\n",
       "      <td>décembre</td>\n",
       "      <td>0</td>\n",
       "    </tr>\n",
       "    <tr>\n",
       "      <th>47745</th>\n",
       "      <td>09 décembre 2019</td>\n",
       "      <td>lundi</td>\n",
       "      <td>Cherie 25</td>\n",
       "      <td>21.05</td>\n",
       "      <td>Place Vendôme</td>\n",
       "      <td>Film</td>\n",
       "      <td>130.0</td>\n",
       "      <td>0.0</td>\n",
       "      <td>Tout public</td>\n",
       "      <td>23.15</td>\n",
       "      <td>Salaud, on t'aime</td>\n",
       "      <td>Film</td>\n",
       "      <td>135.0</td>\n",
       "      <td>0.0</td>\n",
       "      <td>Tout public</td>\n",
       "      <td>1.0</td>\n",
       "      <td>2019</td>\n",
       "      <td>décembre</td>\n",
       "      <td>0</td>\n",
       "    </tr>\n",
       "  </tbody>\n",
       "</table>\n",
       "<p>30980 rows × 19 columns</p>\n",
       "</div>"
      ],
      "text/plain": [
       "                   Date      Jour          Chaine  Heure_prgm1  \\\n",
       "0       08 octobre 2014  mercredi             TF1        20.55   \n",
       "1       08 octobre 2014  mercredi        France 2        20.50   \n",
       "2       08 octobre 2014  mercredi        France 3        20.45   \n",
       "4       08 octobre 2014  mercredi        France 5        20.40   \n",
       "5       08 octobre 2014  mercredi              M6        20.50   \n",
       "...                 ...       ...             ...          ...   \n",
       "47740  09 décembre 2019     lundi            6ter        21.05   \n",
       "47741  09 décembre 2019     lundi      TF1 Series        21.00   \n",
       "47743  09 décembre 2019     lundi       RMC Story        20.55   \n",
       "47744  09 décembre 2019     lundi  RMC Decouverte        20.55   \n",
       "47745  09 décembre 2019     lundi       Cherie 25        21.05   \n",
       "\n",
       "                                       Titre_prgm1      Type_prgm1  \\\n",
       "0                                        Blacklist        Serie TV   \n",
       "1                            Les hommes de l'ombre        Serie TV   \n",
       "2                         Des racines et des ailes        Magazine   \n",
       "4                               La maison France 5        Magazine   \n",
       "5                            Le meilleur pâtissier  Divertissement   \n",
       "...                                            ...             ...   \n",
       "47740                            Rupture pour tous            Film   \n",
       "47741                        Un festival pour Noël        Telefilm   \n",
       "47743                          Enquête prioritaire        Magazine   \n",
       "47744  Le convoi de l'extrême : le choc des titans  Divertissement   \n",
       "47745                                Place Vendôme            Film   \n",
       "\n",
       "       Duree_prgm1  Nbre_episodes_prgm1 Age_conseille_prgm1  Heure_prgm2  \\\n",
       "0            110.0                  2.0             -10 ans        22.40   \n",
       "1            120.0                  2.0         Tout public        22.40   \n",
       "2            115.0                  0.0         Tout public        23.36   \n",
       "4             60.0                  0.0         Tout public        21.40   \n",
       "5            110.0                  0.0         Tout public        22.40   \n",
       "...            ...                  ...                 ...          ...   \n",
       "47740        110.0                  0.0             -10 ans        22.55   \n",
       "47741        100.0                  0.0         Tout public        22.40   \n",
       "47743         80.0                  0.0         Tout public        23.05   \n",
       "47744         90.0                  4.0         Tout public  Suite prgm1   \n",
       "47745        130.0                  0.0         Tout public        23.15   \n",
       "\n",
       "                                       Titre_prgm2      Type_prgm2  \\\n",
       "0                                            Arrow        Serie TV   \n",
       "1                         Un soir à la tour Eiffel        Magazine   \n",
       "2                                     Le comte Ory  Divertissement   \n",
       "4                             Silence, ça pousse !        Magazine   \n",
       "5        Le meilleur pâtissier : à vos fourneaux !  Divertissement   \n",
       "...                                            ...             ...   \n",
       "47740                                 Hors de prix            Film   \n",
       "47741                      La clé d'un Noël réussi        Telefilm   \n",
       "47743                 La Poste, une logistique XXL    Documentaire   \n",
       "47744  Le convoi de l'extrême : le choc des titans  Divertissement   \n",
       "47745                            Salaud, on t'aime            Film   \n",
       "\n",
       "       Duree_prgm2  Nbre_episodes_prgm2 Age_conseille_prgm2  Part_de_marche  \\\n",
       "0            100.0                  3.0             -10 ans            24.0   \n",
       "1            100.0                  0.0         Tout public            13.0   \n",
       "2            144.0                  0.0         Tout public            12.0   \n",
       "4             49.0                  0.0         Tout public             2.0   \n",
       "5            100.0                  0.0         Tout public            12.0   \n",
       "...            ...                  ...                 ...             ...   \n",
       "47740        120.0                  0.0         Tout public             0.0   \n",
       "47741        105.0                  0.0         Tout public             2.0   \n",
       "47743         65.0                  0.0         Tout public             0.0   \n",
       "47744          0.0                  4.0         Tout public             1.0   \n",
       "47745        135.0                  0.0         Tout public             1.0   \n",
       "\n",
       "       Annee      Mois  Week end  \n",
       "0       2014   octobre         0  \n",
       "1       2014   octobre         0  \n",
       "2       2014   octobre         0  \n",
       "4       2014   octobre         0  \n",
       "5       2014   octobre         0  \n",
       "...      ...       ...       ...  \n",
       "47740   2019  décembre         0  \n",
       "47741   2019  décembre         0  \n",
       "47743   2019  décembre         0  \n",
       "47744   2019  décembre         0  \n",
       "47745   2019  décembre         0  \n",
       "\n",
       "[30980 rows x 19 columns]"
      ]
     },
     "execution_count": 6,
     "metadata": {},
     "output_type": "execute_result"
    }
   ],
   "source": [
    "data"
   ]
  },
  {
   "cell_type": "code",
   "execution_count": 7,
   "metadata": {},
   "outputs": [],
   "source": [
    "#data.to_csv(\"Donnees_sans_na.csv\",index=False)"
   ]
  },
  {
   "cell_type": "markdown",
   "metadata": {},
   "source": [
    "# Recodage par label encoder"
   ]
  },
  {
   "cell_type": "code",
   "execution_count": 8,
   "metadata": {},
   "outputs": [],
   "source": [
    "from sklearn.preprocessing import (OneHotEncoder,\n",
    "                                   LabelEncoder,\n",
    "                                   StandardScaler,\n",
    "                                   Normalizer,\n",
    "                                   MinMaxScaler,\n",
    "                                  )"
   ]
  },
  {
   "cell_type": "code",
   "execution_count": 9,
   "metadata": {},
   "outputs": [],
   "source": [
    "#data['Jour'] = data['Jour'].astype('category')\n",
    "#data['Jour'].cat.categories = [7,4,1,2,3,6,5] \n",
    "#data['Jour'].astype('float')\n",
    "#Fonctionne mais n'utilise pas label encoder"
   ]
  },
  {
   "cell_type": "code",
   "execution_count": 9,
   "metadata": {},
   "outputs": [],
   "source": [
    "gestion_jour = LabelEncoder()\n",
    "gestion_mois = LabelEncoder()\n",
    "data['Jour'] = gestion_jour.fit_transform(data[\"Jour\"].astype(str))\n",
    "data['Mois'] = gestion_mois.fit_transform(data[\"Mois\"].astype(str))"
   ]
  },
  {
   "cell_type": "code",
   "execution_count": 10,
   "metadata": {},
   "outputs": [],
   "source": [
    "gestion_heure_prgm1 = LabelEncoder()\n",
    "gestion_heure_prgm2 = LabelEncoder()\n",
    "data['Heure_prgm1'] = gestion_heure_prgm1.fit_transform(data[\"Heure_prgm1\"].astype(str))\n",
    "data['Heure_prgm2'] = gestion_heure_prgm2.fit_transform(data[\"Heure_prgm2\"].astype(str))"
   ]
  },
  {
   "cell_type": "code",
   "execution_count": 11,
   "metadata": {},
   "outputs": [],
   "source": [
    "gestion_age_prgm1 = LabelEncoder()\n",
    "gestion_age_prgm2 = LabelEncoder()\n",
    "data['Age_conseille_prgm1'] = gestion_age_prgm1.fit_transform(data[\"Age_conseille_prgm1\"].astype(str))\n",
    "data['Age_conseille_prgm2'] = gestion_age_prgm2.fit_transform(data[\"Age_conseille_prgm2\"].astype(str))"
   ]
  },
  {
   "cell_type": "code",
   "execution_count": 12,
   "metadata": {},
   "outputs": [],
   "source": [
    "gestion_type_prgm1 = LabelEncoder()\n",
    "data['Type_prgm1'] = gestion_type_prgm1.fit_transform(data[\"Type_prgm1\"].astype(str))"
   ]
  },
  {
   "cell_type": "code",
   "execution_count": 13,
   "metadata": {},
   "outputs": [],
   "source": [
    "reste = data[[\"Jour\",\"Week end\",\"Mois\",\"Annee\",\"Heure_prgm1\",\"Duree_prgm1\", \"Nbre_episodes_prgm1\",\"Age_conseille_prgm1\",\n",
    "              \"Heure_prgm2\",\"Duree_prgm2\", \"Nbre_episodes_prgm2\",\"Age_conseille_prgm2\", \"Part_de_marche\"]].values"
   ]
  },
  {
   "cell_type": "markdown",
   "metadata": {},
   "source": [
    "# Recodage par One Out Encoder"
   ]
  },
  {
   "cell_type": "code",
   "execution_count": 14,
   "metadata": {},
   "outputs": [],
   "source": [
    "gestion_chaine = OneHotEncoder()\n",
    "chaine_ohe = gestion_chaine.fit_transform(data[\"Chaine\"]\n",
    "                                  .astype(str)\n",
    "                                  .values\n",
    "                                  .reshape(-1, 1)\n",
    "                                 )"
   ]
  },
  {
   "cell_type": "code",
   "execution_count": 15,
   "metadata": {},
   "outputs": [],
   "source": [
    "gestion_type_prgm2 = OneHotEncoder()\n",
    "type_prgm2_ohe = gestion_type_prgm2.fit_transform(data[\"Type_prgm2\"]\n",
    "                                  .astype(str)\n",
    "                                  .values\n",
    "                                  .reshape(-1, 1)\n",
    "                                 )"
   ]
  },
  {
   "cell_type": "markdown",
   "metadata": {},
   "source": [
    "# Séparation variables explicatives et à expliquer"
   ]
  },
  {
   "cell_type": "code",
   "execution_count": 16,
   "metadata": {},
   "outputs": [],
   "source": [
    "X = np.concatenate((chaine_ohe.toarray(),type_prgm2_ohe.toarray(),reste), axis=1)"
   ]
  },
  {
   "cell_type": "code",
   "execution_count": 17,
   "metadata": {},
   "outputs": [
    {
     "data": {
      "text/plain": [
       "(30980, 43)"
      ]
     },
     "execution_count": 17,
     "metadata": {},
     "output_type": "execute_result"
    }
   ],
   "source": [
    "X.shape"
   ]
  },
  {
   "cell_type": "code",
   "execution_count": 18,
   "metadata": {},
   "outputs": [
    {
     "data": {
      "text/plain": [
       "array([[ 0.,  0.,  0., ...,  3.,  0., 24.],\n",
       "       [ 0.,  0.,  0., ...,  0.,  3., 13.],\n",
       "       [ 0.,  0.,  0., ...,  0.,  3., 12.],\n",
       "       ...,\n",
       "       [ 0.,  0.,  0., ...,  0.,  3.,  0.],\n",
       "       [ 0.,  0.,  0., ...,  4.,  3.,  1.],\n",
       "       [ 0.,  0.,  0., ...,  0.,  3.,  1.]])"
      ]
     },
     "execution_count": 18,
     "metadata": {},
     "output_type": "execute_result"
    }
   ],
   "source": [
    "X"
   ]
  },
  {
   "cell_type": "code",
   "execution_count": 19,
   "metadata": {},
   "outputs": [],
   "source": [
    "y = data[\"Type_prgm1\"].values"
   ]
  },
  {
   "cell_type": "code",
   "execution_count": 20,
   "metadata": {},
   "outputs": [
    {
     "data": {
      "text/plain": [
       "(30980,)"
      ]
     },
     "execution_count": 20,
     "metadata": {},
     "output_type": "execute_result"
    }
   ],
   "source": [
    "y.shape"
   ]
  },
  {
   "cell_type": "markdown",
   "metadata": {},
   "source": [
    "# Séparation des échantillons"
   ]
  },
  {
   "cell_type": "code",
   "execution_count": 21,
   "metadata": {},
   "outputs": [],
   "source": [
    "from sklearn.model_selection import (train_test_split)"
   ]
  },
  {
   "cell_type": "code",
   "execution_count": 22,
   "metadata": {},
   "outputs": [],
   "source": [
    "X_train, X_test, y_train, y_test = train_test_split(X, y,test_size=0.9)"
   ]
  },
  {
   "cell_type": "markdown",
   "metadata": {},
   "source": [
    "# Normalisation par Standard Scaler et MinMaxScaler"
   ]
  },
  {
   "cell_type": "code",
   "execution_count": 23,
   "metadata": {},
   "outputs": [],
   "source": [
    "ss = StandardScaler()\n",
    "mm = MinMaxScaler()"
   ]
  },
  {
   "cell_type": "code",
   "execution_count": 24,
   "metadata": {},
   "outputs": [],
   "source": [
    "X_ess = ss.fit_transform(X_train)\n",
    "X_emm = mm.fit_transform(X_train)"
   ]
  },
  {
   "cell_type": "markdown",
   "metadata": {},
   "source": [
    "# Gaussian process"
   ]
  },
  {
   "cell_type": "code",
   "execution_count": 25,
   "metadata": {},
   "outputs": [],
   "source": [
    "from sklearn.gaussian_process import GaussianProcessClassifier as GPC\n",
    "from sklearn.gaussian_process.kernels import RBF"
   ]
  },
  {
   "cell_type": "code",
   "execution_count": 26,
   "metadata": {},
   "outputs": [],
   "source": [
    "kernel = 1.0 * RBF(1.0)\n",
    "gpc = GPC(kernel=kernel,random_state=0).fit(X_train, y_train)"
   ]
  },
  {
   "cell_type": "code",
   "execution_count": 27,
   "metadata": {},
   "outputs": [
    {
     "data": {
      "text/plain": [
       "1**2 * RBF(length_scale=1)"
      ]
     },
     "execution_count": 27,
     "metadata": {},
     "output_type": "execute_result"
    }
   ],
   "source": [
    "gpc.kernel"
   ]
  },
  {
   "cell_type": "code",
   "execution_count": 29,
   "metadata": {},
   "outputs": [
    {
     "data": {
      "text/plain": [
       "<bound method ClassifierMixin.score of GaussianProcessClassifier(copy_X_train=True, kernel=1**2 * RBF(length_scale=1),\n",
       "                          max_iter_predict=100, multi_class='one_vs_rest',\n",
       "                          n_jobs=None, n_restarts_optimizer=0,\n",
       "                          optimizer='fmin_l_bfgs_b', random_state=0,\n",
       "                          warm_start=False)>"
      ]
     },
     "execution_count": 29,
     "metadata": {},
     "output_type": "execute_result"
    }
   ],
   "source": [
    "gpc.score"
   ]
  },
  {
   "cell_type": "code",
   "execution_count": 32,
   "metadata": {},
   "outputs": [
    {
     "data": {
      "text/plain": [
       "0.8237572627501614"
      ]
     },
     "execution_count": 32,
     "metadata": {},
     "output_type": "execute_result"
    }
   ],
   "source": [
    "gpc.score(X_train, y_train)"
   ]
  },
  {
   "cell_type": "markdown",
   "metadata": {},
   "source": [
    "# Gaussian process - standard scaler"
   ]
  },
  {
   "cell_type": "code",
   "execution_count": 33,
   "metadata": {},
   "outputs": [],
   "source": [
    "kernel = 1.0 * RBF(1.0)\n",
    "gpc_ss = GPC(kernel=kernel,random_state=0).fit(X_ess, y_train)"
   ]
  },
  {
   "cell_type": "code",
   "execution_count": 36,
   "metadata": {},
   "outputs": [
    {
     "data": {
      "text/plain": [
       "<bound method ClassifierMixin.score of GaussianProcessClassifier(copy_X_train=True, kernel=1**2 * RBF(length_scale=1),\n",
       "                          max_iter_predict=100, multi_class='one_vs_rest',\n",
       "                          n_jobs=None, n_restarts_optimizer=0,\n",
       "                          optimizer='fmin_l_bfgs_b', random_state=0,\n",
       "                          warm_start=False)>"
      ]
     },
     "execution_count": 36,
     "metadata": {},
     "output_type": "execute_result"
    }
   ],
   "source": [
    "gpc_ss.score"
   ]
  },
  {
   "cell_type": "code",
   "execution_count": 43,
   "metadata": {},
   "outputs": [
    {
     "data": {
      "text/plain": [
       "0.9134925758553906"
      ]
     },
     "execution_count": 43,
     "metadata": {},
     "output_type": "execute_result"
    }
   ],
   "source": [
    "gpc_ss.score(X_ess, y_train)"
   ]
  },
  {
   "cell_type": "markdown",
   "metadata": {},
   "source": [
    "# Gaussian process - MinMax scaler"
   ]
  },
  {
   "cell_type": "code",
   "execution_count": 38,
   "metadata": {},
   "outputs": [],
   "source": [
    "kernel = 1.0 * RBF(1.0)\n",
    "gpc_mm = GPC(kernel=kernel,random_state=0).fit(X_emm, y_train)"
   ]
  },
  {
   "cell_type": "code",
   "execution_count": 39,
   "metadata": {},
   "outputs": [
    {
     "data": {
      "text/plain": [
       "<bound method ClassifierMixin.score of GaussianProcessClassifier(copy_X_train=True, kernel=1**2 * RBF(length_scale=1),\n",
       "                          max_iter_predict=100, multi_class='one_vs_rest',\n",
       "                          n_jobs=None, n_restarts_optimizer=0,\n",
       "                          optimizer='fmin_l_bfgs_b', random_state=0,\n",
       "                          warm_start=False)>"
      ]
     },
     "execution_count": 39,
     "metadata": {},
     "output_type": "execute_result"
    }
   ],
   "source": [
    "gpc_mm.score"
   ]
  },
  {
   "cell_type": "code",
   "execution_count": 42,
   "metadata": {},
   "outputs": [
    {
     "data": {
      "text/plain": [
       "0.8844415752098128"
      ]
     },
     "execution_count": 42,
     "metadata": {},
     "output_type": "execute_result"
    }
   ],
   "source": [
    "gpc_mm.score(X_emm, y_train)"
   ]
  },
  {
   "cell_type": "code",
   "execution_count": null,
   "metadata": {},
   "outputs": [],
   "source": []
  }
 ],
 "metadata": {
  "kernelspec": {
   "display_name": "Python 3",
   "language": "python",
   "name": "python3"
  },
  "language_info": {
   "codemirror_mode": {
    "name": "ipython",
    "version": 3
   },
   "file_extension": ".py",
   "mimetype": "text/x-python",
   "name": "python",
   "nbconvert_exporter": "python",
   "pygments_lexer": "ipython3",
   "version": "3.7.5"
  }
 },
 "nbformat": 4,
 "nbformat_minor": 2
}
