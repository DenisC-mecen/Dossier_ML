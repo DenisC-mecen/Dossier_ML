{
 "cells": [
  {
   "cell_type": "code",
   "execution_count": 104,
   "metadata": {},
   "outputs": [],
   "source": [
    "import requests as rq\n",
    "import re\n",
    "import bs4"
   ]
  },
  {
   "cell_type": "code",
   "execution_count": 105,
   "metadata": {},
   "outputs": [],
   "source": [
    "page=rq.get(\"http://programme-tv.nouvelobs.com/programme-tv/2014-10-08/\")"
   ]
  },
  {
   "cell_type": "code",
   "execution_count": 106,
   "metadata": {},
   "outputs": [
    {
     "data": {
      "text/plain": [
       "200"
      ]
     },
     "execution_count": 106,
     "metadata": {},
     "output_type": "execute_result"
    }
   ],
   "source": [
    "page.status_code"
   ]
  },
  {
   "cell_type": "code",
   "execution_count": 107,
   "metadata": {},
   "outputs": [
    {
     "data": {
      "text/plain": [
       "143674"
      ]
     },
     "execution_count": 107,
     "metadata": {},
     "output_type": "execute_result"
    }
   ],
   "source": [
    "len(page.text)"
   ]
  },
  {
   "cell_type": "code",
   "execution_count": 108,
   "metadata": {},
   "outputs": [],
   "source": [
    "lignes=page.text.splitlines()"
   ]
  },
  {
   "cell_type": "code",
   "execution_count": 109,
   "metadata": {},
   "outputs": [],
   "source": [
    "texte=page.text"
   ]
  },
  {
   "cell_type": "code",
   "execution_count": 112,
   "metadata": {},
   "outputs": [],
   "source": [
    "arbre =bs4.BeautifulSoup(texte,\"lxml\")"
   ]
  },
  {
   "cell_type": "markdown",
   "metadata": {},
   "source": [
    "# Extraction du jour"
   ]
  },
  {
   "cell_type": "code",
   "execution_count": 13,
   "metadata": {},
   "outputs": [],
   "source": [
    "jour = arbre.findAll(\"h1\")"
   ]
  },
  {
   "cell_type": "code",
   "execution_count": 14,
   "metadata": {},
   "outputs": [
    {
     "name": "stdout",
     "output_type": "stream",
     "text": [
      "[<h1>Programme TV mercredi 8 octobre 2014 (08/10/2014)</h1>]\n"
     ]
    }
   ],
   "source": [
    "print(jour)"
   ]
  },
  {
   "cell_type": "markdown",
   "metadata": {},
   "source": [
    "# Extraction de la chaine"
   ]
  },
  {
   "cell_type": "code",
   "execution_count": null,
   "metadata": {},
   "outputs": [],
   "source": [
    "def chaines(page):\n",
    "    chaine=list()\n",
    "    texte=page.text\n",
    "    arbre =bs4.BeautifulSoup(texte,\"lxml\")\n",
    "    noeud, *_ = arbre.findAll(\"div\",{\"class\":\"logo_chaine_g\"})\n",
    "    chaine=noeud.find_next(\"img\")\n",
    "    return chaine"
   ]
  },
  {
   "cell_type": "code",
   "execution_count": 80,
   "metadata": {},
   "outputs": [
    {
     "name": "stdout",
     "output_type": "stream",
     "text": [
      "<img alt=\"Programme tf1\" src=\"http://img.nealis.fr/ptv/img/chaine/g/1.png\"/>\n"
     ]
    }
   ],
   "source": [
    "res=chaines(page=rq.get(\"http://programme-tv.nouvelobs.com/programme-tv/2014-10-08/\"))\n",
    "print(res)"
   ]
  },
  {
   "cell_type": "code",
   "execution_count": 72,
   "metadata": {},
   "outputs": [],
   "source": [
    "noeud = arbre.find_all(\"div\",{\"class\":\"logo_chaine_g\"})"
   ]
  },
  {
   "cell_type": "code",
   "execution_count": 73,
   "metadata": {},
   "outputs": [
    {
     "name": "stdout",
     "output_type": "stream",
     "text": [
      "[<div class=\"logo_chaine_g\"><a href=\"/chaine/tf1/\"><img alt=\"Programme tf1\" src=\"http://img.nealis.fr/ptv/img/chaine/g/1.png\"/></a></div>, <div class=\"logo_chaine_g\"><a href=\"/chaine/france-2/\"><img alt=\"Programme france 2\" src=\"http://img.nealis.fr/ptv/img/chaine/g/2.png\"/></a></div>, <div class=\"logo_chaine_g\"><a href=\"/chaine/france-3/\"><img alt=\"Programme france 3\" src=\"http://img.nealis.fr/ptv/img/chaine/g/3.png\"/></a></div>, <div class=\"logo_chaine_g\"><a href=\"/chaine/canal-plus/\"><img alt=\"Programme canal +\" src=\"http://img.nealis.fr/ptv/img/chaine/g/4.png\"/></a></div>, <div class=\"logo_chaine_g\"><a href=\"/chaine/france-5/\"><img alt=\"Programme france 5\" src=\"http://img.nealis.fr/ptv/img/chaine/g/5.png\"/></a></div>, <div class=\"logo_chaine_g\"><a href=\"/chaine/m6/\"><img alt=\"Programme m6\" src=\"http://img.nealis.fr/ptv/img/chaine/g/6.png\"/></a></div>, <div class=\"logo_chaine_g\"><a href=\"/chaine/arte/\"><img alt=\"Programme arte\" src=\"http://img.nealis.fr/ptv/img/chaine/g/9.png\"/></a></div>, <div class=\"logo_chaine_g\"><a href=\"/chaine/c8/\"><img alt=\"Programme c8\" src=\"http://img.nealis.fr/ptv/img/chaine/g/7.png\"/></a></div>, <div class=\"logo_chaine_g\"><a href=\"/chaine/w9/\"><img alt=\"Programme w9\" src=\"http://img.nealis.fr/ptv/img/chaine/g/37.png\"/></a></div>, <div class=\"logo_chaine_g\"><a href=\"/chaine/tmc/\"><img alt=\"Programme tmc\" src=\"http://img.nealis.fr/ptv/img/chaine/g/76.png\"/></a></div>, <div class=\"logo_chaine_g\"><a href=\"/chaine/tfx/\"><img alt=\"Programme tfx\" src=\"http://img.nealis.fr/ptv/img/chaine/g/74.png\"/></a></div>, <div class=\"logo_chaine_g\"><a href=\"/chaine/nrj-12/\"><img alt=\"Programme nrj 12\" src=\"http://img.nealis.fr/ptv/img/chaine/g/23.png\"/></a></div>]\n"
     ]
    }
   ],
   "source": [
    "print(noeud)"
   ]
  },
  {
   "cell_type": "code",
   "execution_count": 74,
   "metadata": {},
   "outputs": [
    {
     "data": {
      "text/plain": [
       "bs4.element.ResultSet"
      ]
     },
     "execution_count": 74,
     "metadata": {},
     "output_type": "execute_result"
    }
   ],
   "source": [
    "type(noeud)"
   ]
  },
  {
   "cell_type": "code",
   "execution_count": 75,
   "metadata": {},
   "outputs": [],
   "source": [
    "paragraph = []\n",
    "for x in noeud:\n",
    "    paragraph.append(str(x))"
   ]
  },
  {
   "cell_type": "code",
   "execution_count": 76,
   "metadata": {},
   "outputs": [
    {
     "name": "stdout",
     "output_type": "stream",
     "text": [
      "['<div class=\"logo_chaine_g\"><a href=\"/chaine/tf1/\"><img alt=\"Programme tf1\" src=\"http://img.nealis.fr/ptv/img/chaine/g/1.png\"/></a></div>', '<div class=\"logo_chaine_g\"><a href=\"/chaine/france-2/\"><img alt=\"Programme france 2\" src=\"http://img.nealis.fr/ptv/img/chaine/g/2.png\"/></a></div>', '<div class=\"logo_chaine_g\"><a href=\"/chaine/france-3/\"><img alt=\"Programme france 3\" src=\"http://img.nealis.fr/ptv/img/chaine/g/3.png\"/></a></div>', '<div class=\"logo_chaine_g\"><a href=\"/chaine/canal-plus/\"><img alt=\"Programme canal +\" src=\"http://img.nealis.fr/ptv/img/chaine/g/4.png\"/></a></div>', '<div class=\"logo_chaine_g\"><a href=\"/chaine/france-5/\"><img alt=\"Programme france 5\" src=\"http://img.nealis.fr/ptv/img/chaine/g/5.png\"/></a></div>', '<div class=\"logo_chaine_g\"><a href=\"/chaine/m6/\"><img alt=\"Programme m6\" src=\"http://img.nealis.fr/ptv/img/chaine/g/6.png\"/></a></div>', '<div class=\"logo_chaine_g\"><a href=\"/chaine/arte/\"><img alt=\"Programme arte\" src=\"http://img.nealis.fr/ptv/img/chaine/g/9.png\"/></a></div>', '<div class=\"logo_chaine_g\"><a href=\"/chaine/c8/\"><img alt=\"Programme c8\" src=\"http://img.nealis.fr/ptv/img/chaine/g/7.png\"/></a></div>', '<div class=\"logo_chaine_g\"><a href=\"/chaine/w9/\"><img alt=\"Programme w9\" src=\"http://img.nealis.fr/ptv/img/chaine/g/37.png\"/></a></div>', '<div class=\"logo_chaine_g\"><a href=\"/chaine/tmc/\"><img alt=\"Programme tmc\" src=\"http://img.nealis.fr/ptv/img/chaine/g/76.png\"/></a></div>', '<div class=\"logo_chaine_g\"><a href=\"/chaine/tfx/\"><img alt=\"Programme tfx\" src=\"http://img.nealis.fr/ptv/img/chaine/g/74.png\"/></a></div>', '<div class=\"logo_chaine_g\"><a href=\"/chaine/nrj-12/\"><img alt=\"Programme nrj 12\" src=\"http://img.nealis.fr/ptv/img/chaine/g/23.png\"/></a></div>']\n"
     ]
    }
   ],
   "source": [
    "print(paragraph)"
   ]
  },
  {
   "cell_type": "code",
   "execution_count": 79,
   "metadata": {},
   "outputs": [
    {
     "data": {
      "text/plain": [
       "list"
      ]
     },
     "execution_count": 79,
     "metadata": {},
     "output_type": "execute_result"
    }
   ],
   "source": [
    "type(paragraph)"
   ]
  },
  {
   "cell_type": "code",
   "execution_count": 81,
   "metadata": {},
   "outputs": [],
   "source": [
    "chn = \"-\".join(paragraph)"
   ]
  },
  {
   "cell_type": "code",
   "execution_count": 82,
   "metadata": {},
   "outputs": [
    {
     "name": "stdout",
     "output_type": "stream",
     "text": [
      "<div class=\"logo_chaine_g\"><a href=\"/chaine/tf1/\"><img alt=\"Programme tf1\" src=\"http://img.nealis.fr/ptv/img/chaine/g/1.png\"/></a></div>-<div class=\"logo_chaine_g\"><a href=\"/chaine/france-2/\"><img alt=\"Programme france 2\" src=\"http://img.nealis.fr/ptv/img/chaine/g/2.png\"/></a></div>-<div class=\"logo_chaine_g\"><a href=\"/chaine/france-3/\"><img alt=\"Programme france 3\" src=\"http://img.nealis.fr/ptv/img/chaine/g/3.png\"/></a></div>-<div class=\"logo_chaine_g\"><a href=\"/chaine/canal-plus/\"><img alt=\"Programme canal +\" src=\"http://img.nealis.fr/ptv/img/chaine/g/4.png\"/></a></div>-<div class=\"logo_chaine_g\"><a href=\"/chaine/france-5/\"><img alt=\"Programme france 5\" src=\"http://img.nealis.fr/ptv/img/chaine/g/5.png\"/></a></div>-<div class=\"logo_chaine_g\"><a href=\"/chaine/m6/\"><img alt=\"Programme m6\" src=\"http://img.nealis.fr/ptv/img/chaine/g/6.png\"/></a></div>-<div class=\"logo_chaine_g\"><a href=\"/chaine/arte/\"><img alt=\"Programme arte\" src=\"http://img.nealis.fr/ptv/img/chaine/g/9.png\"/></a></div>-<div class=\"logo_chaine_g\"><a href=\"/chaine/c8/\"><img alt=\"Programme c8\" src=\"http://img.nealis.fr/ptv/img/chaine/g/7.png\"/></a></div>-<div class=\"logo_chaine_g\"><a href=\"/chaine/w9/\"><img alt=\"Programme w9\" src=\"http://img.nealis.fr/ptv/img/chaine/g/37.png\"/></a></div>-<div class=\"logo_chaine_g\"><a href=\"/chaine/tmc/\"><img alt=\"Programme tmc\" src=\"http://img.nealis.fr/ptv/img/chaine/g/76.png\"/></a></div>-<div class=\"logo_chaine_g\"><a href=\"/chaine/tfx/\"><img alt=\"Programme tfx\" src=\"http://img.nealis.fr/ptv/img/chaine/g/74.png\"/></a></div>-<div class=\"logo_chaine_g\"><a href=\"/chaine/nrj-12/\"><img alt=\"Programme nrj 12\" src=\"http://img.nealis.fr/ptv/img/chaine/g/23.png\"/></a></div>\n"
     ]
    }
   ],
   "source": [
    "print(chn)"
   ]
  },
  {
   "cell_type": "code",
   "execution_count": 83,
   "metadata": {},
   "outputs": [
    {
     "data": {
      "text/plain": [
       "str"
      ]
     },
     "execution_count": 83,
     "metadata": {},
     "output_type": "execute_result"
    }
   ],
   "source": [
    "type(chn)"
   ]
  },
  {
   "cell_type": "code",
   "execution_count": 101,
   "metadata": {},
   "outputs": [
    {
     "data": {
      "text/plain": [
       "[' tf1\" src=\"http://im',\n",
       " ' france 2\" src=\"http',\n",
       " ' france 3\" src=\"http',\n",
       " ' canal +\" src=\"http:',\n",
       " ' france 5\" src=\"http',\n",
       " ' m6\" src=\"http://img',\n",
       " ' arte\" src=\"http://i',\n",
       " ' c8\" src=\"http://img',\n",
       " ' w9\" src=\"http://img',\n",
       " ' tmc\" src=\"http://im',\n",
       " ' tfx\" src=\"http://im',\n",
       " ' nrj 12\" src=\"http:/']"
      ]
     },
     "execution_count": 101,
     "metadata": {},
     "output_type": "execute_result"
    }
   ],
   "source": [
    "re.findall(\"Programme(.{0,20})\",chn)\n",
    "#Pq s'arrête à NRJ12 alors que texte contient bien tout -> noeud n'a pas sélectionné tout"
   ]
  },
  {
   "cell_type": "code",
   "execution_count": 114,
   "metadata": {},
   "outputs": [
    {
     "data": {
      "text/plain": [
       "[' tv mercredi 8 octob',\n",
       " '\\xa0TV\">Programme\\xa0TV</a',\n",
       " ' tv jeudi 9 octobre ',\n",
       " ' TV mercredi 8 octob',\n",
       " ' tf1\" /></a></div>\\r',\n",
       " ' france 2\" /></a></d',\n",
       " ' france 3\" /></a></d',\n",
       " ' canal +\" /></a></di',\n",
       " ' france 5\" /></a></d',\n",
       " ' m6\" /></a></div>\\r',\n",
       " ' arte\" /></a></div>\\r',\n",
       " ' c8\" /></a></div>\\r',\n",
       " ' w9\" /></a></div>\\r',\n",
       " ' tmc\" /></a></div>\\r',\n",
       " ' tfx\" /></a></div>\\r',\n",
       " ' nrj 12\" /></a></div',\n",
       " ' public senat - lcp ',\n",
       " ' france 4\" /></a></d',\n",
       " ' bfm tv\" /></a></div',\n",
       " ' cnews\" /></a></div>',\n",
       " ' cstar\" /></a></div>',\n",
       " 's de nuit\" height=\"9',\n",
       " 's de nuit</a><br/>(4',\n",
       " ' gulli\" /></a></div>',\n",
       " ' france Ô\" /></a></d',\n",
       " ' 6ter\" /></a></div>\\r',\n",
       " ' tf1 séries films\" /',\n",
       " ' l\\'equipe\" /></a></d',\n",
       " ' rmc story\" /></a></',\n",
       " ' rmc decouverte\" /><',\n",
       " ' cherie 25\" /></a></',\n",
       " ' rtl 9\" /></a></div>',\n",
       " ' paris premiere\" /><',\n",
       " ' tv5 monde fbs\" /></',\n",
       " ' 13eme rue\" /></a></',\n",
       " ' tv breizh\" /></a></',\n",
       " ' e! entertainment\" /',\n",
       " ' syfy\" /></a></div>\\r',\n",
       " ' serie club\" /></a><',\n",
       " ' teva\" /></a></div>\\r',\n",
       " ' comedie +\" /></a></',\n",
       " ' ab1\" /></a></div>\\r',\n",
       " ' cine + premier\" /><',\n",
       " ' cine + frisson\" /><',\n",
       " ' cine + emotion\" /><',\n",
       " ' cine + famiz\" /></a',\n",
       " ' cine + club\" /></a>',\n",
       " ' cine + classic\" /><',\n",
       " ' action\" /></a></div',\n",
       " ' tcm cinema\" /></a><',\n",
       " ' paramount channel\" ',\n",
       " ' canal + cinema\" /><',\n",
       " ' canal + sport\" /></',\n",
       " ' canal + series\" /><',\n",
       " ' canal + family\" /><',\n",
       " ' canal + decale\" /><',\n",
       " ' national geographic',\n",
       " ' planete +\" /></a></',\n",
       " ' planete+ ae\" /></a>',\n",
       " ' planete+ ci\" /></a>',\n",
       " ' voyage\" /></a></div',\n",
       " ' animaux\" /></a></di',\n",
       " ' chasse & peche\" /><',\n",
       " ' discovery channel\" ',\n",
       " ' encyclo\" /></a></di',\n",
       " ' histoire\" /></a></d',\n",
       " ' seasons +\" /></a></',\n",
       " ' toute l\\'histoire\" /',\n",
       " ' ushuaia tv\" /></a><',\n",
       " ' vivolta\" /></a></di',\n",
       " ' lci\" /></a></div>\\r',\n",
       " ' france 24\" /></a></',\n",
       " ' canal j\" /></a></di',\n",
       " ' cartoon network\" />',\n",
       " ' teletoon + \" /></a>',\n",
       " ' disney channel\" /><',\n",
       " ' tiji\" /></a></div>\\r',\n",
       " ' eurosport\" /></a></',\n",
       " ' eurosport 2\" /></a>',\n",
       " ' bein sports 1\" /></',\n",
       " ' bein sports 2\" /></',\n",
       " ' bein sports 3\" /></',\n",
       " ' ab moteurs\" /></a><',\n",
       " ' mcm\" /></a></div>\\r',\n",
       " ' mezzo\" /></a></div>',\n",
       " ' rts un\" /></a></div',\n",
       " ' rts deux\" /></a></d',\n",
       " ' rtl tvi\" /></a></di',\n",
       " ' plug rtl\" /></a></d',\n",
       " ' TV -->\\r',\n",
       " ' TNT</a><br/>\\r',\n",
       " ' Canalsat</a><br/>\\r',\n",
       " ' Orange</a><br/>\\r',\n",
       " ' Free</a><br/>\\r',\n",
       " ' SFR</a><br/>\\r',\n",
       " ' Bbox</a><br/>\\r',\n",
       " ' Numericable</a>\\r',\n",
       " ' TV -->\\r',\n",
       " ' TV\">Programme TV</a']"
      ]
     },
     "execution_count": 114,
     "metadata": {},
     "output_type": "execute_result"
    }
   ],
   "source": [
    "re.findall(\"Programme(.{0,20})\",texte)"
   ]
  },
  {
   "cell_type": "markdown",
   "metadata": {},
   "source": [
    "# Extraction de l'heure"
   ]
  },
  {
   "cell_type": "code",
   "execution_count": null,
   "metadata": {},
   "outputs": [],
   "source": [
    "indice=texte.find(\"20.55\")\n",
    "#peut être plutôt mettre 2chiffres.2chiffres\n",
    "print(texte[indice: indice+200])"
   ]
  },
  {
   "cell_type": "code",
   "execution_count": null,
   "metadata": {},
   "outputs": [],
   "source": [
    "motif=re.compile(\"[0-9][0-9].[0-9][0-9]\")\n",
    "#motif.findall(texte)\n",
    "#Sort également des dates "
   ]
  },
  {
   "cell_type": "code",
   "execution_count": 115,
   "metadata": {},
   "outputs": [],
   "source": [
    "noeud = arbre.find_all(\"span\",{\"class\":\"b t16\"})"
   ]
  },
  {
   "cell_type": "code",
   "execution_count": 116,
   "metadata": {},
   "outputs": [
    {
     "name": "stdout",
     "output_type": "stream",
     "text": [
      "[<span class=\"b t16\">20.55</span>, <span class=\"b t16\">22.40</span>, <span class=\"b t16\">20.50</span>, <span class=\"b t16\">22.40</span>, <span class=\"b t16\">20.45</span>, <span class=\"b t16\">23.36</span>, <span class=\"b t16\">20.55</span>, <span class=\"b t16\">22.45</span>, <span class=\"b t16\">20.40</span>, <span class=\"b t16\">21.40</span>, <span class=\"b t16\">20.50</span>, <span class=\"b t16\">22.40</span>, <span class=\"b t16\">20.50</span>, <span class=\"b t16\">22.25</span>, <span class=\"b t16\">20.50</span>, <span class=\"b t16\">20.50</span>, <span class=\"b t16\">20.50</span>, <span class=\"b t16\">22.40</span>, <span class=\"b t16\">20.50</span>, <span class=\"b t16\">20.50</span>]\n"
     ]
    }
   ],
   "source": [
    "print(noeud)\n",
    "#Prend aussi ceux de la colonne de droite \n",
    "#S'arrête aussi trop tôt !"
   ]
  },
  {
   "cell_type": "markdown",
   "metadata": {},
   "source": [
    "# Extraction du titre"
   ]
  },
  {
   "cell_type": "code",
   "execution_count": 117,
   "metadata": {},
   "outputs": [],
   "source": [
    "noeud = arbre.find_all(\"span\",{\"class\":\"titre b\"})"
   ]
  },
  {
   "cell_type": "code",
   "execution_count": 118,
   "metadata": {},
   "outputs": [
    {
     "name": "stdout",
     "output_type": "stream",
     "text": [
      "[<span class=\"titre b\">Blacklist</span>, <span class=\"titre b\">Arrow</span>, <span class=\"titre b\">Les hommes de l'ombre</span>, <span class=\"titre b\">Des racines et des ailes</span>, <span class=\"titre b\">En quête d'actualité</span>, <span class=\"titre b\">En quête d'actualité</span>, <span class=\"titre b\">Enquêtes criminelles : le magazine des faits divers</span>, <span class=\"titre b\">Enquêtes criminelles : le magazine des faits divers</span>, <span class=\"titre b\">24 heures aux urgences</span>, <span class=\"titre b\">24 heures aux urgences</span>]\n"
     ]
    }
   ],
   "source": [
    "print(noeud)\n",
    "#Prend aussi les 2 colonnes et s'arrête trop tôt : TFX "
   ]
  },
  {
   "cell_type": "code",
   "execution_count": null,
   "metadata": {},
   "outputs": [],
   "source": []
  }
 ],
 "metadata": {
  "kernelspec": {
   "display_name": "Python 3",
   "language": "python",
   "name": "python3"
  },
  "language_info": {
   "codemirror_mode": {
    "name": "ipython",
    "version": 3
   },
   "file_extension": ".py",
   "mimetype": "text/x-python",
   "name": "python",
   "nbconvert_exporter": "python",
   "pygments_lexer": "ipython3",
   "version": "3.6.5"
  }
 },
 "nbformat": 4,
 "nbformat_minor": 2
}
