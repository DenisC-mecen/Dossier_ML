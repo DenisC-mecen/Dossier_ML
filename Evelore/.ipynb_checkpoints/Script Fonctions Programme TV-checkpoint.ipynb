{
 "cells": [
  {
   "cell_type": "code",
   "execution_count": 5,
   "metadata": {},
   "outputs": [],
   "source": [
    "import requests as rq\n",
    "import re\n",
    "import bs4\n",
    "import datetime"
   ]
  },
  {
   "cell_type": "markdown",
   "metadata": {},
   "source": [
    "# Date URL"
   ]
  },
  {
   "cell_type": "code",
   "execution_count": 2,
   "metadata": {},
   "outputs": [],
   "source": [
    "def dates(a):\n",
    "    Date = []\n",
    "    for i in range(2014,a+1):\n",
    "        for j in range(1,13):\n",
    "            if j == 1 or j == 3 or j == 5 or j == 7 or j == 8 or j == 10 or j == 12:\n",
    "                l = 32\n",
    "            elif j == 4 or j == 6 or j == 9 or j == 11:\n",
    "                l = 31\n",
    "            elif j == 2:\n",
    "                if i == 2016:\n",
    "                    l = 30\n",
    "                else:\n",
    "                    l=29\n",
    "            for k in range(1,l):\n",
    "                date = str(datetime.date(i, j, k))\n",
    "                Date.append(date)       \n",
    "    return Date[280:-41]"
   ]
  },
  {
   "cell_type": "code",
   "execution_count": 3,
   "metadata": {},
   "outputs": [
    {
     "data": {
      "text/plain": [
       "'2019-11-20'"
      ]
     },
     "execution_count": 3,
     "metadata": {},
     "output_type": "execute_result"
    }
   ],
   "source": [
    "Dates = dates(2019)\n",
    "Dates[-1]"
   ]
  },
  {
   "cell_type": "markdown",
   "metadata": {},
   "source": [
    "# Chemin"
   ]
  },
  {
   "cell_type": "code",
   "execution_count": 4,
   "metadata": {},
   "outputs": [],
   "source": [
    "def chemin(Dates):\n",
    "    url = \"http://programme-tv.nouvelobs.com/programme-tv/\"\n",
    "    Chemins = []\n",
    "    for i in range(len(Dates)):\n",
    "        Chemin = url + str(Dates[i]) + \"/\"\n",
    "        Chemins.append(Chemin)\n",
    "    return Chemins"
   ]
  },
  {
   "cell_type": "code",
   "execution_count": 5,
   "metadata": {},
   "outputs": [],
   "source": [
    "Chemin = chemin(Dates)"
   ]
  },
  {
   "cell_type": "code",
   "execution_count": 90,
   "metadata": {},
   "outputs": [],
   "source": [
    "Chemin = \"http://programme-tv.nouvelobs.com/programme-tv/2014-12-10/\""
   ]
  },
  {
   "cell_type": "markdown",
   "metadata": {},
   "source": [
    "# Arbre "
   ]
  },
  {
   "cell_type": "code",
   "execution_count": 91,
   "metadata": {},
   "outputs": [],
   "source": [
    "def tree(chemin):\n",
    "    page = rq.get(chemin)\n",
    "    texte = page.text\n",
    "    arbre = bs4.BeautifulSoup(texte, \"html.parser\")\n",
    "    return arbre"
   ]
  },
  {
   "cell_type": "code",
   "execution_count": 92,
   "metadata": {},
   "outputs": [],
   "source": [
    "arbre = tree(Chemin)"
   ]
  },
  {
   "cell_type": "code",
   "execution_count": 93,
   "metadata": {},
   "outputs": [
    {
     "data": {
      "text/plain": [
       "3"
      ]
     },
     "execution_count": 93,
     "metadata": {},
     "output_type": "execute_result"
    }
   ],
   "source": [
    "len(arbre)"
   ]
  },
  {
   "cell_type": "markdown",
   "metadata": {},
   "source": [
    "# Jour"
   ]
  },
  {
   "cell_type": "code",
   "execution_count": 94,
   "metadata": {},
   "outputs": [],
   "source": [
    "def jour(arbre):\n",
    "    jour = arbre.findAll(\"h1\")\n",
    "    jour = re.findall(\"TV (.*) \\(\",str(jour))\n",
    "    date = []\n",
    "    for i in range(25):\n",
    "        result = jour\n",
    "        result = str(jour)[2:-2]\n",
    "        result = result.split(\" \")[0]\n",
    "        date.append(result)\n",
    "    return date"
   ]
  },
  {
   "cell_type": "code",
   "execution_count": 95,
   "metadata": {},
   "outputs": [],
   "source": [
    "Date = jour(arbre)"
   ]
  },
  {
   "cell_type": "code",
   "execution_count": 96,
   "metadata": {},
   "outputs": [],
   "source": [
    "def date(arbre):\n",
    "    jour = arbre.findAll(\"h1\")\n",
    "    jour = re.findall(\"TV (.*) \\(\",str(jour))\n",
    "    date = []\n",
    "    for i in range(25):\n",
    "        result = jour\n",
    "        result = str(jour)[2:-2]\n",
    "        if result[0] == \"d\":\n",
    "            result = result.split(\"che \")[1]\n",
    "        else:\n",
    "            result = result.split(\"di \")[1]\n",
    "        for k in range(1,10):\n",
    "            if result[0:2] == str(k) + \" \":\n",
    "                result = str(0) + str(result)\n",
    "        date.append(result)\n",
    "    return date"
   ]
  },
  {
   "cell_type": "code",
   "execution_count": 97,
   "metadata": {},
   "outputs": [
    {
     "data": {
      "text/plain": [
       "['10 décembre 2014',\n",
       " '10 décembre 2014',\n",
       " '10 décembre 2014',\n",
       " '10 décembre 2014',\n",
       " '10 décembre 2014',\n",
       " '10 décembre 2014',\n",
       " '10 décembre 2014',\n",
       " '10 décembre 2014',\n",
       " '10 décembre 2014',\n",
       " '10 décembre 2014',\n",
       " '10 décembre 2014',\n",
       " '10 décembre 2014',\n",
       " '10 décembre 2014',\n",
       " '10 décembre 2014',\n",
       " '10 décembre 2014',\n",
       " '10 décembre 2014',\n",
       " '10 décembre 2014',\n",
       " '10 décembre 2014',\n",
       " '10 décembre 2014',\n",
       " '10 décembre 2014',\n",
       " '10 décembre 2014',\n",
       " '10 décembre 2014',\n",
       " '10 décembre 2014',\n",
       " '10 décembre 2014',\n",
       " '10 décembre 2014']"
      ]
     },
     "execution_count": 97,
     "metadata": {},
     "output_type": "execute_result"
    }
   ],
   "source": [
    "Date = date(arbre)\n",
    "Date"
   ]
  },
  {
   "cell_type": "markdown",
   "metadata": {},
   "source": [
    "# Chaine"
   ]
  },
  {
   "cell_type": "code",
   "execution_count": 9,
   "metadata": {},
   "outputs": [],
   "source": [
    "def chaines(arbre):\n",
    "    noeud = arbre.findAll(\"div\", {\"class\":\"logo_chaine_g\"})\n",
    "    chn = re.findall(\"Programme(.{0,23})\",str(noeud)) \n",
    "    chaine = [] \n",
    "    for i in range(25):\n",
    "        result = chn[i].split('\"')[0] \n",
    "        chaine.append(result)\n",
    "    return chaine"
   ]
  },
  {
   "cell_type": "code",
   "execution_count": 10,
   "metadata": {
    "scrolled": true
   },
   "outputs": [
    {
     "data": {
      "text/plain": [
       "[' tf1',\n",
       " ' france 2',\n",
       " ' france 3',\n",
       " ' canal +',\n",
       " ' france 5',\n",
       " ' m6',\n",
       " ' arte',\n",
       " ' c8',\n",
       " ' w9',\n",
       " ' tmc',\n",
       " ' tfx',\n",
       " ' nrj 12',\n",
       " ' public senat - lcp an',\n",
       " ' france 4',\n",
       " ' bfm tv',\n",
       " ' cnews',\n",
       " ' cstar',\n",
       " ' gulli',\n",
       " ' france Ô',\n",
       " ' 6ter',\n",
       " ' tf1 séries films',\n",
       " \" l'equipe\",\n",
       " ' rmc story',\n",
       " ' rmc decouverte',\n",
       " ' cherie 25']"
      ]
     },
     "execution_count": 10,
     "metadata": {},
     "output_type": "execute_result"
    }
   ],
   "source": [
    "Chaine = chaines(arbre)\n",
    "Chaine"
   ]
  },
  {
   "cell_type": "markdown",
   "metadata": {},
   "source": [
    "# Heure du premier programme"
   ]
  },
  {
   "cell_type": "code",
   "execution_count": 89,
   "metadata": {},
   "outputs": [],
   "source": [
    "def heures1(arbre):\n",
    "    noeud = arbre.find_all(\"div\",{\"class\":\"b_d prog1\"})\n",
    "    heure = []\n",
    "    for i in range(0,50,2):\n",
    "        result = re.findall(\"b t16\\\">(.*)</span> \",str(noeud[i]))\n",
    "        result = str(result)[2:7]\n",
    "        if result == \"\":\n",
    "            result = \"NA\"\n",
    "        heure.append(result)\n",
    "    return heure"
   ]
  },
  {
   "cell_type": "code",
   "execution_count": 90,
   "metadata": {},
   "outputs": [],
   "source": [
    "Heure1 = heures1(arbre)"
   ]
  },
  {
   "cell_type": "markdown",
   "metadata": {},
   "source": [
    "# Heure du deuxième programme"
   ]
  },
  {
   "cell_type": "code",
   "execution_count": 91,
   "metadata": {},
   "outputs": [],
   "source": [
    "def heures2(arbre):\n",
    "    noeud = arbre.find_all(\"div\",{\"class\":\"b_d prog1\"})\n",
    "    heure = []\n",
    "    for i in range(1,50,2):\n",
    "        result = re.findall(\"b t16\\\">(.*)</span> \",str(noeud[i]))\n",
    "        result = str(result)[2:7]\n",
    "        if result == \"\":\n",
    "            result = \"NA\"\n",
    "        heure.append(result)\n",
    "    return heure"
   ]
  },
  {
   "cell_type": "code",
   "execution_count": 92,
   "metadata": {
    "scrolled": true
   },
   "outputs": [],
   "source": [
    "Heure2 = heures2(arbre)"
   ]
  },
  {
   "cell_type": "markdown",
   "metadata": {},
   "source": [
    "# Type du premier programme"
   ]
  },
  {
   "cell_type": "code",
   "execution_count": 93,
   "metadata": {},
   "outputs": [],
   "source": [
    "def type_prgm1(arbre):\n",
    "    noeud = arbre.find_all(\"div\",{\"class\":\"b_d prog1\"})\n",
    "    typ = []\n",
    "    for i in range(0,50,2):\n",
    "        result = re.findall(\"cat-(.{0,30})\",str(noeud[i]))\n",
    "        result = str(result).split('\"')[0]\n",
    "        typ.append(result)\n",
    "    return typ"
   ]
  },
  {
   "cell_type": "code",
   "execution_count": 94,
   "metadata": {},
   "outputs": [
    {
     "data": {
      "text/plain": [
       "[\"['jeu\",\n",
       " \"['divertissement\",\n",
       " \"['divertissement\",\n",
       " \"['film cat-selection-obs\",\n",
       " \"['film\",\n",
       " \"['divertissement\",\n",
       " \"['film cat-selection-obs\",\n",
       " \"['divertissement\",\n",
       " \"['divertissement\",\n",
       " \"['serie-tv\",\n",
       " \"['film\",\n",
       " \"['divertissement\",\n",
       " \"['documentaire\",\n",
       " \"['film cat-selection-obs\",\n",
       " \"['magazine\",\n",
       " \"['magazine\",\n",
       " \"['serie-tv cat-selection-obs\",\n",
       " \"['dessin-anime\",\n",
       " \"['magazine\",\n",
       " \"['serie-tv cat-selection-obs\",\n",
       " \"['serie-tv\",\n",
       " \"['documentaire\",\n",
       " \"['divertissement\",\n",
       " \"['magazine\",\n",
       " \"['spectacle\"]"
      ]
     },
     "execution_count": 94,
     "metadata": {},
     "output_type": "execute_result"
    }
   ],
   "source": [
    "Type1 = type_prgm1(arbre)\n",
    "Type1"
   ]
  },
  {
   "cell_type": "markdown",
   "metadata": {},
   "source": [
    "# Type du deuxième programme"
   ]
  },
  {
   "cell_type": "code",
   "execution_count": 95,
   "metadata": {},
   "outputs": [],
   "source": [
    "def type_prgm2(arbre):\n",
    "    noeud = arbre.find_all(\"div\",{\"class\":\"b_d prog1\"})\n",
    "    typ = []\n",
    "    for i in range(1,51,2):\n",
    "        result = re.findall(\"cat-(.{0,30})\",str(noeud[i]))\n",
    "        result = str(result).split('\"')[0]\n",
    "        if result == \"[]\":\n",
    "            result = \"NA\"\n",
    "        typ.append(result)\n",
    "    return typ"
   ]
  },
  {
   "cell_type": "code",
   "execution_count": 96,
   "metadata": {},
   "outputs": [
    {
     "data": {
      "text/plain": [
       "[\"['divertissement\",\n",
       " \"['emission-religieuse\",\n",
       " \"['talk-show\",\n",
       " \"['film cat-selection-obs\",\n",
       " \"['documentaire\",\n",
       " \"['telefilm\",\n",
       " \"['film\",\n",
       " \"['divertissement\",\n",
       " 'NA',\n",
       " \"['emission-religieuse\",\n",
       " \"['film\",\n",
       " \"['divertissement\",\n",
       " \"['documentaire\",\n",
       " \"['spectacle\",\n",
       " \"['magazine\",\n",
       " \"['magazine\",\n",
       " \"['divertissement\",\n",
       " \"['film cat-selection-obs\",\n",
       " \"['divertissement\",\n",
       " \"['du-diable-517422/\",\n",
       " 'NA',\n",
       " \"['documentaire\",\n",
       " \"['documentaire\",\n",
       " 'NA',\n",
       " \"['spectacle\"]"
      ]
     },
     "execution_count": 96,
     "metadata": {},
     "output_type": "execute_result"
    }
   ],
   "source": [
    "Type2 = type_prgm2(arbre)\n",
    "Type2"
   ]
  },
  {
   "cell_type": "markdown",
   "metadata": {},
   "source": [
    "# Durée du premier programme "
   ]
  },
  {
   "cell_type": "code",
   "execution_count": 97,
   "metadata": {},
   "outputs": [],
   "source": [
    "def temps_prgm1(arbre):\n",
    "    noeud = arbre.find_all(\"div\",{\"class\":\"b_d prog1\"})\n",
    "    temps = []\n",
    "    for i in range(0,50,2):\n",
    "        result = re.findall(\"<br/>\\((.{0,6})\",str(noeud[i]))\n",
    "        result = str(result)[2:8]\n",
    "        result = result.split(')')[0]\n",
    "        temps.append(result)\n",
    "    return temps"
   ]
  },
  {
   "cell_type": "code",
   "execution_count": 98,
   "metadata": {},
   "outputs": [],
   "source": [
    "Durée1 = temps_prgm1(arbre)"
   ]
  },
  {
   "cell_type": "markdown",
   "metadata": {},
   "source": [
    "# Durée du deuxième programme"
   ]
  },
  {
   "cell_type": "code",
   "execution_count": 99,
   "metadata": {},
   "outputs": [],
   "source": [
    "def temps_prgm2(arbre):\n",
    "    noeud = arbre.find_all(\"div\",{\"class\":\"b_d prog1\"})\n",
    "    temps = []\n",
    "    for i in range(1,50,2):\n",
    "        result = re.findall(\"<br/>\\((.{0,6})\",str(noeud[i]))\n",
    "        result = str(result)[2:8]\n",
    "        result = result.split(')')[0]\n",
    "        if result == \"\":\n",
    "            result = \"NA\"\n",
    "        temps.append(result)\n",
    "    return temps"
   ]
  },
  {
   "cell_type": "code",
   "execution_count": 100,
   "metadata": {},
   "outputs": [],
   "source": [
    "Durée2 = temps_prgm2(arbre)"
   ]
  },
  {
   "cell_type": "markdown",
   "metadata": {},
   "source": [
    "# Nombre d'épisodes du premier programme"
   ]
  },
  {
   "cell_type": "code",
   "execution_count": 101,
   "metadata": {},
   "outputs": [],
   "source": [
    "def nbre_ep1(arbre):\n",
    "    noeud = arbre.find_all(\"div\",{\"class\":\"b_d prog1\"})\n",
    "    nbre = []\n",
    "    for i in range(0,50,2):\n",
    "        result = re.findall(\"(.{0,2})épisodes\",str(noeud[i]))\n",
    "        if len(result) > 1:\n",
    "            result = result[0]\n",
    "        else:\n",
    "            result = result\n",
    "        if len(str(result)) > 4:\n",
    "            result = str(result)[2:-2]\n",
    "        if result == []:\n",
    "            result = \"NA\"\n",
    "        nbre.append(result)\n",
    "    return nbre "
   ]
  },
  {
   "cell_type": "code",
   "execution_count": 102,
   "metadata": {},
   "outputs": [
    {
     "data": {
      "text/plain": [
       "['NA',\n",
       " 'NA',\n",
       " 'NA',\n",
       " 'NA',\n",
       " 'NA',\n",
       " 'NA',\n",
       " 'NA',\n",
       " 'NA',\n",
       " 'NA',\n",
       " '2 ',\n",
       " 'NA',\n",
       " 'NA',\n",
       " 'NA',\n",
       " 'NA',\n",
       " 'NA',\n",
       " 'NA',\n",
       " '2 ',\n",
       " '9 ',\n",
       " 'NA',\n",
       " '5 ',\n",
       " '4 ',\n",
       " '6 ',\n",
       " 'NA',\n",
       " '5 ',\n",
       " 'NA']"
      ]
     },
     "execution_count": 102,
     "metadata": {},
     "output_type": "execute_result"
    }
   ],
   "source": [
    "Nbre1 = nbre_ep1(arbre)\n",
    "Nbre1"
   ]
  },
  {
   "cell_type": "markdown",
   "metadata": {},
   "source": [
    "# Nombre d'épisodes du deuxième programme"
   ]
  },
  {
   "cell_type": "code",
   "execution_count": 103,
   "metadata": {},
   "outputs": [],
   "source": [
    "def nbre_ep2(arbre):\n",
    "    noeud = arbre.find_all(\"div\",{\"class\":\"b_d prog1\"})\n",
    "    nbre = []\n",
    "    for i in range(1,50,2):\n",
    "        result = re.findall(\"(.{0,2})épisodes\",str(noeud[i]))\n",
    "        if len(result) > 1:\n",
    "            result = result[0]\n",
    "        else:\n",
    "            result = result\n",
    "        if len(str(result)) > 4:\n",
    "            result = str(result)[2:-2]\n",
    "        if result == []:\n",
    "            result = \"NA\"\n",
    "        nbre.append(result)\n",
    "    return nbre "
   ]
  },
  {
   "cell_type": "code",
   "execution_count": 104,
   "metadata": {},
   "outputs": [
    {
     "data": {
      "text/plain": [
       "['NA',\n",
       " 'NA',\n",
       " 'NA',\n",
       " 'NA',\n",
       " 'NA',\n",
       " 'NA',\n",
       " 'NA',\n",
       " 'NA',\n",
       " 'NA',\n",
       " 'NA',\n",
       " 'NA',\n",
       " 'NA',\n",
       " 'NA',\n",
       " 'NA',\n",
       " 'NA',\n",
       " 'NA',\n",
       " 'NA',\n",
       " 'NA',\n",
       " 'NA',\n",
       " '5 ',\n",
       " '4 ',\n",
       " 'NA',\n",
       " '3 ',\n",
       " '5 ',\n",
       " 'NA']"
      ]
     },
     "execution_count": 104,
     "metadata": {},
     "output_type": "execute_result"
    }
   ],
   "source": [
    "Nbre2 = nbre_ep2(arbre)\n",
    "Nbre2"
   ]
  },
  {
   "cell_type": "markdown",
   "metadata": {},
   "source": [
    "# Titre du premier programme "
   ]
  },
  {
   "cell_type": "code",
   "execution_count": 105,
   "metadata": {},
   "outputs": [],
   "source": [
    "def titres1(arbre):\n",
    "    noeud = arbre.find_all(\"div\",{\"class\":\"b_d prog1\"})\n",
    "    titre = []\n",
    "    for i in range(0,50,2):\n",
    "        arbre2 = bs4.BeautifulSoup(str(noeud[i]),\"lxml\")\n",
    "        noeud2 = arbre2.find_all(\"span\",{\"class\":\"titre b\"})\n",
    "        if noeud2 == []:\n",
    "            noeud2 = arbre2.find_all(\"a\",{\"class\":\"titre b\"})\n",
    "        result = re.findall(\">(.*)<\", str(noeud2))\n",
    "        result = str(result).replace(\"&amp;\", \"&\")\n",
    "        result = str(result).replace(\";\", \"\")\n",
    "        result = result[2:-2]\n",
    "        if result == \"\":\n",
    "            result = \"NA\"\n",
    "        titre.append(result)\n",
    "    return titre"
   ]
  },
  {
   "cell_type": "code",
   "execution_count": 106,
   "metadata": {},
   "outputs": [
    {
     "data": {
      "text/plain": [
       "['Les 12 coups de Noël',\n",
       " 'Les rois du bêtisier',\n",
       " '300 choeurs pour les fêtes',\n",
       " 'La grande aventure Lego',\n",
       " 'Pollen',\n",
       " 'Disney Party : en attendant Noël',\n",
       " \"Peau d'âne\",\n",
       " 'Le grand bêtisier de Noël',\n",
       " 'Les 30 ans du «Top 50»',\n",
       " 'Hercule Poirot',\n",
       " 'Comme Cendrillon 3',\n",
       " 'Le super bêtisier de Noël',\n",
       " 'Cathos, nouvelle génération',\n",
       " 'Gang de requins',\n",
       " '20h politique',\n",
       " 'On ne va pas se mentir',\n",
       " 'Friends',\n",
       " 'Mes parrains sont magiques',\n",
       " 'Le réveillon de Babette',\n",
       " 'The Good Wife',\n",
       " 'R.I.S. Police scientifique',\n",
       " 'Dans la peau de Mike Tyson',\n",
       " 'Rire ensemble contre le racisme',\n",
       " 'Top Gear',\n",
       " 'Liane Foly : «La folle part en cure»']"
      ]
     },
     "execution_count": 106,
     "metadata": {},
     "output_type": "execute_result"
    }
   ],
   "source": [
    "Titre1 = titres1(arbre)\n",
    "Titre1"
   ]
  },
  {
   "cell_type": "markdown",
   "metadata": {},
   "source": [
    "# Titre du deuxième programme"
   ]
  },
  {
   "cell_type": "code",
   "execution_count": 107,
   "metadata": {},
   "outputs": [],
   "source": [
    "def titres2(arbre):\n",
    "    noeud = arbre.find_all(\"div\",{\"class\":\"b_d prog1\"})\n",
    "    titre = []\n",
    "    for i in range(1,50,2):\n",
    "        arbre2 = bs4.BeautifulSoup(str(noeud[i]),\"lxml\")\n",
    "        noeud2 = arbre2.find_all(\"span\",{\"class\":\"titre b\"})\n",
    "        if noeud2 == []:\n",
    "            noeud2 = arbre2.find_all(\"a\",{\"class\":\"titre b\"})\n",
    "        result = re.findall(\">(.*)<\", str(noeud2))\n",
    "        result = str(result).replace(\"&amp;\", \"&\")\n",
    "        result = str(result).replace(\";\", \"\")\n",
    "        result = result[2:-2]\n",
    "        if result == \"\":\n",
    "            result = \"NA\"\n",
    "        titre.append(result)\n",
    "    return titre"
   ]
  },
  {
   "cell_type": "code",
   "execution_count": 108,
   "metadata": {},
   "outputs": [],
   "source": [
    "Titre2 = titres2(arbre)"
   ]
  },
  {
   "cell_type": "markdown",
   "metadata": {},
   "source": [
    "# Limite d'âge du premier programme"
   ]
  },
  {
   "cell_type": "code",
   "execution_count": 109,
   "metadata": {},
   "outputs": [],
   "source": [
    "def ages1(arbre):\n",
    "    noeud = arbre.find_all(\"div\",{\"class\":\"b_d prog1\"})\n",
    "    age = []\n",
    "    for i in range(0,50,2):\n",
    "        result = re.findall(\"tv right t22 line4\\\">(.{0,1})\", str(noeud[i]))\n",
    "        if result == ['2']:\n",
    "            result = '-10 ans'\n",
    "        elif result == ['3']:\n",
    "            result = '-12 ans'\n",
    "        elif result == ['4']:\n",
    "            result = '-16 ans'\n",
    "        elif result == ['5']:\n",
    "            result = '-18 ans'\n",
    "        elif result == []:\n",
    "            result = \"NA\"\n",
    "        age.append(result)\n",
    "    return age"
   ]
  },
  {
   "cell_type": "code",
   "execution_count": 110,
   "metadata": {},
   "outputs": [],
   "source": [
    "Age1 = ages1(arbre)"
   ]
  },
  {
   "cell_type": "markdown",
   "metadata": {},
   "source": [
    "# Limite d'âge du deuxième programme"
   ]
  },
  {
   "cell_type": "code",
   "execution_count": 111,
   "metadata": {},
   "outputs": [],
   "source": [
    "def ages2(arbre):\n",
    "    noeud = arbre.find_all(\"div\",{\"class\":\"b_d prog1\"})\n",
    "    age = []\n",
    "    for i in range(1,50,2):\n",
    "        result = re.findall(\"tv right t22 line4\\\">(.{0,1})\", str(noeud[i]))\n",
    "        if result == ['2']:\n",
    "            result = '-10 ans'\n",
    "        elif result == ['3']:\n",
    "            result = '-12 ans'\n",
    "        elif result == ['4']:\n",
    "            result = '-16 ans'\n",
    "        elif result == ['5']:\n",
    "            result = '-18 ans'\n",
    "        elif result == []:\n",
    "            result = \"NA\"\n",
    "        age.append(result)\n",
    "    return age"
   ]
  },
  {
   "cell_type": "code",
   "execution_count": 112,
   "metadata": {},
   "outputs": [],
   "source": [
    "Age2 = ages2(arbre)"
   ]
  },
  {
   "cell_type": "markdown",
   "metadata": {},
   "source": [
    "# Génération du data frame "
   ]
  },
  {
   "cell_type": "code",
   "execution_count": 113,
   "metadata": {},
   "outputs": [],
   "source": [
    "import pandas as pd"
   ]
  },
  {
   "cell_type": "code",
   "execution_count": 114,
   "metadata": {},
   "outputs": [],
   "source": [
    "def Donnee(Date,Logo,Pdm,Donnees):\n",
    "    Data = pd.DataFrame({\"Date\": [], \"Chaîne\": [], \"Heure_prgm1\": [], \"Titre_prgm1\": [], \"Type_prgm1\": [],\n",
    "                    \"Durée_prgm1\": [], \"Nbre_épisodes_prgm1\": [], \"Age_conseillé_prgm1\": [], \"Heure_prgm2\": [],\n",
    "                     \"Titre_prgm2\": [], \"Type_prgm2\": [], \"Durée_prgm2\": [], \"Nbre_épisodes_prgm2\": [], \n",
    "                     \"Age_conseillé_prgm2\": []})\n",
    "    [Data[\"Date\"],Data[\"Chaîne\"],Data[\"Heure_prgm1\"], Data[\"Titre_prgm1\"], Data[\"Type_prgm1\"], Data[\"Durée_prgm1\"],\n",
    "Data[\"Nbre_épisodes_prgm1\"],Data[\"Age_conseillé_prgm1\"], Data[\"Heure_prgm2\"], Data[\"Titre_prgm2\"], Data[\"Type_prgm2\"],\n",
    " Data[\"Durée_prgm2\"],Data[\"Nbre_épisodes_prgm2\"],Data[\"Age_conseillé_prgm2\"]] = [Date, Chaine, Heure1, Titre1, Type1,\n",
    "                                                                                 Durée1, Nbre1, Age1, Heure2, Titre2,\n",
    "                                                                                Type2, Durée2, Nbre2, Age2]\n",
    "    Donnees = pd.concat([Donnees, Data],ignore_index = True)\n",
    "    return Donnees"
   ]
  },
  {
   "cell_type": "code",
   "execution_count": null,
   "metadata": {},
   "outputs": [],
   "source": []
  },
  {
   "cell_type": "code",
   "execution_count": 115,
   "metadata": {},
   "outputs": [
    {
     "data": {
      "text/html": [
       "<div>\n",
       "<style scoped>\n",
       "    .dataframe tbody tr th:only-of-type {\n",
       "        vertical-align: middle;\n",
       "    }\n",
       "\n",
       "    .dataframe tbody tr th {\n",
       "        vertical-align: top;\n",
       "    }\n",
       "\n",
       "    .dataframe thead th {\n",
       "        text-align: right;\n",
       "    }\n",
       "</style>\n",
       "<table border=\"1\" class=\"dataframe\">\n",
       "  <thead>\n",
       "    <tr style=\"text-align: right;\">\n",
       "      <th></th>\n",
       "      <th>Date</th>\n",
       "      <th>Chaîne</th>\n",
       "      <th>Heure_prgm1</th>\n",
       "      <th>Titre_prgm1</th>\n",
       "      <th>Type_prgm1</th>\n",
       "      <th>Durée_prgm1</th>\n",
       "      <th>Nbre_épisodes_prgm1</th>\n",
       "      <th>Age_conseillé_prgm1</th>\n",
       "      <th>Heure_prgm2</th>\n",
       "      <th>Titre_prgm2</th>\n",
       "      <th>Type_prgm2</th>\n",
       "      <th>Durée_prgm2</th>\n",
       "      <th>Nbre_épisodes_prgm2</th>\n",
       "      <th>Age_conseillé_prgm2</th>\n",
       "    </tr>\n",
       "  </thead>\n",
       "  <tbody>\n",
       "    <tr>\n",
       "      <th>0</th>\n",
       "      <td>mercredi 24 décembre 2014</td>\n",
       "      <td>tf1</td>\n",
       "      <td>20.55</td>\n",
       "      <td>Les 12 coups de Noël</td>\n",
       "      <td>['jeu</td>\n",
       "      <td>160 mn</td>\n",
       "      <td>NA</td>\n",
       "      <td>NA</td>\n",
       "      <td>23.35</td>\n",
       "      <td>Spéciale bêtisier</td>\n",
       "      <td>['divertissement</td>\n",
       "      <td>90 mn</td>\n",
       "      <td>NA</td>\n",
       "      <td>NA</td>\n",
       "    </tr>\n",
       "    <tr>\n",
       "      <th>1</th>\n",
       "      <td>mercredi 24 décembre 2014</td>\n",
       "      <td>france 2</td>\n",
       "      <td>20.50</td>\n",
       "      <td>Les rois du bêtisier</td>\n",
       "      <td>['divertissement</td>\n",
       "      <td>190 mn</td>\n",
       "      <td>NA</td>\n",
       "      <td>NA</td>\n",
       "      <td>00.00</td>\n",
       "      <td>Messe</td>\n",
       "      <td>['emission-religieuse</td>\n",
       "      <td>105 mn</td>\n",
       "      <td>NA</td>\n",
       "      <td>NA</td>\n",
       "    </tr>\n",
       "    <tr>\n",
       "      <th>2</th>\n",
       "      <td>mercredi 24 décembre 2014</td>\n",
       "      <td>france 3</td>\n",
       "      <td>20.45</td>\n",
       "      <td>300 choeurs pour les fêtes</td>\n",
       "      <td>['divertissement</td>\n",
       "      <td>145 mn</td>\n",
       "      <td>NA</td>\n",
       "      <td>NA</td>\n",
       "      <td>23.40</td>\n",
       "      <td>Le grand échiquier</td>\n",
       "      <td>['talk-show</td>\n",
       "      <td>90 mn</td>\n",
       "      <td>NA</td>\n",
       "      <td>NA</td>\n",
       "    </tr>\n",
       "    <tr>\n",
       "      <th>3</th>\n",
       "      <td>mercredi 24 décembre 2014</td>\n",
       "      <td>canal +</td>\n",
       "      <td>20.55</td>\n",
       "      <td>La grande aventure Lego</td>\n",
       "      <td>['film cat-selection-obs</td>\n",
       "      <td>100 mn</td>\n",
       "      <td>NA</td>\n",
       "      <td>NA</td>\n",
       "      <td>22.35</td>\n",
       "      <td>Moi, moche et méchant 2</td>\n",
       "      <td>['film cat-selection-obs</td>\n",
       "      <td>95 mn</td>\n",
       "      <td>NA</td>\n",
       "      <td>NA</td>\n",
       "    </tr>\n",
       "    <tr>\n",
       "      <th>4</th>\n",
       "      <td>mercredi 24 décembre 2014</td>\n",
       "      <td>france 5</td>\n",
       "      <td>20.45</td>\n",
       "      <td>Pollen</td>\n",
       "      <td>['film</td>\n",
       "      <td>75 mn</td>\n",
       "      <td>NA</td>\n",
       "      <td>NA</td>\n",
       "      <td>23.10</td>\n",
       "      <td>Un Noël à New York</td>\n",
       "      <td>['documentaire</td>\n",
       "      <td>55 mn</td>\n",
       "      <td>NA</td>\n",
       "      <td>NA</td>\n",
       "    </tr>\n",
       "    <tr>\n",
       "      <th>5</th>\n",
       "      <td>mercredi 24 décembre 2014</td>\n",
       "      <td>m6</td>\n",
       "      <td>20.50</td>\n",
       "      <td>Disney Party : en attendant Noël</td>\n",
       "      <td>['divertissement</td>\n",
       "      <td>275 mn</td>\n",
       "      <td>NA</td>\n",
       "      <td>NA</td>\n",
       "      <td>01.30</td>\n",
       "      <td>Trois voeux pour Noël</td>\n",
       "      <td>['telefilm</td>\n",
       "      <td>110 mn</td>\n",
       "      <td>NA</td>\n",
       "      <td>NA</td>\n",
       "    </tr>\n",
       "    <tr>\n",
       "      <th>6</th>\n",
       "      <td>mercredi 24 décembre 2014</td>\n",
       "      <td>arte</td>\n",
       "      <td>20.50</td>\n",
       "      <td>Peau d'âne</td>\n",
       "      <td>['film cat-selection-obs</td>\n",
       "      <td>90 mn</td>\n",
       "      <td>NA</td>\n",
       "      <td>NA</td>\n",
       "      <td>23.50</td>\n",
       "      <td>Hellzapoppin</td>\n",
       "      <td>['film</td>\n",
       "      <td>85 mn</td>\n",
       "      <td>NA</td>\n",
       "      <td>NA</td>\n",
       "    </tr>\n",
       "    <tr>\n",
       "      <th>7</th>\n",
       "      <td>mercredi 24 décembre 2014</td>\n",
       "      <td>c8</td>\n",
       "      <td>20.50</td>\n",
       "      <td>Le grand bêtisier de Noël</td>\n",
       "      <td>['divertissement</td>\n",
       "      <td>120 mn</td>\n",
       "      <td>NA</td>\n",
       "      <td>NA</td>\n",
       "      <td>22.50</td>\n",
       "      <td>Le grand zap de Noël</td>\n",
       "      <td>['divertissement</td>\n",
       "      <td>100 mn</td>\n",
       "      <td>NA</td>\n",
       "      <td>NA</td>\n",
       "    </tr>\n",
       "    <tr>\n",
       "      <th>8</th>\n",
       "      <td>mercredi 24 décembre 2014</td>\n",
       "      <td>w9</td>\n",
       "      <td>20.50</td>\n",
       "      <td>Les 30 ans du «Top 50»</td>\n",
       "      <td>['divertissement</td>\n",
       "      <td>105 mn</td>\n",
       "      <td>NA</td>\n",
       "      <td>NA</td>\n",
       "      <td>NA</td>\n",
       "      <td>Les 30 ans du «Top 50»</td>\n",
       "      <td>NA</td>\n",
       "      <td>NA</td>\n",
       "      <td>NA</td>\n",
       "      <td>NA</td>\n",
       "    </tr>\n",
       "    <tr>\n",
       "      <th>9</th>\n",
       "      <td>mercredi 24 décembre 2014</td>\n",
       "      <td>tmc</td>\n",
       "      <td>20.50</td>\n",
       "      <td>Hercule Poirot</td>\n",
       "      <td>['serie-tv</td>\n",
       "      <td>170 mn</td>\n",
       "      <td>2</td>\n",
       "      <td>NA</td>\n",
       "      <td>23.55</td>\n",
       "      <td>Messe de minuit</td>\n",
       "      <td>['emission-religieuse</td>\n",
       "      <td>130 mn</td>\n",
       "      <td>NA</td>\n",
       "      <td>NA</td>\n",
       "    </tr>\n",
       "    <tr>\n",
       "      <th>10</th>\n",
       "      <td>mercredi 24 décembre 2014</td>\n",
       "      <td>tfx</td>\n",
       "      <td>20.50</td>\n",
       "      <td>Comme Cendrillon 3</td>\n",
       "      <td>['film</td>\n",
       "      <td>95 mn</td>\n",
       "      <td>NA</td>\n",
       "      <td>NA</td>\n",
       "      <td>22.25</td>\n",
       "      <td>Comme Cendrillon 2</td>\n",
       "      <td>['film</td>\n",
       "      <td>105 mn</td>\n",
       "      <td>NA</td>\n",
       "      <td>NA</td>\n",
       "    </tr>\n",
       "    <tr>\n",
       "      <th>11</th>\n",
       "      <td>mercredi 24 décembre 2014</td>\n",
       "      <td>nrj 12</td>\n",
       "      <td>20.50</td>\n",
       "      <td>Le super bêtisier de Noël</td>\n",
       "      <td>['divertissement</td>\n",
       "      <td>110 mn</td>\n",
       "      <td>NA</td>\n",
       "      <td>NA</td>\n",
       "      <td>22.40</td>\n",
       "      <td>Le super bêtisier de l'année</td>\n",
       "      <td>['divertissement</td>\n",
       "      <td>110 mn</td>\n",
       "      <td>NA</td>\n",
       "      <td>NA</td>\n",
       "    </tr>\n",
       "    <tr>\n",
       "      <th>12</th>\n",
       "      <td>mercredi 24 décembre 2014</td>\n",
       "      <td>public senat - lcp an</td>\n",
       "      <td>20.30</td>\n",
       "      <td>Cathos, nouvelle génération</td>\n",
       "      <td>['documentaire</td>\n",
       "      <td>60 mn</td>\n",
       "      <td>NA</td>\n",
       "      <td>NA</td>\n",
       "      <td>22.30</td>\n",
       "      <td>Farafin Ko</td>\n",
       "      <td>['documentaire</td>\n",
       "      <td>60 mn</td>\n",
       "      <td>NA</td>\n",
       "      <td>NA</td>\n",
       "    </tr>\n",
       "    <tr>\n",
       "      <th>13</th>\n",
       "      <td>mercredi 24 décembre 2014</td>\n",
       "      <td>france 4</td>\n",
       "      <td>20.46</td>\n",
       "      <td>Gang de requins</td>\n",
       "      <td>['film cat-selection-obs</td>\n",
       "      <td>79 mn</td>\n",
       "      <td>NA</td>\n",
       "      <td>NA</td>\n",
       "      <td>22.05</td>\n",
       "      <td>Shirley et Dino à Marigny</td>\n",
       "      <td>['spectacle</td>\n",
       "      <td>100 mn</td>\n",
       "      <td>NA</td>\n",
       "      <td>NA</td>\n",
       "    </tr>\n",
       "    <tr>\n",
       "      <th>14</th>\n",
       "      <td>mercredi 24 décembre 2014</td>\n",
       "      <td>bfm tv</td>\n",
       "      <td>20.00</td>\n",
       "      <td>20h politique</td>\n",
       "      <td>['magazine</td>\n",
       "      <td>30 mn</td>\n",
       "      <td>NA</td>\n",
       "      <td>NA</td>\n",
       "      <td>21.00</td>\n",
       "      <td>News et compagnie</td>\n",
       "      <td>['magazine</td>\n",
       "      <td>60 mn</td>\n",
       "      <td>NA</td>\n",
       "      <td>NA</td>\n",
       "    </tr>\n",
       "    <tr>\n",
       "      <th>15</th>\n",
       "      <td>mercredi 24 décembre 2014</td>\n",
       "      <td>cnews</td>\n",
       "      <td>21.00</td>\n",
       "      <td>On ne va pas se mentir</td>\n",
       "      <td>['magazine</td>\n",
       "      <td>60 mn</td>\n",
       "      <td>NA</td>\n",
       "      <td>NA</td>\n",
       "      <td>22.00</td>\n",
       "      <td>Galzi jusqu'à minuit et demi</td>\n",
       "      <td>['magazine</td>\n",
       "      <td>150 mn</td>\n",
       "      <td>NA</td>\n",
       "      <td>NA</td>\n",
       "    </tr>\n",
       "    <tr>\n",
       "      <th>16</th>\n",
       "      <td>mercredi 24 décembre 2014</td>\n",
       "      <td>cstar</td>\n",
       "      <td>19.50</td>\n",
       "      <td>Friends</td>\n",
       "      <td>['serie-tv cat-selection-obs</td>\n",
       "      <td>60 mn</td>\n",
       "      <td>2</td>\n",
       "      <td>NA</td>\n",
       "      <td>20.50</td>\n",
       "      <td>30 ans de tubes</td>\n",
       "      <td>['divertissement</td>\n",
       "      <td>205 mn</td>\n",
       "      <td>NA</td>\n",
       "      <td>NA</td>\n",
       "    </tr>\n",
       "    <tr>\n",
       "      <th>17</th>\n",
       "      <td>mercredi 24 décembre 2014</td>\n",
       "      <td>gulli</td>\n",
       "      <td>21.00</td>\n",
       "      <td>Mes parrains sont magiques</td>\n",
       "      <td>['dessin-anime</td>\n",
       "      <td>40 mn</td>\n",
       "      <td>9</td>\n",
       "      <td>NA</td>\n",
       "      <td>00.40</td>\n",
       "      <td>L'assassinat du Père Noël</td>\n",
       "      <td>['film cat-selection-obs</td>\n",
       "      <td>105 mn</td>\n",
       "      <td>NA</td>\n",
       "      <td>NA</td>\n",
       "    </tr>\n",
       "    <tr>\n",
       "      <th>18</th>\n",
       "      <td>mercredi 24 décembre 2014</td>\n",
       "      <td>france Ô</td>\n",
       "      <td>20.45</td>\n",
       "      <td>Le réveillon de Babette</td>\n",
       "      <td>['magazine</td>\n",
       "      <td>90 mn</td>\n",
       "      <td>NA</td>\n",
       "      <td>NA</td>\n",
       "      <td>22.15</td>\n",
       "      <td>Chanté Nwèl</td>\n",
       "      <td>['divertissement</td>\n",
       "      <td>55 mn</td>\n",
       "      <td>NA</td>\n",
       "      <td>NA</td>\n",
       "    </tr>\n",
       "    <tr>\n",
       "      <th>19</th>\n",
       "      <td>mercredi 24 décembre 2014</td>\n",
       "      <td>6ter</td>\n",
       "      <td>20.50</td>\n",
       "      <td>The Good Wife</td>\n",
       "      <td>['serie-tv cat-selection-obs</td>\n",
       "      <td>90 mn</td>\n",
       "      <td>5</td>\n",
       "      <td>NA</td>\n",
       "      <td>NA</td>\n",
       "      <td>The Good Wife</td>\n",
       "      <td>['du-diable-517422/</td>\n",
       "      <td>NA</td>\n",
       "      <td>5</td>\n",
       "      <td>NA</td>\n",
       "    </tr>\n",
       "    <tr>\n",
       "      <th>20</th>\n",
       "      <td>mercredi 24 décembre 2014</td>\n",
       "      <td>tf1 séries films</td>\n",
       "      <td>20.50</td>\n",
       "      <td>R.I.S. Police scientifique</td>\n",
       "      <td>['serie-tv</td>\n",
       "      <td>130 mn</td>\n",
       "      <td>4</td>\n",
       "      <td>NA</td>\n",
       "      <td>NA</td>\n",
       "      <td>R.I.S. Police scientifique</td>\n",
       "      <td>NA</td>\n",
       "      <td>NA</td>\n",
       "      <td>4</td>\n",
       "      <td>NA</td>\n",
       "    </tr>\n",
       "    <tr>\n",
       "      <th>21</th>\n",
       "      <td>mercredi 24 décembre 2014</td>\n",
       "      <td>l'equipe</td>\n",
       "      <td>20.50</td>\n",
       "      <td>Dans la peau de Mike Tyson</td>\n",
       "      <td>['documentaire</td>\n",
       "      <td>60 mn</td>\n",
       "      <td>6</td>\n",
       "      <td>NA</td>\n",
       "      <td>00.15</td>\n",
       "      <td>Les 500 plus beaux buts</td>\n",
       "      <td>['documentaire</td>\n",
       "      <td>45 mn</td>\n",
       "      <td>NA</td>\n",
       "      <td>NA</td>\n",
       "    </tr>\n",
       "    <tr>\n",
       "      <th>22</th>\n",
       "      <td>mercredi 24 décembre 2014</td>\n",
       "      <td>rmc story</td>\n",
       "      <td>20.45</td>\n",
       "      <td>Rire ensemble contre le racisme</td>\n",
       "      <td>['divertissement</td>\n",
       "      <td>150 mn</td>\n",
       "      <td>NA</td>\n",
       "      <td>NA</td>\n",
       "      <td>23.15</td>\n",
       "      <td>Phénomène paranormal</td>\n",
       "      <td>['documentaire</td>\n",
       "      <td>90 mn</td>\n",
       "      <td>3</td>\n",
       "      <td>NA</td>\n",
       "    </tr>\n",
       "    <tr>\n",
       "      <th>23</th>\n",
       "      <td>mercredi 24 décembre 2014</td>\n",
       "      <td>rmc decouverte</td>\n",
       "      <td>20.45</td>\n",
       "      <td>Top Gear</td>\n",
       "      <td>['magazine</td>\n",
       "      <td>120 mn</td>\n",
       "      <td>5</td>\n",
       "      <td>NA</td>\n",
       "      <td>NA</td>\n",
       "      <td>Top Gear</td>\n",
       "      <td>NA</td>\n",
       "      <td>NA</td>\n",
       "      <td>5</td>\n",
       "      <td>NA</td>\n",
       "    </tr>\n",
       "    <tr>\n",
       "      <th>24</th>\n",
       "      <td>mercredi 24 décembre 2014</td>\n",
       "      <td>cherie 25</td>\n",
       "      <td>20.45</td>\n",
       "      <td>Liane Foly : «La folle part en cure»</td>\n",
       "      <td>['spectacle</td>\n",
       "      <td>115 mn</td>\n",
       "      <td>NA</td>\n",
       "      <td>NA</td>\n",
       "      <td>22.40</td>\n",
       "      <td>Anne Roumanoff : «Les petits délices de la vie...</td>\n",
       "      <td>['spectacle</td>\n",
       "      <td>100 mn</td>\n",
       "      <td>NA</td>\n",
       "      <td>NA</td>\n",
       "    </tr>\n",
       "  </tbody>\n",
       "</table>\n",
       "</div>"
      ],
      "text/plain": [
       "                         Date                  Chaîne Heure_prgm1  \\\n",
       "0   mercredi 24 décembre 2014                     tf1       20.55   \n",
       "1   mercredi 24 décembre 2014                france 2       20.50   \n",
       "2   mercredi 24 décembre 2014                france 3       20.45   \n",
       "3   mercredi 24 décembre 2014                 canal +       20.55   \n",
       "4   mercredi 24 décembre 2014                france 5       20.45   \n",
       "5   mercredi 24 décembre 2014                      m6       20.50   \n",
       "6   mercredi 24 décembre 2014                    arte       20.50   \n",
       "7   mercredi 24 décembre 2014                      c8       20.50   \n",
       "8   mercredi 24 décembre 2014                      w9       20.50   \n",
       "9   mercredi 24 décembre 2014                     tmc       20.50   \n",
       "10  mercredi 24 décembre 2014                     tfx       20.50   \n",
       "11  mercredi 24 décembre 2014                  nrj 12       20.50   \n",
       "12  mercredi 24 décembre 2014   public senat - lcp an       20.30   \n",
       "13  mercredi 24 décembre 2014                france 4       20.46   \n",
       "14  mercredi 24 décembre 2014                  bfm tv       20.00   \n",
       "15  mercredi 24 décembre 2014                   cnews       21.00   \n",
       "16  mercredi 24 décembre 2014                   cstar       19.50   \n",
       "17  mercredi 24 décembre 2014                   gulli       21.00   \n",
       "18  mercredi 24 décembre 2014                france Ô       20.45   \n",
       "19  mercredi 24 décembre 2014                    6ter       20.50   \n",
       "20  mercredi 24 décembre 2014        tf1 séries films       20.50   \n",
       "21  mercredi 24 décembre 2014                l'equipe       20.50   \n",
       "22  mercredi 24 décembre 2014               rmc story       20.45   \n",
       "23  mercredi 24 décembre 2014          rmc decouverte       20.45   \n",
       "24  mercredi 24 décembre 2014               cherie 25       20.45   \n",
       "\n",
       "                             Titre_prgm1                    Type_prgm1  \\\n",
       "0                   Les 12 coups de Noël                         ['jeu   \n",
       "1                   Les rois du bêtisier              ['divertissement   \n",
       "2             300 choeurs pour les fêtes              ['divertissement   \n",
       "3                La grande aventure Lego      ['film cat-selection-obs   \n",
       "4                                 Pollen                        ['film   \n",
       "5       Disney Party : en attendant Noël              ['divertissement   \n",
       "6                             Peau d'âne      ['film cat-selection-obs   \n",
       "7              Le grand bêtisier de Noël              ['divertissement   \n",
       "8                 Les 30 ans du «Top 50»              ['divertissement   \n",
       "9                         Hercule Poirot                    ['serie-tv   \n",
       "10                    Comme Cendrillon 3                        ['film   \n",
       "11             Le super bêtisier de Noël              ['divertissement   \n",
       "12           Cathos, nouvelle génération                ['documentaire   \n",
       "13                       Gang de requins      ['film cat-selection-obs   \n",
       "14                         20h politique                    ['magazine   \n",
       "15                On ne va pas se mentir                    ['magazine   \n",
       "16                               Friends  ['serie-tv cat-selection-obs   \n",
       "17            Mes parrains sont magiques                ['dessin-anime   \n",
       "18               Le réveillon de Babette                    ['magazine   \n",
       "19                         The Good Wife  ['serie-tv cat-selection-obs   \n",
       "20            R.I.S. Police scientifique                    ['serie-tv   \n",
       "21            Dans la peau de Mike Tyson                ['documentaire   \n",
       "22       Rire ensemble contre le racisme              ['divertissement   \n",
       "23                              Top Gear                    ['magazine   \n",
       "24  Liane Foly : «La folle part en cure»                   ['spectacle   \n",
       "\n",
       "   Durée_prgm1 Nbre_épisodes_prgm1 Age_conseillé_prgm1 Heure_prgm2  \\\n",
       "0       160 mn                  NA                  NA       23.35   \n",
       "1       190 mn                  NA                  NA       00.00   \n",
       "2       145 mn                  NA                  NA       23.40   \n",
       "3       100 mn                  NA                  NA       22.35   \n",
       "4        75 mn                  NA                  NA       23.10   \n",
       "5       275 mn                  NA                  NA       01.30   \n",
       "6        90 mn                  NA                  NA       23.50   \n",
       "7       120 mn                  NA                  NA       22.50   \n",
       "8       105 mn                  NA                  NA          NA   \n",
       "9       170 mn                  2                   NA       23.55   \n",
       "10       95 mn                  NA                  NA       22.25   \n",
       "11      110 mn                  NA                  NA       22.40   \n",
       "12       60 mn                  NA                  NA       22.30   \n",
       "13       79 mn                  NA                  NA       22.05   \n",
       "14       30 mn                  NA                  NA       21.00   \n",
       "15       60 mn                  NA                  NA       22.00   \n",
       "16       60 mn                  2                   NA       20.50   \n",
       "17       40 mn                  9                   NA       00.40   \n",
       "18       90 mn                  NA                  NA       22.15   \n",
       "19       90 mn                  5                   NA          NA   \n",
       "20      130 mn                  4                   NA          NA   \n",
       "21       60 mn                  6                   NA       00.15   \n",
       "22      150 mn                  NA                  NA       23.15   \n",
       "23      120 mn                  5                   NA          NA   \n",
       "24      115 mn                  NA                  NA       22.40   \n",
       "\n",
       "                                          Titre_prgm2  \\\n",
       "0                                   Spéciale bêtisier   \n",
       "1                                               Messe   \n",
       "2                                  Le grand échiquier   \n",
       "3                             Moi, moche et méchant 2   \n",
       "4                                  Un Noël à New York   \n",
       "5                               Trois voeux pour Noël   \n",
       "6                                        Hellzapoppin   \n",
       "7                                Le grand zap de Noël   \n",
       "8                              Les 30 ans du «Top 50»   \n",
       "9                                     Messe de minuit   \n",
       "10                                 Comme Cendrillon 2   \n",
       "11                       Le super bêtisier de l'année   \n",
       "12                                         Farafin Ko   \n",
       "13                          Shirley et Dino à Marigny   \n",
       "14                                  News et compagnie   \n",
       "15                       Galzi jusqu'à minuit et demi   \n",
       "16                                    30 ans de tubes   \n",
       "17                          L'assassinat du Père Noël   \n",
       "18                                        Chanté Nwèl   \n",
       "19                                      The Good Wife   \n",
       "20                         R.I.S. Police scientifique   \n",
       "21                            Les 500 plus beaux buts   \n",
       "22                               Phénomène paranormal   \n",
       "23                                           Top Gear   \n",
       "24  Anne Roumanoff : «Les petits délices de la vie...   \n",
       "\n",
       "                  Type_prgm2 Durée_prgm2 Nbre_épisodes_prgm2  \\\n",
       "0           ['divertissement       90 mn                  NA   \n",
       "1      ['emission-religieuse      105 mn                  NA   \n",
       "2                ['talk-show       90 mn                  NA   \n",
       "3   ['film cat-selection-obs       95 mn                  NA   \n",
       "4             ['documentaire       55 mn                  NA   \n",
       "5                 ['telefilm      110 mn                  NA   \n",
       "6                     ['film       85 mn                  NA   \n",
       "7           ['divertissement      100 mn                  NA   \n",
       "8                         NA          NA                  NA   \n",
       "9      ['emission-religieuse      130 mn                  NA   \n",
       "10                    ['film      105 mn                  NA   \n",
       "11          ['divertissement      110 mn                  NA   \n",
       "12            ['documentaire       60 mn                  NA   \n",
       "13               ['spectacle      100 mn                  NA   \n",
       "14                ['magazine       60 mn                  NA   \n",
       "15                ['magazine      150 mn                  NA   \n",
       "16          ['divertissement      205 mn                  NA   \n",
       "17  ['film cat-selection-obs      105 mn                  NA   \n",
       "18          ['divertissement       55 mn                  NA   \n",
       "19       ['du-diable-517422/          NA                  5    \n",
       "20                        NA          NA                  4    \n",
       "21            ['documentaire       45 mn                  NA   \n",
       "22            ['documentaire       90 mn                  3    \n",
       "23                        NA          NA                  5    \n",
       "24               ['spectacle      100 mn                  NA   \n",
       "\n",
       "   Age_conseillé_prgm2  \n",
       "0                   NA  \n",
       "1                   NA  \n",
       "2                   NA  \n",
       "3                   NA  \n",
       "4                   NA  \n",
       "5                   NA  \n",
       "6                   NA  \n",
       "7                   NA  \n",
       "8                   NA  \n",
       "9                   NA  \n",
       "10                  NA  \n",
       "11                  NA  \n",
       "12                  NA  \n",
       "13                  NA  \n",
       "14                  NA  \n",
       "15                  NA  \n",
       "16                  NA  \n",
       "17                  NA  \n",
       "18                  NA  \n",
       "19                  NA  \n",
       "20                  NA  \n",
       "21                  NA  \n",
       "22                  NA  \n",
       "23                  NA  \n",
       "24                  NA  "
      ]
     },
     "execution_count": 115,
     "metadata": {},
     "output_type": "execute_result"
    }
   ],
   "source": [
    "Data = pd.DataFrame({\"Date\": [], \"Chaîne\": [], \"Heure_prgm1\": [], \"Titre_prgm1\": [], \"Type_prgm1\": [],\n",
    "                    \"Durée_prgm1\": [], \"Nbre_épisodes_prgm1\": [], \"Age_conseillé_prgm1\": [], \"Heure_prgm2\": [],\n",
    "                     \"Titre_prgm2\": [], \"Type_prgm2\": [], \"Durée_prgm2\": [], \"Nbre_épisodes_prgm2\": [], \n",
    "                     \"Age_conseillé_prgm2\": []})\n",
    "[Data[\"Date\"],Data[\"Chaîne\"],Data[\"Heure_prgm1\"], Data[\"Titre_prgm1\"], Data[\"Type_prgm1\"], Data[\"Durée_prgm1\"],\n",
    "Data[\"Nbre_épisodes_prgm1\"],Data[\"Age_conseillé_prgm1\"], Data[\"Heure_prgm2\"], Data[\"Titre_prgm2\"], Data[\"Type_prgm2\"],\n",
    " Data[\"Durée_prgm2\"],Data[\"Nbre_épisodes_prgm2\"],Data[\"Age_conseillé_prgm2\"]] = [Date,\n",
    "                                                                                 Chaine, Heure1, Titre1, Type1,\n",
    "                                                                                 Durée1, Nbre1, Age1, Heure2, Titre2,\n",
    "                                                                                Type2, Durée2, Nbre2, Age2]\n",
    "Data"
   ]
  },
  {
   "cell_type": "code",
   "execution_count": null,
   "metadata": {},
   "outputs": [],
   "source": []
  },
  {
   "cell_type": "code",
   "execution_count": null,
   "metadata": {},
   "outputs": [],
   "source": []
  },
  {
   "cell_type": "code",
   "execution_count": null,
   "metadata": {},
   "outputs": [],
   "source": []
  },
  {
   "cell_type": "code",
   "execution_count": null,
   "metadata": {},
   "outputs": [],
   "source": []
  },
  {
   "cell_type": "code",
   "execution_count": null,
   "metadata": {},
   "outputs": [],
   "source": []
  },
  {
   "cell_type": "code",
   "execution_count": null,
   "metadata": {},
   "outputs": [],
   "source": []
  },
  {
   "cell_type": "code",
   "execution_count": null,
   "metadata": {},
   "outputs": [],
   "source": []
  }
 ],
 "metadata": {
  "kernelspec": {
   "display_name": "Python 3",
   "language": "python",
   "name": "python3"
  },
  "language_info": {
   "codemirror_mode": {
    "name": "ipython",
    "version": 3
   },
   "file_extension": ".py",
   "mimetype": "text/x-python",
   "name": "python",
   "nbconvert_exporter": "python",
   "pygments_lexer": "ipython3",
   "version": "3.6.5"
  }
 },
 "nbformat": 4,
 "nbformat_minor": 2
}
