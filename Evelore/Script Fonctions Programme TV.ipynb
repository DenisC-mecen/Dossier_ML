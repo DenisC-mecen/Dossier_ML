{
 "cells": [
  {
   "cell_type": "code",
   "execution_count": 98,
   "metadata": {},
   "outputs": [],
   "source": [
    "import requests as rq\n",
    "import re\n",
    "import bs4\n",
    "import datetime"
   ]
  },
  {
   "cell_type": "markdown",
   "metadata": {},
   "source": [
    "# Date URL"
   ]
  },
  {
   "cell_type": "code",
   "execution_count": 2,
   "metadata": {},
   "outputs": [],
   "source": [
    "def dates(a):\n",
    "    Date = []\n",
    "    for i in range(2014,a+1):\n",
    "        for j in range(1,13):\n",
    "            if j == 1 or j == 3 or j == 5 or j == 7 or j == 8 or j == 10 or j == 12:\n",
    "                l = 32\n",
    "            elif j == 4 or j == 6 or j == 9 or j == 11:\n",
    "                l = 31\n",
    "            elif j == 2:\n",
    "                if i == 2016:\n",
    "                    l = 30\n",
    "                else:\n",
    "                    l=29\n",
    "            for k in range(1,l):\n",
    "                date = str(datetime.date(i, j, k))\n",
    "                Date.append(date)       \n",
    "    return Date[280:-41]"
   ]
  },
  {
   "cell_type": "code",
   "execution_count": 3,
   "metadata": {},
   "outputs": [
    {
     "data": {
      "text/plain": [
       "'2019-11-20'"
      ]
     },
     "execution_count": 3,
     "metadata": {},
     "output_type": "execute_result"
    }
   ],
   "source": [
    "Dates = dates(2019)\n",
    "Dates[-1]"
   ]
  },
  {
   "cell_type": "markdown",
   "metadata": {},
   "source": [
    "# Chemin"
   ]
  },
  {
   "cell_type": "code",
   "execution_count": 4,
   "metadata": {},
   "outputs": [],
   "source": [
    "def chemin(Dates):\n",
    "    url = \"http://programme-tv.nouvelobs.com/programme-tv/\"\n",
    "    Chemins = []\n",
    "    for i in range(len(Dates)):\n",
    "        Chemin = url + str(Dates[i]) + \"/\"\n",
    "        Chemins.append(Chemin)\n",
    "    return Chemins"
   ]
  },
  {
   "cell_type": "code",
   "execution_count": 5,
   "metadata": {},
   "outputs": [],
   "source": [
    "Chemin = chemin(Dates)"
   ]
  },
  {
   "cell_type": "code",
   "execution_count": 99,
   "metadata": {},
   "outputs": [],
   "source": [
    "Chemin = \"http://programme-tv.nouvelobs.com/programme-tv/2016-05-27/\""
   ]
  },
  {
   "cell_type": "markdown",
   "metadata": {},
   "source": [
    "# Arbre "
   ]
  },
  {
   "cell_type": "code",
   "execution_count": 100,
   "metadata": {},
   "outputs": [],
   "source": [
    "def tree(chemin):\n",
    "    page = rq.get(chemin)\n",
    "    texte = page.text\n",
    "    arbre = bs4.BeautifulSoup(texte, \"html.parser\")\n",
    "    return arbre"
   ]
  },
  {
   "cell_type": "code",
   "execution_count": 101,
   "metadata": {},
   "outputs": [],
   "source": [
    "arbre = tree(Chemin)"
   ]
  },
  {
   "cell_type": "code",
   "execution_count": 102,
   "metadata": {},
   "outputs": [
    {
     "data": {
      "text/plain": [
       "3"
      ]
     },
     "execution_count": 102,
     "metadata": {},
     "output_type": "execute_result"
    }
   ],
   "source": [
    "len(arbre)"
   ]
  },
  {
   "cell_type": "markdown",
   "metadata": {},
   "source": [
    "# Jour"
   ]
  },
  {
   "cell_type": "code",
   "execution_count": 103,
   "metadata": {},
   "outputs": [],
   "source": [
    "def jour(arbre):\n",
    "    jour = arbre.findAll(\"h1\")\n",
    "    jour = re.findall(\"TV (.*) \\(\",str(jour))\n",
    "    date = []\n",
    "    for i in range(25):\n",
    "        result = jour\n",
    "        result = str(jour)[2:-2]\n",
    "        date.append(result)\n",
    "    return date"
   ]
  },
  {
   "cell_type": "code",
   "execution_count": 105,
   "metadata": {},
   "outputs": [],
   "source": [
    "Date = jour(arbre)"
   ]
  },
  {
   "cell_type": "markdown",
   "metadata": {},
   "source": [
    "# Chaine"
   ]
  },
  {
   "cell_type": "code",
   "execution_count": 106,
   "metadata": {},
   "outputs": [],
   "source": [
    "def chaines(arbre):\n",
    "    noeud = arbre.findAll(\"div\", {\"class\":\"logo_chaine_g\"})\n",
    "    chn = re.findall(\"Programme(.{0,23})\",str(noeud)) \n",
    "    chaine = [] \n",
    "    for i in range(25):\n",
    "        result = chn[i].split('\"')[0] \n",
    "        chaine.append(result)\n",
    "    return chaine"
   ]
  },
  {
   "cell_type": "code",
   "execution_count": 107,
   "metadata": {
    "scrolled": true
   },
   "outputs": [],
   "source": [
    "Chaine = chaines(arbre)"
   ]
  },
  {
   "cell_type": "markdown",
   "metadata": {},
   "source": [
    "# Heure du premier programme"
   ]
  },
  {
   "cell_type": "code",
   "execution_count": 108,
   "metadata": {},
   "outputs": [],
   "source": [
    "def heures1(arbre):\n",
    "    noeud = arbre.find_all(\"div\",{\"class\":\"b_d prog1\"})\n",
    "    heure = []\n",
    "    for i in range(0,50,2):\n",
    "        result = re.findall(\"b t16\\\">(.*)</span> \",str(noeud[i]))\n",
    "        result = str(result)[2:7]\n",
    "        if result == \"\":\n",
    "            result = \"NA\"\n",
    "        heure.append(result)\n",
    "    return heure"
   ]
  },
  {
   "cell_type": "code",
   "execution_count": 109,
   "metadata": {},
   "outputs": [
    {
     "data": {
      "text/plain": [
       "['20.55',\n",
       " '20.55',\n",
       " '20.55',\n",
       " '20.55',\n",
       " '20.45',\n",
       " '20.55',\n",
       " '20.55',\n",
       " '21.00',\n",
       " '20.55',\n",
       " '20.55',\n",
       " '20.55',\n",
       " '20.55',\n",
       " '20.30',\n",
       " '20.55',\n",
       " '21.00',\n",
       " '21.00',\n",
       " '20.50',\n",
       " '20.50',\n",
       " '20.50',\n",
       " '20.55',\n",
       " '20.50',\n",
       " '20.15',\n",
       " '20.50',\n",
       " '20.50',\n",
       " '20.55']"
      ]
     },
     "execution_count": 109,
     "metadata": {},
     "output_type": "execute_result"
    }
   ],
   "source": [
    "Heure1 = heures1(arbre)\n",
    "Heure1"
   ]
  },
  {
   "cell_type": "markdown",
   "metadata": {},
   "source": [
    "# Heure du deuxième programme"
   ]
  },
  {
   "cell_type": "code",
   "execution_count": 110,
   "metadata": {},
   "outputs": [],
   "source": [
    "def heures2(arbre):\n",
    "    noeud = arbre.find_all(\"div\",{\"class\":\"b_d prog1\"})\n",
    "    heure = []\n",
    "    for i in range(1,50,2):\n",
    "        result = re.findall(\"b t16\\\">(.*)</span> \",str(noeud[i]))\n",
    "        result = str(result)[2:7]\n",
    "        if result == \"\":\n",
    "            result = \"NA\"\n",
    "        heure.append(result)\n",
    "    return heure"
   ]
  },
  {
   "cell_type": "code",
   "execution_count": 111,
   "metadata": {
    "scrolled": true
   },
   "outputs": [
    {
     "data": {
      "text/plain": [
       "['23.50',\n",
       " '23.30',\n",
       " '23.25',\n",
       " '22.55',\n",
       " '21.45',\n",
       " 'NA',\n",
       " '22.25',\n",
       " '23.00',\n",
       " 'NA',\n",
       " 'NA',\n",
       " 'NA',\n",
       " 'NA',\n",
       " '22.00',\n",
       " '23.10',\n",
       " '22.00',\n",
       " '22.00',\n",
       " '22.35',\n",
       " '00.10',\n",
       " '23.45',\n",
       " '23.15',\n",
       " '22.30',\n",
       " '22.30',\n",
       " 'NA',\n",
       " '22.50',\n",
       " '00.25']"
      ]
     },
     "execution_count": 111,
     "metadata": {},
     "output_type": "execute_result"
    }
   ],
   "source": [
    "Heure2 = heures2(arbre)\n",
    "Heure2"
   ]
  },
  {
   "cell_type": "markdown",
   "metadata": {},
   "source": [
    "# Type du premier programme"
   ]
  },
  {
   "cell_type": "code",
   "execution_count": 112,
   "metadata": {},
   "outputs": [],
   "source": [
    "def type_prgm1(arbre):\n",
    "    noeud = arbre.find_all(\"div\",{\"class\":\"b_d prog1\"})\n",
    "    typ = []\n",
    "    for i in range(0,50,2):\n",
    "        result = re.findall(\"cat-(.{0,30})\",str(noeud[i]))\n",
    "        result = str(result).split('\"')[0]\n",
    "        typ.append(result)\n",
    "    return typ"
   ]
  },
  {
   "cell_type": "code",
   "execution_count": 113,
   "metadata": {},
   "outputs": [
    {
     "data": {
      "text/plain": [
       "[\"['jeu\",\n",
       " \"['serie-tv\",\n",
       " \"['documentaire\",\n",
       " \"['film\",\n",
       " \"['magazine\",\n",
       " \"['serie-tv\",\n",
       " \"['telefilm\",\n",
       " \"['documentaire\",\n",
       " \"['magazine\",\n",
       " \"['serie-tv cat-selection-obs\",\n",
       " \"['divertissement\",\n",
       " \"['serie-tv\",\n",
       " \"['documentaire\",\n",
       " \"['serie-tv\",\n",
       " \"['magazine\",\n",
       " \"['magazine\",\n",
       " \"['telerealite\",\n",
       " \"['serie-tv\",\n",
       " \"['serie-tv\",\n",
       " \"['telefilm\",\n",
       " \"['telefilm\",\n",
       " \"['sport\",\n",
       " \"['telerealite\",\n",
       " \"['documentaire\",\n",
       " \"['telefilm\"]"
      ]
     },
     "execution_count": 113,
     "metadata": {},
     "output_type": "execute_result"
    }
   ],
   "source": [
    "Type1 = type_prgm1(arbre)\n",
    "Type1"
   ]
  },
  {
   "cell_type": "markdown",
   "metadata": {},
   "source": [
    "# Type du deuxième programme"
   ]
  },
  {
   "cell_type": "code",
   "execution_count": 114,
   "metadata": {},
   "outputs": [],
   "source": [
    "def type_prgm2(arbre):\n",
    "    noeud = arbre.find_all(\"div\",{\"class\":\"b_d prog1\"})\n",
    "    typ = []\n",
    "    for i in range(1,51,2):\n",
    "        result = re.findall(\"cat-(.{0,30})\",str(noeud[i]))\n",
    "        result = str(result).split('\"')[0]\n",
    "        if result == \"[]\":\n",
    "            result = \"NA\"\n",
    "        typ.append(result)\n",
    "    return typ"
   ]
  },
  {
   "cell_type": "code",
   "execution_count": 115,
   "metadata": {},
   "outputs": [
    {
     "data": {
      "text/plain": [
       "[\"['divertissement\",\n",
       " \"['magazine\",\n",
       " \"['divertissement\",\n",
       " \"['film cat-selection-obs\",\n",
       " \"['magazine\",\n",
       " 'NA',\n",
       " \"['documentaire\",\n",
       " \"['documentaire\",\n",
       " 'NA',\n",
       " 'NA',\n",
       " 'NA',\n",
       " 'NA',\n",
       " \"['magazine\",\n",
       " \"['serie-tv cat-selection-obs\",\n",
       " \"['information\",\n",
       " \"['information\",\n",
       " \"['documentaire\",\n",
       " \"['divertissement\",\n",
       " \"['serie-tv\",\n",
       " \"['documentaire\",\n",
       " \"['telefilm\",\n",
       " \"['magazine\",\n",
       " 'NA',\n",
       " \"['documentaire\",\n",
       " \"['magazine\"]"
      ]
     },
     "execution_count": 115,
     "metadata": {},
     "output_type": "execute_result"
    }
   ],
   "source": [
    "Type2 = type_prgm2(arbre)\n",
    "Type2"
   ]
  },
  {
   "cell_type": "markdown",
   "metadata": {},
   "source": [
    "# Durée du premier programme "
   ]
  },
  {
   "cell_type": "code",
   "execution_count": 116,
   "metadata": {},
   "outputs": [],
   "source": [
    "def temps_prgm1(arbre):\n",
    "    noeud = arbre.find_all(\"div\",{\"class\":\"b_d prog1\"})\n",
    "    temps = []\n",
    "    for i in range(0,50,2):\n",
    "        result = re.findall(\"<br/>\\((.{0,6})\",str(noeud[i]))\n",
    "        result = str(result)[2:8]\n",
    "        result = result.split(')')[0]\n",
    "        temps.append(result)\n",
    "    return temps"
   ]
  },
  {
   "cell_type": "code",
   "execution_count": 117,
   "metadata": {},
   "outputs": [],
   "source": [
    "Durée1 = temps_prgm1(arbre)"
   ]
  },
  {
   "cell_type": "markdown",
   "metadata": {},
   "source": [
    "# Durée du deuxième programme"
   ]
  },
  {
   "cell_type": "code",
   "execution_count": 118,
   "metadata": {},
   "outputs": [],
   "source": [
    "def temps_prgm2(arbre):\n",
    "    noeud = arbre.find_all(\"div\",{\"class\":\"b_d prog1\"})\n",
    "    temps = []\n",
    "    for i in range(1,50,2):\n",
    "        result = re.findall(\"<br/>\\((.{0,6})\",str(noeud[i]))\n",
    "        result = str(result)[2:8]\n",
    "        result = result.split(')')[0]\n",
    "        if result == \"\":\n",
    "            result = \"NA\"\n",
    "        temps.append(result)\n",
    "    return temps"
   ]
  },
  {
   "cell_type": "code",
   "execution_count": 119,
   "metadata": {},
   "outputs": [],
   "source": [
    "Durée2 = temps_prgm2(arbre)"
   ]
  },
  {
   "cell_type": "markdown",
   "metadata": {},
   "source": [
    "# Nombre d'épisodes du premier programme"
   ]
  },
  {
   "cell_type": "code",
   "execution_count": 120,
   "metadata": {},
   "outputs": [],
   "source": [
    "def nbre_ep1(arbre):\n",
    "    noeud = arbre.find_all(\"div\",{\"class\":\"b_d prog1\"})\n",
    "    nbre = []\n",
    "    for i in range(0,50,2):\n",
    "        result = re.findall(\"(.{0,2})épisodes\",str(noeud[i]))\n",
    "        if len(result) > 1:\n",
    "            result = result[0]\n",
    "        else:\n",
    "            result = result\n",
    "        if len(str(result)) > 4:\n",
    "            result = str(result)[1:-1]\n",
    "        if result == []:\n",
    "            result = \"NA\"\n",
    "        nbre.append(result)\n",
    "    return nbre "
   ]
  },
  {
   "cell_type": "code",
   "execution_count": 121,
   "metadata": {},
   "outputs": [],
   "source": [
    "Nbre1 = nbre_ep1(arbre)"
   ]
  },
  {
   "cell_type": "markdown",
   "metadata": {},
   "source": [
    "# Nombre d'épisodes du deuxième programme"
   ]
  },
  {
   "cell_type": "code",
   "execution_count": 122,
   "metadata": {},
   "outputs": [],
   "source": [
    "def nbre_ep2(arbre):\n",
    "    noeud = arbre.find_all(\"div\",{\"class\":\"b_d prog1\"})\n",
    "    nbre = []\n",
    "    for i in range(1,50,2):\n",
    "        result = re.findall(\"(.{0,2})épisodes\",str(noeud[i]))\n",
    "        if len(result) > 1:\n",
    "            result = result[0]\n",
    "        else:\n",
    "            result = result\n",
    "        if len(str(result)) > 4:\n",
    "            result = str(result)[2:-2]\n",
    "        if result == []:\n",
    "            result = \"NA\"\n",
    "        nbre.append(result)\n",
    "    return nbre "
   ]
  },
  {
   "cell_type": "code",
   "execution_count": 123,
   "metadata": {},
   "outputs": [
    {
     "data": {
      "text/plain": [
       "['NA',\n",
       " 'NA',\n",
       " 'NA',\n",
       " 'NA',\n",
       " 'NA',\n",
       " '6 ',\n",
       " 'NA',\n",
       " 'NA',\n",
       " '3 ',\n",
       " '5 ',\n",
       " '3 ',\n",
       " '3 ',\n",
       " 'NA',\n",
       " '2 ',\n",
       " 'NA',\n",
       " 'NA',\n",
       " 'NA',\n",
       " 'NA',\n",
       " '2 ',\n",
       " '3 ',\n",
       " 'NA',\n",
       " 'NA',\n",
       " '4 ',\n",
       " 'NA',\n",
       " 'NA']"
      ]
     },
     "execution_count": 123,
     "metadata": {},
     "output_type": "execute_result"
    }
   ],
   "source": [
    "Nbre2 = nbre_ep2(arbre)\n",
    "Nbre2"
   ]
  },
  {
   "cell_type": "markdown",
   "metadata": {},
   "source": [
    "# Titre du premier programme "
   ]
  },
  {
   "cell_type": "code",
   "execution_count": 134,
   "metadata": {},
   "outputs": [],
   "source": [
    "def titres1(arbre):\n",
    "    noeud = arbre.find_all(\"div\",{\"class\":\"b_d prog1\"})\n",
    "    titre = []\n",
    "    for i in range(0,50,2):\n",
    "        arbre2 = bs4.BeautifulSoup(str(noeud[i]),\"lxml\")\n",
    "        noeud2 = arbre2.find_all(\"span\",{\"class\":\"titre b\"})\n",
    "        if noeud2 == []:\n",
    "            noeud2 = arbre2.find_all(\"a\",{\"class\":\"titre b\"})\n",
    "        result = re.findall(\">(.*)<\", str(noeud2))\n",
    "        result = str(result).replace(\"&amp;\", \"&\")\n",
    "        result = str(result).replace(\";\", \"\")\n",
    "        result = result[2:-2]\n",
    "        if result == \"\":\n",
    "            result = \"NA\"\n",
    "        titre.append(result)\n",
    "    return titre"
   ]
  },
  {
   "cell_type": "code",
   "execution_count": 135,
   "metadata": {},
   "outputs": [
    {
     "data": {
      "text/plain": [
       "['Koh-Lanta',\n",
       " 'Candice Renoir',\n",
       " 'Lama et Macias, leur incroyable destin croisé !',\n",
       " 'Ant-Man',\n",
       " 'La maison France 5',\n",
       " 'NCIS',\n",
       " 'Les pieds dans le tapis',\n",
       " 'Du Schmilblick aux Restos du Coeur, la folle histoire de Coluche',\n",
       " \"Enquête d'action\",\n",
       " 'Les experts',\n",
       " 'Super Nanny',\n",
       " 'Femmes de loi',\n",
       " 'Chicago, vivre avec les gangs',\n",
       " 'Les chroniques de Shannara',\n",
       " \"L'histoire en direct\",\n",
       " 'CQFD',\n",
       " 'American Pickers - Chasseurs de trésors',\n",
       " 'Pokémon : XY&Z',\n",
       " 'Meurtres au paradis',\n",
       " 'Dinotopia',\n",
       " 'À 10 minutes de la plage',\n",
       " 'Les princes du ring',\n",
       " 'Ink Master : maître vs apprenti',\n",
       " 'La bataille de Jutland',\n",
       " 'Double enquête']"
      ]
     },
     "execution_count": 135,
     "metadata": {},
     "output_type": "execute_result"
    }
   ],
   "source": [
    "Titre1 = titres1(arbre)\n",
    "Titre1"
   ]
  },
  {
   "cell_type": "markdown",
   "metadata": {},
   "source": [
    "# Titre du deuxième programme"
   ]
  },
  {
   "cell_type": "code",
   "execution_count": 136,
   "metadata": {},
   "outputs": [],
   "source": [
    "def titres2(arbre):\n",
    "    noeud = arbre.find_all(\"div\",{\"class\":\"b_d prog1\"})\n",
    "    titre = []\n",
    "    for i in range(1,50,2):\n",
    "        arbre2 = bs4.BeautifulSoup(str(noeud[i]),\"lxml\")\n",
    "        noeud2 = arbre2.find_all(\"span\",{\"class\":\"titre b\"})\n",
    "        if noeud2 == []:\n",
    "            noeud2 = arbre2.find_all(\"a\",{\"class\":\"titre b\"})\n",
    "        result = re.findall(\">(.*)<\", str(noeud2))\n",
    "        result = str(result).replace(\"&amp;\", \"&\")\n",
    "        result = str(result).replace(\";\", \"\")\n",
    "        result = result[2:-2]\n",
    "        if result == \"\":\n",
    "            result = \"NA\"\n",
    "        titre.append(result)\n",
    "    return titre"
   ]
  },
  {
   "cell_type": "code",
   "execution_count": 137,
   "metadata": {},
   "outputs": [],
   "source": [
    "Titre2 = titres2(arbre)"
   ]
  },
  {
   "cell_type": "markdown",
   "metadata": {},
   "source": [
    "# Limite d'âge du premier programme"
   ]
  },
  {
   "cell_type": "code",
   "execution_count": 128,
   "metadata": {},
   "outputs": [],
   "source": [
    "def ages1(arbre):\n",
    "    noeud = arbre.find_all(\"div\",{\"class\":\"b_d prog1\"})\n",
    "    age = []\n",
    "    for i in range(0,50,2):\n",
    "        result = re.findall(\"tv right t22 line4\\\">(.{0,1})\", str(noeud[i]))\n",
    "        if result == ['2']:\n",
    "            result = '-10 ans'\n",
    "        elif result == ['3']:\n",
    "            result = '-12 ans'\n",
    "        elif result == ['4']:\n",
    "            result = '-16 ans'\n",
    "        elif result == ['5']:\n",
    "            result = '-18 ans'\n",
    "        elif result == []:\n",
    "            result = \"NA\"\n",
    "        age.append(result)\n",
    "    return age"
   ]
  },
  {
   "cell_type": "code",
   "execution_count": 129,
   "metadata": {},
   "outputs": [],
   "source": [
    "Age1 = ages1(arbre)"
   ]
  },
  {
   "cell_type": "markdown",
   "metadata": {},
   "source": [
    "# Limite d'âge du deuxième programme"
   ]
  },
  {
   "cell_type": "code",
   "execution_count": 130,
   "metadata": {},
   "outputs": [],
   "source": [
    "def ages2(arbre):\n",
    "    noeud = arbre.find_all(\"div\",{\"class\":\"b_d prog1\"})\n",
    "    age = []\n",
    "    for i in range(1,50,2):\n",
    "        result = re.findall(\"tv right t22 line4\\\">(.{0,1})\", str(noeud[i]))\n",
    "        if result == ['2']:\n",
    "            result = '-10 ans'\n",
    "        elif result == ['3']:\n",
    "            result = '-12 ans'\n",
    "        elif result == ['4']:\n",
    "            result = '-16 ans'\n",
    "        elif result == ['5']:\n",
    "            result = '-18 ans'\n",
    "        elif result == []:\n",
    "            result = \"NA\"\n",
    "        age.append(result)\n",
    "    return age"
   ]
  },
  {
   "cell_type": "code",
   "execution_count": 131,
   "metadata": {},
   "outputs": [],
   "source": [
    "Age2 = ages2(arbre)"
   ]
  },
  {
   "cell_type": "markdown",
   "metadata": {},
   "source": [
    "# Génération du data frame "
   ]
  },
  {
   "cell_type": "code",
   "execution_count": 132,
   "metadata": {},
   "outputs": [],
   "source": [
    "import pandas as pd"
   ]
  },
  {
   "cell_type": "code",
   "execution_count": 60,
   "metadata": {},
   "outputs": [],
   "source": [
    "def Donnee(Date,Logo,Pdm,Donnees):\n",
    "    Data = pd.DataFrame({\"Date\": [], \"Chaîne\": [], \"Heure_prgm1\": [], \"Titre_prgm1\": [], \"Type_prgm1\": [],\n",
    "                    \"Durée_prgm1\": [], \"Nbre_épisodes_prgm1\": [], \"Age_conseillé_prgm1\": [], \"Heure_prgm2\": [],\n",
    "                     \"Titre_prgm2\": [], \"Type_prgm2\": [], \"Durée_prgm2\": [], \"Nbre_épisodes_prgm2\": [], \n",
    "                     \"Age_conseillé_prgm2\": []})\n",
    "    [Data[\"Date\"],Data[\"Chaîne\"],Data[\"Heure_prgm1\"], Data[\"Titre_prgm1\"], Data[\"Type_prgm1\"], Data[\"Durée_prgm1\"],\n",
    "Data[\"Nbre_épisodes_prgm1\"],Data[\"Age_conseillé_prgm1\"], Data[\"Heure_prgm2\"], Data[\"Titre_prgm2\"], Data[\"Type_prgm2\"],\n",
    " Data[\"Durée_prgm2\"],Data[\"Nbre_épisodes_prgm2\"],Data[\"Age_conseillé_prgm2\"]] = [Date, Chaine, Heure1, Titre1, Type1,\n",
    "                                                                                 Durée1, Nbre1, Age1, Heure2, Titre2,\n",
    "                                                                                Type2, Durée2, Nbre2, Age2]\n",
    "    Donnees = pd.concat([Donnees, Data],ignore_index = True)\n",
    "    return Donnees"
   ]
  },
  {
   "cell_type": "code",
   "execution_count": null,
   "metadata": {},
   "outputs": [],
   "source": []
  },
  {
   "cell_type": "code",
   "execution_count": 138,
   "metadata": {},
   "outputs": [
    {
     "data": {
      "text/html": [
       "<div>\n",
       "<style scoped>\n",
       "    .dataframe tbody tr th:only-of-type {\n",
       "        vertical-align: middle;\n",
       "    }\n",
       "\n",
       "    .dataframe tbody tr th {\n",
       "        vertical-align: top;\n",
       "    }\n",
       "\n",
       "    .dataframe thead th {\n",
       "        text-align: right;\n",
       "    }\n",
       "</style>\n",
       "<table border=\"1\" class=\"dataframe\">\n",
       "  <thead>\n",
       "    <tr style=\"text-align: right;\">\n",
       "      <th></th>\n",
       "      <th>Date</th>\n",
       "      <th>Chaîne</th>\n",
       "      <th>Heure_prgm1</th>\n",
       "      <th>Titre_prgm1</th>\n",
       "      <th>Type_prgm1</th>\n",
       "      <th>Durée_prgm1</th>\n",
       "      <th>Nbre_épisodes_prgm1</th>\n",
       "      <th>Age_conseillé_prgm1</th>\n",
       "      <th>Heure_prgm2</th>\n",
       "      <th>Titre_prgm2</th>\n",
       "      <th>Type_prgm2</th>\n",
       "      <th>Durée_prgm2</th>\n",
       "      <th>Nbre_épisodes_prgm2</th>\n",
       "      <th>Age_conseillé_prgm2</th>\n",
       "    </tr>\n",
       "  </thead>\n",
       "  <tbody>\n",
       "    <tr>\n",
       "      <th>0</th>\n",
       "      <td>vendredi 27 mai 2016</td>\n",
       "      <td>tf1</td>\n",
       "      <td>20.55</td>\n",
       "      <td>Koh-Lanta</td>\n",
       "      <td>['jeu</td>\n",
       "      <td>175 mn</td>\n",
       "      <td>NA</td>\n",
       "      <td>NA</td>\n",
       "      <td>23.50</td>\n",
       "      <td>L'Hebdo Show avec Arthur</td>\n",
       "      <td>['divertissement</td>\n",
       "      <td>115 mn</td>\n",
       "      <td>NA</td>\n",
       "      <td>NA</td>\n",
       "    </tr>\n",
       "    <tr>\n",
       "      <th>1</th>\n",
       "      <td>vendredi 27 mai 2016</td>\n",
       "      <td>france 2</td>\n",
       "      <td>20.55</td>\n",
       "      <td>Candice Renoir</td>\n",
       "      <td>['serie-tv</td>\n",
       "      <td>110 mn</td>\n",
       "      <td>3</td>\n",
       "      <td>NA</td>\n",
       "      <td>23.30</td>\n",
       "      <td>Taratata 100 % Live</td>\n",
       "      <td>['magazine</td>\n",
       "      <td>120 mn</td>\n",
       "      <td>NA</td>\n",
       "      <td>NA</td>\n",
       "    </tr>\n",
       "    <tr>\n",
       "      <th>2</th>\n",
       "      <td>vendredi 27 mai 2016</td>\n",
       "      <td>france 3</td>\n",
       "      <td>20.55</td>\n",
       "      <td>Lama et Macias, leur incroyable destin croisé !</td>\n",
       "      <td>['documentaire</td>\n",
       "      <td>110 mn</td>\n",
       "      <td>NA</td>\n",
       "      <td>NA</td>\n",
       "      <td>23.25</td>\n",
       "      <td>La folle histoire des caméras cachées</td>\n",
       "      <td>['divertissement</td>\n",
       "      <td>120 mn</td>\n",
       "      <td>NA</td>\n",
       "      <td>NA</td>\n",
       "    </tr>\n",
       "    <tr>\n",
       "      <th>3</th>\n",
       "      <td>vendredi 27 mai 2016</td>\n",
       "      <td>canal +</td>\n",
       "      <td>20.55</td>\n",
       "      <td>Ant-Man</td>\n",
       "      <td>['film</td>\n",
       "      <td>120 mn</td>\n",
       "      <td>NA</td>\n",
       "      <td>NA</td>\n",
       "      <td>22.55</td>\n",
       "      <td>Avengers : l'ère d'Ultron</td>\n",
       "      <td>['film cat-selection-obs</td>\n",
       "      <td>135 mn</td>\n",
       "      <td>NA</td>\n",
       "      <td>-10 ans</td>\n",
       "    </tr>\n",
       "    <tr>\n",
       "      <th>4</th>\n",
       "      <td>vendredi 27 mai 2016</td>\n",
       "      <td>france 5</td>\n",
       "      <td>20.45</td>\n",
       "      <td>La maison France 5</td>\n",
       "      <td>['magazine</td>\n",
       "      <td>60 mn</td>\n",
       "      <td>NA</td>\n",
       "      <td>NA</td>\n",
       "      <td>21.45</td>\n",
       "      <td>Silence, ça pousse !</td>\n",
       "      <td>['magazine</td>\n",
       "      <td>50 mn</td>\n",
       "      <td>NA</td>\n",
       "      <td>NA</td>\n",
       "    </tr>\n",
       "    <tr>\n",
       "      <th>5</th>\n",
       "      <td>vendredi 27 mai 2016</td>\n",
       "      <td>m6</td>\n",
       "      <td>20.55</td>\n",
       "      <td>NCIS</td>\n",
       "      <td>['serie-tv</td>\n",
       "      <td>110 mn</td>\n",
       "      <td>6</td>\n",
       "      <td>-10 ans</td>\n",
       "      <td>NA</td>\n",
       "      <td>NCIS</td>\n",
       "      <td>NA</td>\n",
       "      <td>NA</td>\n",
       "      <td>6</td>\n",
       "      <td>NA</td>\n",
       "    </tr>\n",
       "    <tr>\n",
       "      <th>6</th>\n",
       "      <td>vendredi 27 mai 2016</td>\n",
       "      <td>arte</td>\n",
       "      <td>20.55</td>\n",
       "      <td>Les pieds dans le tapis</td>\n",
       "      <td>['telefilm</td>\n",
       "      <td>90 mn</td>\n",
       "      <td>NA</td>\n",
       "      <td>NA</td>\n",
       "      <td>22.25</td>\n",
       "      <td>Les superpouvoirs de l'urine</td>\n",
       "      <td>['documentaire</td>\n",
       "      <td>55 mn</td>\n",
       "      <td>NA</td>\n",
       "      <td>NA</td>\n",
       "    </tr>\n",
       "    <tr>\n",
       "      <th>7</th>\n",
       "      <td>vendredi 27 mai 2016</td>\n",
       "      <td>c8</td>\n",
       "      <td>21.00</td>\n",
       "      <td>Du Schmilblick aux Restos du Coeur, la folle h...</td>\n",
       "      <td>['documentaire</td>\n",
       "      <td>120 mn</td>\n",
       "      <td>NA</td>\n",
       "      <td>NA</td>\n",
       "      <td>23.00</td>\n",
       "      <td>De Funès : 100 ans de rire</td>\n",
       "      <td>['documentaire</td>\n",
       "      <td>95 mn</td>\n",
       "      <td>NA</td>\n",
       "      <td>NA</td>\n",
       "    </tr>\n",
       "    <tr>\n",
       "      <th>8</th>\n",
       "      <td>vendredi 27 mai 2016</td>\n",
       "      <td>w9</td>\n",
       "      <td>20.55</td>\n",
       "      <td>Enquête d'action</td>\n",
       "      <td>['magazine</td>\n",
       "      <td>240 mn</td>\n",
       "      <td>3</td>\n",
       "      <td>-10 ans</td>\n",
       "      <td>NA</td>\n",
       "      <td>Enquête d'action</td>\n",
       "      <td>NA</td>\n",
       "      <td>NA</td>\n",
       "      <td>3</td>\n",
       "      <td>NA</td>\n",
       "    </tr>\n",
       "    <tr>\n",
       "      <th>9</th>\n",
       "      <td>vendredi 27 mai 2016</td>\n",
       "      <td>tmc</td>\n",
       "      <td>20.55</td>\n",
       "      <td>Les experts</td>\n",
       "      <td>['serie-tv cat-selection-obs</td>\n",
       "      <td>110 mn</td>\n",
       "      <td>5</td>\n",
       "      <td>-12 ans</td>\n",
       "      <td>NA</td>\n",
       "      <td>Les experts</td>\n",
       "      <td>NA</td>\n",
       "      <td>NA</td>\n",
       "      <td>5</td>\n",
       "      <td>NA</td>\n",
       "    </tr>\n",
       "    <tr>\n",
       "      <th>10</th>\n",
       "      <td>vendredi 27 mai 2016</td>\n",
       "      <td>tfx</td>\n",
       "      <td>20.55</td>\n",
       "      <td>Super Nanny</td>\n",
       "      <td>['divertissement</td>\n",
       "      <td>230 mn</td>\n",
       "      <td>3</td>\n",
       "      <td>NA</td>\n",
       "      <td>NA</td>\n",
       "      <td>Super Nanny</td>\n",
       "      <td>NA</td>\n",
       "      <td>NA</td>\n",
       "      <td>3</td>\n",
       "      <td>NA</td>\n",
       "    </tr>\n",
       "    <tr>\n",
       "      <th>11</th>\n",
       "      <td>vendredi 27 mai 2016</td>\n",
       "      <td>nrj 12</td>\n",
       "      <td>20.55</td>\n",
       "      <td>Femmes de loi</td>\n",
       "      <td>['serie-tv</td>\n",
       "      <td>230 mn</td>\n",
       "      <td>3</td>\n",
       "      <td>NA</td>\n",
       "      <td>NA</td>\n",
       "      <td>Femmes de loi</td>\n",
       "      <td>NA</td>\n",
       "      <td>NA</td>\n",
       "      <td>3</td>\n",
       "      <td>NA</td>\n",
       "    </tr>\n",
       "    <tr>\n",
       "      <th>12</th>\n",
       "      <td>vendredi 27 mai 2016</td>\n",
       "      <td>public senat - lcp an</td>\n",
       "      <td>20.30</td>\n",
       "      <td>Chicago, vivre avec les gangs</td>\n",
       "      <td>['documentaire</td>\n",
       "      <td>55 mn</td>\n",
       "      <td>NA</td>\n",
       "      <td>NA</td>\n",
       "      <td>22.00</td>\n",
       "      <td>Bibliothèque Médicis</td>\n",
       "      <td>['magazine</td>\n",
       "      <td>60 mn</td>\n",
       "      <td>NA</td>\n",
       "      <td>NA</td>\n",
       "    </tr>\n",
       "    <tr>\n",
       "      <th>13</th>\n",
       "      <td>vendredi 27 mai 2016</td>\n",
       "      <td>france 4</td>\n",
       "      <td>20.55</td>\n",
       "      <td>Les chroniques de Shannara</td>\n",
       "      <td>['serie-tv</td>\n",
       "      <td>90 mn</td>\n",
       "      <td>3</td>\n",
       "      <td>-10 ans</td>\n",
       "      <td>23.10</td>\n",
       "      <td>Teen Wolf</td>\n",
       "      <td>['serie-tv cat-selection-obs</td>\n",
       "      <td>80 mn</td>\n",
       "      <td>2</td>\n",
       "      <td>-12 ans</td>\n",
       "    </tr>\n",
       "    <tr>\n",
       "      <th>14</th>\n",
       "      <td>vendredi 27 mai 2016</td>\n",
       "      <td>bfm tv</td>\n",
       "      <td>21.00</td>\n",
       "      <td>L'histoire en direct</td>\n",
       "      <td>['magazine</td>\n",
       "      <td>60 mn</td>\n",
       "      <td>NA</td>\n",
       "      <td>NA</td>\n",
       "      <td>22.00</td>\n",
       "      <td>Week-end direct</td>\n",
       "      <td>['information</td>\n",
       "      <td>120 mn</td>\n",
       "      <td>NA</td>\n",
       "      <td>NA</td>\n",
       "    </tr>\n",
       "    <tr>\n",
       "      <th>15</th>\n",
       "      <td>vendredi 27 mai 2016</td>\n",
       "      <td>cnews</td>\n",
       "      <td>21.00</td>\n",
       "      <td>CQFD</td>\n",
       "      <td>['magazine</td>\n",
       "      <td>60 mn</td>\n",
       "      <td>NA</td>\n",
       "      <td>NA</td>\n",
       "      <td>22.00</td>\n",
       "      <td>Intégrale week-end</td>\n",
       "      <td>['information</td>\n",
       "      <td>120 mn</td>\n",
       "      <td>NA</td>\n",
       "      <td>NA</td>\n",
       "    </tr>\n",
       "    <tr>\n",
       "      <th>16</th>\n",
       "      <td>vendredi 27 mai 2016</td>\n",
       "      <td>cstar</td>\n",
       "      <td>20.50</td>\n",
       "      <td>American Pickers - Chasseurs de trésors</td>\n",
       "      <td>['telerealite</td>\n",
       "      <td>110 mn</td>\n",
       "      <td>2</td>\n",
       "      <td>NA</td>\n",
       "      <td>22.35</td>\n",
       "      <td>American Pickers- Chasseurs de trésors</td>\n",
       "      <td>['documentaire</td>\n",
       "      <td>55 mn</td>\n",
       "      <td>NA</td>\n",
       "      <td>NA</td>\n",
       "    </tr>\n",
       "    <tr>\n",
       "      <th>17</th>\n",
       "      <td>vendredi 27 mai 2016</td>\n",
       "      <td>gulli</td>\n",
       "      <td>20.50</td>\n",
       "      <td>Pokémon : XY&amp;Z</td>\n",
       "      <td>['serie-tv</td>\n",
       "      <td>50 mn</td>\n",
       "      <td>4</td>\n",
       "      <td>NA</td>\n",
       "      <td>00.10</td>\n",
       "      <td>Total Wipeout made in USA</td>\n",
       "      <td>['divertissement</td>\n",
       "      <td>50 mn</td>\n",
       "      <td>NA</td>\n",
       "      <td>NA</td>\n",
       "    </tr>\n",
       "    <tr>\n",
       "      <th>18</th>\n",
       "      <td>vendredi 27 mai 2016</td>\n",
       "      <td>france Ô</td>\n",
       "      <td>20.50</td>\n",
       "      <td>Meurtres au paradis</td>\n",
       "      <td>['serie-tv</td>\n",
       "      <td>120 mn</td>\n",
       "      <td>3</td>\n",
       "      <td>NA</td>\n",
       "      <td>23.45</td>\n",
       "      <td>Line of Duty : enquêtes internes</td>\n",
       "      <td>['serie-tv</td>\n",
       "      <td>120 mn</td>\n",
       "      <td>2</td>\n",
       "      <td>-12 ans</td>\n",
       "    </tr>\n",
       "    <tr>\n",
       "      <th>19</th>\n",
       "      <td>vendredi 27 mai 2016</td>\n",
       "      <td>6ter</td>\n",
       "      <td>20.55</td>\n",
       "      <td>Dinotopia</td>\n",
       "      <td>['telefilm</td>\n",
       "      <td>140 mn</td>\n",
       "      <td>NA</td>\n",
       "      <td>NA</td>\n",
       "      <td>23.15</td>\n",
       "      <td>Resto sous surveillance</td>\n",
       "      <td>['documentaire</td>\n",
       "      <td>100 mn</td>\n",
       "      <td>3</td>\n",
       "      <td>NA</td>\n",
       "    </tr>\n",
       "    <tr>\n",
       "      <th>20</th>\n",
       "      <td>vendredi 27 mai 2016</td>\n",
       "      <td>tf1 séries films</td>\n",
       "      <td>20.50</td>\n",
       "      <td>À 10 minutes de la plage</td>\n",
       "      <td>['telefilm</td>\n",
       "      <td>100 mn</td>\n",
       "      <td>NA</td>\n",
       "      <td>NA</td>\n",
       "      <td>22.30</td>\n",
       "      <td>À trois c'est mieux</td>\n",
       "      <td>['telefilm</td>\n",
       "      <td>110 mn</td>\n",
       "      <td>NA</td>\n",
       "      <td>NA</td>\n",
       "    </tr>\n",
       "    <tr>\n",
       "      <th>21</th>\n",
       "      <td>vendredi 27 mai 2016</td>\n",
       "      <td>l'equipe</td>\n",
       "      <td>20.15</td>\n",
       "      <td>Les princes du ring</td>\n",
       "      <td>['sport</td>\n",
       "      <td>135 mn</td>\n",
       "      <td>NA</td>\n",
       "      <td>NA</td>\n",
       "      <td>22.30</td>\n",
       "      <td>L'Équipe du soir</td>\n",
       "      <td>['magazine</td>\n",
       "      <td>90 mn</td>\n",
       "      <td>NA</td>\n",
       "      <td>NA</td>\n",
       "    </tr>\n",
       "    <tr>\n",
       "      <th>22</th>\n",
       "      <td>vendredi 27 mai 2016</td>\n",
       "      <td>rmc story</td>\n",
       "      <td>20.50</td>\n",
       "      <td>Ink Master : maître vs apprenti</td>\n",
       "      <td>['telerealite</td>\n",
       "      <td>110 mn</td>\n",
       "      <td>4</td>\n",
       "      <td>NA</td>\n",
       "      <td>NA</td>\n",
       "      <td>Ink Master : maître vs apprenti</td>\n",
       "      <td>NA</td>\n",
       "      <td>NA</td>\n",
       "      <td>4</td>\n",
       "      <td>NA</td>\n",
       "    </tr>\n",
       "    <tr>\n",
       "      <th>23</th>\n",
       "      <td>vendredi 27 mai 2016</td>\n",
       "      <td>rmc decouverte</td>\n",
       "      <td>20.50</td>\n",
       "      <td>La bataille de Jutland</td>\n",
       "      <td>['documentaire</td>\n",
       "      <td>60 mn</td>\n",
       "      <td>NA</td>\n",
       "      <td>NA</td>\n",
       "      <td>22.50</td>\n",
       "      <td>Naufrage du Lusitania : le tournant de la guer...</td>\n",
       "      <td>['documentaire</td>\n",
       "      <td>55 mn</td>\n",
       "      <td>NA</td>\n",
       "      <td>NA</td>\n",
       "    </tr>\n",
       "    <tr>\n",
       "      <th>24</th>\n",
       "      <td>vendredi 27 mai 2016</td>\n",
       "      <td>cherie 25</td>\n",
       "      <td>20.55</td>\n",
       "      <td>Double enquête</td>\n",
       "      <td>['telefilm</td>\n",
       "      <td>220 mn</td>\n",
       "      <td>2</td>\n",
       "      <td>-10 ans</td>\n",
       "      <td>00.25</td>\n",
       "      <td>Programmes de nuit</td>\n",
       "      <td>['magazine</td>\n",
       "      <td>335 mn</td>\n",
       "      <td>NA</td>\n",
       "      <td>NA</td>\n",
       "    </tr>\n",
       "  </tbody>\n",
       "</table>\n",
       "</div>"
      ],
      "text/plain": [
       "                    Date                  Chaîne Heure_prgm1  \\\n",
       "0   vendredi 27 mai 2016                     tf1       20.55   \n",
       "1   vendredi 27 mai 2016                france 2       20.55   \n",
       "2   vendredi 27 mai 2016                france 3       20.55   \n",
       "3   vendredi 27 mai 2016                 canal +       20.55   \n",
       "4   vendredi 27 mai 2016                france 5       20.45   \n",
       "5   vendredi 27 mai 2016                      m6       20.55   \n",
       "6   vendredi 27 mai 2016                    arte       20.55   \n",
       "7   vendredi 27 mai 2016                      c8       21.00   \n",
       "8   vendredi 27 mai 2016                      w9       20.55   \n",
       "9   vendredi 27 mai 2016                     tmc       20.55   \n",
       "10  vendredi 27 mai 2016                     tfx       20.55   \n",
       "11  vendredi 27 mai 2016                  nrj 12       20.55   \n",
       "12  vendredi 27 mai 2016   public senat - lcp an       20.30   \n",
       "13  vendredi 27 mai 2016                france 4       20.55   \n",
       "14  vendredi 27 mai 2016                  bfm tv       21.00   \n",
       "15  vendredi 27 mai 2016                   cnews       21.00   \n",
       "16  vendredi 27 mai 2016                   cstar       20.50   \n",
       "17  vendredi 27 mai 2016                   gulli       20.50   \n",
       "18  vendredi 27 mai 2016                france Ô       20.50   \n",
       "19  vendredi 27 mai 2016                    6ter       20.55   \n",
       "20  vendredi 27 mai 2016        tf1 séries films       20.50   \n",
       "21  vendredi 27 mai 2016                l'equipe       20.15   \n",
       "22  vendredi 27 mai 2016               rmc story       20.50   \n",
       "23  vendredi 27 mai 2016          rmc decouverte       20.50   \n",
       "24  vendredi 27 mai 2016               cherie 25       20.55   \n",
       "\n",
       "                                          Titre_prgm1  \\\n",
       "0                                           Koh-Lanta   \n",
       "1                                      Candice Renoir   \n",
       "2     Lama et Macias, leur incroyable destin croisé !   \n",
       "3                                             Ant-Man   \n",
       "4                                  La maison France 5   \n",
       "5                                                NCIS   \n",
       "6                             Les pieds dans le tapis   \n",
       "7   Du Schmilblick aux Restos du Coeur, la folle h...   \n",
       "8                                    Enquête d'action   \n",
       "9                                         Les experts   \n",
       "10                                        Super Nanny   \n",
       "11                                      Femmes de loi   \n",
       "12                      Chicago, vivre avec les gangs   \n",
       "13                         Les chroniques de Shannara   \n",
       "14                               L'histoire en direct   \n",
       "15                                               CQFD   \n",
       "16            American Pickers - Chasseurs de trésors   \n",
       "17                                     Pokémon : XY&Z   \n",
       "18                                Meurtres au paradis   \n",
       "19                                          Dinotopia   \n",
       "20                           À 10 minutes de la plage   \n",
       "21                                Les princes du ring   \n",
       "22                    Ink Master : maître vs apprenti   \n",
       "23                             La bataille de Jutland   \n",
       "24                                     Double enquête   \n",
       "\n",
       "                      Type_prgm1 Durée_prgm1 Nbre_épisodes_prgm1  \\\n",
       "0                          ['jeu      175 mn                  NA   \n",
       "1                     ['serie-tv      110 mn                  3    \n",
       "2                 ['documentaire      110 mn                  NA   \n",
       "3                         ['film      120 mn                  NA   \n",
       "4                     ['magazine       60 mn                  NA   \n",
       "5                     ['serie-tv      110 mn                  6    \n",
       "6                     ['telefilm       90 mn                  NA   \n",
       "7                 ['documentaire      120 mn                  NA   \n",
       "8                     ['magazine      240 mn                  3    \n",
       "9   ['serie-tv cat-selection-obs      110 mn                  5    \n",
       "10              ['divertissement      230 mn                  3    \n",
       "11                    ['serie-tv      230 mn                  3    \n",
       "12                ['documentaire       55 mn                  NA   \n",
       "13                    ['serie-tv       90 mn                  3    \n",
       "14                    ['magazine       60 mn                  NA   \n",
       "15                    ['magazine       60 mn                  NA   \n",
       "16                 ['telerealite      110 mn                  2    \n",
       "17                    ['serie-tv       50 mn                  4    \n",
       "18                    ['serie-tv      120 mn                  3    \n",
       "19                    ['telefilm      140 mn                  NA   \n",
       "20                    ['telefilm      100 mn                  NA   \n",
       "21                       ['sport      135 mn                  NA   \n",
       "22                 ['telerealite      110 mn                  4    \n",
       "23                ['documentaire       60 mn                  NA   \n",
       "24                    ['telefilm      220 mn                  2    \n",
       "\n",
       "   Age_conseillé_prgm1 Heure_prgm2  \\\n",
       "0                   NA       23.50   \n",
       "1                   NA       23.30   \n",
       "2                   NA       23.25   \n",
       "3                   NA       22.55   \n",
       "4                   NA       21.45   \n",
       "5              -10 ans          NA   \n",
       "6                   NA       22.25   \n",
       "7                   NA       23.00   \n",
       "8              -10 ans          NA   \n",
       "9              -12 ans          NA   \n",
       "10                  NA          NA   \n",
       "11                  NA          NA   \n",
       "12                  NA       22.00   \n",
       "13             -10 ans       23.10   \n",
       "14                  NA       22.00   \n",
       "15                  NA       22.00   \n",
       "16                  NA       22.35   \n",
       "17                  NA       00.10   \n",
       "18                  NA       23.45   \n",
       "19                  NA       23.15   \n",
       "20                  NA       22.30   \n",
       "21                  NA       22.30   \n",
       "22                  NA          NA   \n",
       "23                  NA       22.50   \n",
       "24             -10 ans       00.25   \n",
       "\n",
       "                                          Titre_prgm2  \\\n",
       "0                            L'Hebdo Show avec Arthur   \n",
       "1                                 Taratata 100 % Live   \n",
       "2               La folle histoire des caméras cachées   \n",
       "3                           Avengers : l'ère d'Ultron   \n",
       "4                                Silence, ça pousse !   \n",
       "5                                                NCIS   \n",
       "6                        Les superpouvoirs de l'urine   \n",
       "7                          De Funès : 100 ans de rire   \n",
       "8                                    Enquête d'action   \n",
       "9                                         Les experts   \n",
       "10                                        Super Nanny   \n",
       "11                                      Femmes de loi   \n",
       "12                               Bibliothèque Médicis   \n",
       "13                                          Teen Wolf   \n",
       "14                                    Week-end direct   \n",
       "15                                 Intégrale week-end   \n",
       "16             American Pickers- Chasseurs de trésors   \n",
       "17                          Total Wipeout made in USA   \n",
       "18                   Line of Duty : enquêtes internes   \n",
       "19                            Resto sous surveillance   \n",
       "20                                À trois c'est mieux   \n",
       "21                                   L'Équipe du soir   \n",
       "22                    Ink Master : maître vs apprenti   \n",
       "23  Naufrage du Lusitania : le tournant de la guer...   \n",
       "24                                 Programmes de nuit   \n",
       "\n",
       "                      Type_prgm2 Durée_prgm2 Nbre_épisodes_prgm2  \\\n",
       "0               ['divertissement      115 mn                  NA   \n",
       "1                     ['magazine      120 mn                  NA   \n",
       "2               ['divertissement      120 mn                  NA   \n",
       "3       ['film cat-selection-obs      135 mn                  NA   \n",
       "4                     ['magazine       50 mn                  NA   \n",
       "5                             NA          NA                  6    \n",
       "6                 ['documentaire       55 mn                  NA   \n",
       "7                 ['documentaire       95 mn                  NA   \n",
       "8                             NA          NA                  3    \n",
       "9                             NA          NA                  5    \n",
       "10                            NA          NA                  3    \n",
       "11                            NA          NA                  3    \n",
       "12                    ['magazine       60 mn                  NA   \n",
       "13  ['serie-tv cat-selection-obs       80 mn                  2    \n",
       "14                 ['information      120 mn                  NA   \n",
       "15                 ['information      120 mn                  NA   \n",
       "16                ['documentaire       55 mn                  NA   \n",
       "17              ['divertissement       50 mn                  NA   \n",
       "18                    ['serie-tv      120 mn                  2    \n",
       "19                ['documentaire      100 mn                  3    \n",
       "20                    ['telefilm      110 mn                  NA   \n",
       "21                    ['magazine       90 mn                  NA   \n",
       "22                            NA          NA                  4    \n",
       "23                ['documentaire       55 mn                  NA   \n",
       "24                    ['magazine      335 mn                  NA   \n",
       "\n",
       "   Age_conseillé_prgm2  \n",
       "0                   NA  \n",
       "1                   NA  \n",
       "2                   NA  \n",
       "3              -10 ans  \n",
       "4                   NA  \n",
       "5                   NA  \n",
       "6                   NA  \n",
       "7                   NA  \n",
       "8                   NA  \n",
       "9                   NA  \n",
       "10                  NA  \n",
       "11                  NA  \n",
       "12                  NA  \n",
       "13             -12 ans  \n",
       "14                  NA  \n",
       "15                  NA  \n",
       "16                  NA  \n",
       "17                  NA  \n",
       "18             -12 ans  \n",
       "19                  NA  \n",
       "20                  NA  \n",
       "21                  NA  \n",
       "22                  NA  \n",
       "23                  NA  \n",
       "24                  NA  "
      ]
     },
     "execution_count": 138,
     "metadata": {},
     "output_type": "execute_result"
    }
   ],
   "source": [
    "Data = pd.DataFrame({\"Date\": [], \"Chaîne\": [], \"Heure_prgm1\": [], \"Titre_prgm1\": [], \"Type_prgm1\": [],\n",
    "                    \"Durée_prgm1\": [], \"Nbre_épisodes_prgm1\": [], \"Age_conseillé_prgm1\": [], \"Heure_prgm2\": [],\n",
    "                     \"Titre_prgm2\": [], \"Type_prgm2\": [], \"Durée_prgm2\": [], \"Nbre_épisodes_prgm2\": [], \n",
    "                     \"Age_conseillé_prgm2\": []})\n",
    "[Data[\"Date\"],Data[\"Chaîne\"],Data[\"Heure_prgm1\"], Data[\"Titre_prgm1\"], Data[\"Type_prgm1\"], Data[\"Durée_prgm1\"],\n",
    "Data[\"Nbre_épisodes_prgm1\"],Data[\"Age_conseillé_prgm1\"], Data[\"Heure_prgm2\"], Data[\"Titre_prgm2\"], Data[\"Type_prgm2\"],\n",
    " Data[\"Durée_prgm2\"],Data[\"Nbre_épisodes_prgm2\"],Data[\"Age_conseillé_prgm2\"]] = [Date,\n",
    "                                                                                 Chaine, Heure1, Titre1, Type1,\n",
    "                                                                                 Durée1, Nbre1, Age1, Heure2, Titre2,\n",
    "                                                                                Type2, Durée2, Nbre2, Age2]\n",
    "Data"
   ]
  },
  {
   "cell_type": "code",
   "execution_count": null,
   "metadata": {},
   "outputs": [],
   "source": []
  },
  {
   "cell_type": "code",
   "execution_count": null,
   "metadata": {},
   "outputs": [],
   "source": []
  },
  {
   "cell_type": "code",
   "execution_count": null,
   "metadata": {},
   "outputs": [],
   "source": []
  },
  {
   "cell_type": "code",
   "execution_count": null,
   "metadata": {},
   "outputs": [],
   "source": []
  },
  {
   "cell_type": "code",
   "execution_count": null,
   "metadata": {},
   "outputs": [],
   "source": []
  },
  {
   "cell_type": "code",
   "execution_count": null,
   "metadata": {},
   "outputs": [],
   "source": []
  },
  {
   "cell_type": "code",
   "execution_count": null,
   "metadata": {},
   "outputs": [],
   "source": []
  }
 ],
 "metadata": {
  "kernelspec": {
   "display_name": "Python 3",
   "language": "python",
   "name": "python3"
  },
  "language_info": {
   "codemirror_mode": {
    "name": "ipython",
    "version": 3
   },
   "file_extension": ".py",
   "mimetype": "text/x-python",
   "name": "python",
   "nbconvert_exporter": "python",
   "pygments_lexer": "ipython3",
   "version": "3.6.5"
  }
 },
 "nbformat": 4,
 "nbformat_minor": 2
}
